{
  "nbformat": 4,
  "nbformat_minor": 0,
  "metadata": {
    "colab": {
      "name": "ConfidenceIntervals.ipynb",
      "provenance": [],
      "collapsed_sections": [],
      "toc_visible": true,
      "authorship_tag": "ABX9TyMWnGCN3+Y+SS7R2iGZpnf4",
      "include_colab_link": true
    },
    "kernelspec": {
      "name": "python3",
      "display_name": "Python 3"
    },
    "language_info": {
      "name": "python"
    },
    "widgets": {
      "application/vnd.jupyter.widget-state+json": {
        "c3e9b5bcdc0a49dcbbbe004516e2ae03": {
          "model_module": "@jupyter-widgets/controls",
          "model_name": "VBoxModel",
          "model_module_version": "1.5.0",
          "state": {
            "_dom_classes": [
              "widget-interact"
            ],
            "_model_module": "@jupyter-widgets/controls",
            "_model_module_version": "1.5.0",
            "_model_name": "VBoxModel",
            "_view_count": null,
            "_view_module": "@jupyter-widgets/controls",
            "_view_module_version": "1.5.0",
            "_view_name": "VBoxView",
            "box_style": "",
            "children": [
              "IPY_MODEL_6b38ff20378843b894c92ca63082c4c9",
              "IPY_MODEL_bf054a2828c04636b580fcf709eb50a1",
              "IPY_MODEL_afb3e73727314f118f74d7ee1f75c8e6"
            ],
            "layout": "IPY_MODEL_c1b95fec6f6a48b598432deaa8ac5418"
          }
        },
        "6b38ff20378843b894c92ca63082c4c9": {
          "model_module": "@jupyter-widgets/controls",
          "model_name": "IntSliderModel",
          "model_module_version": "1.5.0",
          "state": {
            "_dom_classes": [],
            "_model_module": "@jupyter-widgets/controls",
            "_model_module_version": "1.5.0",
            "_model_name": "IntSliderModel",
            "_view_count": null,
            "_view_module": "@jupyter-widgets/controls",
            "_view_module_version": "1.5.0",
            "_view_name": "IntSliderView",
            "continuous_update": true,
            "description": "mean",
            "description_tooltip": null,
            "disabled": false,
            "layout": "IPY_MODEL_143286e05d844ed698f8a7d73ca27db7",
            "max": 20,
            "min": 10,
            "orientation": "horizontal",
            "readout": true,
            "readout_format": "d",
            "step": 1,
            "style": "IPY_MODEL_61102af613484bd79575d5e5c46cd678",
            "value": 15
          }
        },
        "bf054a2828c04636b580fcf709eb50a1": {
          "model_module": "@jupyter-widgets/controls",
          "model_name": "FloatSliderModel",
          "model_module_version": "1.5.0",
          "state": {
            "_dom_classes": [],
            "_model_module": "@jupyter-widgets/controls",
            "_model_module_version": "1.5.0",
            "_model_name": "FloatSliderModel",
            "_view_count": null,
            "_view_module": "@jupyter-widgets/controls",
            "_view_module_version": "1.5.0",
            "_view_name": "FloatSliderView",
            "continuous_update": true,
            "description": "standarddev",
            "description_tooltip": null,
            "disabled": false,
            "layout": "IPY_MODEL_431b088e0b5c4bea9880d56b4a639eeb",
            "max": 1.5,
            "min": 0.5,
            "orientation": "horizontal",
            "readout": true,
            "readout_format": ".2f",
            "step": 0.1,
            "style": "IPY_MODEL_5a317b8f674947508962e6da6bf05bbb",
            "value": 1.5
          }
        },
        "afb3e73727314f118f74d7ee1f75c8e6": {
          "model_module": "@jupyter-widgets/output",
          "model_name": "OutputModel",
          "model_module_version": "1.0.0",
          "state": {
            "_dom_classes": [],
            "_model_module": "@jupyter-widgets/output",
            "_model_module_version": "1.0.0",
            "_model_name": "OutputModel",
            "_view_count": null,
            "_view_module": "@jupyter-widgets/output",
            "_view_module_version": "1.0.0",
            "_view_name": "OutputView",
            "layout": "IPY_MODEL_1d89f27609f44235b36e7f75c62b59ae",
            "msg_id": "",
            "outputs": [
              {
                "output_type": "display_data",
                "data": {
                  "text/plain": "<Figure size 432x288 with 1 Axes>",
                  "image/png": "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\n"
                },
                "metadata": {}
              }
            ]
          }
        },
        "c1b95fec6f6a48b598432deaa8ac5418": {
          "model_module": "@jupyter-widgets/base",
          "model_name": "LayoutModel",
          "model_module_version": "1.2.0",
          "state": {
            "_model_module": "@jupyter-widgets/base",
            "_model_module_version": "1.2.0",
            "_model_name": "LayoutModel",
            "_view_count": null,
            "_view_module": "@jupyter-widgets/base",
            "_view_module_version": "1.2.0",
            "_view_name": "LayoutView",
            "align_content": null,
            "align_items": null,
            "align_self": null,
            "border": null,
            "bottom": null,
            "display": null,
            "flex": null,
            "flex_flow": null,
            "grid_area": null,
            "grid_auto_columns": null,
            "grid_auto_flow": null,
            "grid_auto_rows": null,
            "grid_column": null,
            "grid_gap": null,
            "grid_row": null,
            "grid_template_areas": null,
            "grid_template_columns": null,
            "grid_template_rows": null,
            "height": null,
            "justify_content": null,
            "justify_items": null,
            "left": null,
            "margin": null,
            "max_height": null,
            "max_width": null,
            "min_height": null,
            "min_width": null,
            "object_fit": null,
            "object_position": null,
            "order": null,
            "overflow": null,
            "overflow_x": null,
            "overflow_y": null,
            "padding": null,
            "right": null,
            "top": null,
            "visibility": null,
            "width": null
          }
        },
        "143286e05d844ed698f8a7d73ca27db7": {
          "model_module": "@jupyter-widgets/base",
          "model_name": "LayoutModel",
          "model_module_version": "1.2.0",
          "state": {
            "_model_module": "@jupyter-widgets/base",
            "_model_module_version": "1.2.0",
            "_model_name": "LayoutModel",
            "_view_count": null,
            "_view_module": "@jupyter-widgets/base",
            "_view_module_version": "1.2.0",
            "_view_name": "LayoutView",
            "align_content": null,
            "align_items": null,
            "align_self": null,
            "border": null,
            "bottom": null,
            "display": null,
            "flex": null,
            "flex_flow": null,
            "grid_area": null,
            "grid_auto_columns": null,
            "grid_auto_flow": null,
            "grid_auto_rows": null,
            "grid_column": null,
            "grid_gap": null,
            "grid_row": null,
            "grid_template_areas": null,
            "grid_template_columns": null,
            "grid_template_rows": null,
            "height": null,
            "justify_content": null,
            "justify_items": null,
            "left": null,
            "margin": null,
            "max_height": null,
            "max_width": null,
            "min_height": null,
            "min_width": null,
            "object_fit": null,
            "object_position": null,
            "order": null,
            "overflow": null,
            "overflow_x": null,
            "overflow_y": null,
            "padding": null,
            "right": null,
            "top": null,
            "visibility": null,
            "width": null
          }
        },
        "61102af613484bd79575d5e5c46cd678": {
          "model_module": "@jupyter-widgets/controls",
          "model_name": "SliderStyleModel",
          "model_module_version": "1.5.0",
          "state": {
            "_model_module": "@jupyter-widgets/controls",
            "_model_module_version": "1.5.0",
            "_model_name": "SliderStyleModel",
            "_view_count": null,
            "_view_module": "@jupyter-widgets/base",
            "_view_module_version": "1.2.0",
            "_view_name": "StyleView",
            "description_width": "",
            "handle_color": null
          }
        },
        "431b088e0b5c4bea9880d56b4a639eeb": {
          "model_module": "@jupyter-widgets/base",
          "model_name": "LayoutModel",
          "model_module_version": "1.2.0",
          "state": {
            "_model_module": "@jupyter-widgets/base",
            "_model_module_version": "1.2.0",
            "_model_name": "LayoutModel",
            "_view_count": null,
            "_view_module": "@jupyter-widgets/base",
            "_view_module_version": "1.2.0",
            "_view_name": "LayoutView",
            "align_content": null,
            "align_items": null,
            "align_self": null,
            "border": null,
            "bottom": null,
            "display": null,
            "flex": null,
            "flex_flow": null,
            "grid_area": null,
            "grid_auto_columns": null,
            "grid_auto_flow": null,
            "grid_auto_rows": null,
            "grid_column": null,
            "grid_gap": null,
            "grid_row": null,
            "grid_template_areas": null,
            "grid_template_columns": null,
            "grid_template_rows": null,
            "height": null,
            "justify_content": null,
            "justify_items": null,
            "left": null,
            "margin": null,
            "max_height": null,
            "max_width": null,
            "min_height": null,
            "min_width": null,
            "object_fit": null,
            "object_position": null,
            "order": null,
            "overflow": null,
            "overflow_x": null,
            "overflow_y": null,
            "padding": null,
            "right": null,
            "top": null,
            "visibility": null,
            "width": null
          }
        },
        "5a317b8f674947508962e6da6bf05bbb": {
          "model_module": "@jupyter-widgets/controls",
          "model_name": "SliderStyleModel",
          "model_module_version": "1.5.0",
          "state": {
            "_model_module": "@jupyter-widgets/controls",
            "_model_module_version": "1.5.0",
            "_model_name": "SliderStyleModel",
            "_view_count": null,
            "_view_module": "@jupyter-widgets/base",
            "_view_module_version": "1.2.0",
            "_view_name": "StyleView",
            "description_width": "",
            "handle_color": null
          }
        },
        "1d89f27609f44235b36e7f75c62b59ae": {
          "model_module": "@jupyter-widgets/base",
          "model_name": "LayoutModel",
          "model_module_version": "1.2.0",
          "state": {
            "_model_module": "@jupyter-widgets/base",
            "_model_module_version": "1.2.0",
            "_model_name": "LayoutModel",
            "_view_count": null,
            "_view_module": "@jupyter-widgets/base",
            "_view_module_version": "1.2.0",
            "_view_name": "LayoutView",
            "align_content": null,
            "align_items": null,
            "align_self": null,
            "border": null,
            "bottom": null,
            "display": null,
            "flex": null,
            "flex_flow": null,
            "grid_area": null,
            "grid_auto_columns": null,
            "grid_auto_flow": null,
            "grid_auto_rows": null,
            "grid_column": null,
            "grid_gap": null,
            "grid_row": null,
            "grid_template_areas": null,
            "grid_template_columns": null,
            "grid_template_rows": null,
            "height": null,
            "justify_content": null,
            "justify_items": null,
            "left": null,
            "margin": null,
            "max_height": null,
            "max_width": null,
            "min_height": null,
            "min_width": null,
            "object_fit": null,
            "object_position": null,
            "order": null,
            "overflow": null,
            "overflow_x": null,
            "overflow_y": null,
            "padding": null,
            "right": null,
            "top": null,
            "visibility": null,
            "width": null
          }
        }
      }
    }
  },
  "cells": [
    {
      "cell_type": "markdown",
      "metadata": {
        "id": "view-in-github",
        "colab_type": "text"
      },
      "source": [
        "<a href=\"https://colab.research.google.com/github/clint-bg/tools/blob/main/ConfidenceIntervals.ipynb\" target=\"_parent\"><img src=\"https://colab.research.google.com/assets/colab-badge.svg\" alt=\"Open In Colab\"/></a>"
      ]
    },
    {
      "cell_type": "markdown",
      "source": [
        "# Confidence Intervals\n",
        "This sheet attempts to explain the difference between **confidence intervals on the mean** or average of an observation and **confidence intervals on a parameter** that is used in a model to predict a response."
      ],
      "metadata": {
        "id": "EmxRpnz261VN"
      }
    },
    {
      "cell_type": "markdown",
      "source": [
        "## Confidence Interval on the Mean or Average of Observations\n",
        "Observations are made ubiquitously with the increasing documentation and recording of those observations driving much of the artificial intelligence that uses those observations to make predictions. \n",
        "\n",
        "The confidence interval on the average or mean of those quantified observations can depend on the distribution from which those obserservations are made. The Central Limit theorem establishes that the methods used for statistical conclusions based on the normal distribution can usually be applied to scenarios that may not be generated from a normal distribution. It is assumed to be so in the discussion here."
      ],
      "metadata": {
        "id": "6sNFCjsV7RSl"
      }
    },
    {
      "cell_type": "code",
      "source": [
        "from ipywidgets import interact\n",
        "import matplotlib.pyplot as plt\n",
        "import seaborn as sns; sns.set_theme()\n",
        "import numpy as np\n",
        "import pandas as pd"
      ],
      "metadata": {
        "id": "_Etmz7C37JmB"
      },
      "execution_count": 19,
      "outputs": []
    },
    {
      "cell_type": "code",
      "source": [
        "def normaldist(x,mu,stddev):\n",
        "  return 1/(stddev*np.sqrt(2*np.pi))*np.exp(-0.5*((x-mu)/stddev)**2)"
      ],
      "metadata": {
        "id": "12tTCrGZOXsx"
      },
      "execution_count": 20,
      "outputs": []
    },
    {
      "cell_type": "code",
      "source": [
        "@interact(mean=(10,20),standarddev=(0.5,1.5))\n",
        "def normalplot(mean,standarddev):\n",
        "  xlin =  np.linspace(mean-4*standarddev, mean+4*standarddev, 100)\n",
        "  ylin = normaldist(xlin,mean,standarddev)\n",
        "  plt.plot(xlin, ylin, 'r', label='Normal Distribution'); \n",
        "  plt.xlabel(\"mean\"); plt.ylabel(\"probability\")\n",
        "  plt.xlim(0,30); plt.ylim(0,1)\n",
        "  plt.legend(); plt.show()\n"
      ],
      "metadata": {
        "colab": {
          "base_uri": "https://localhost:8080/",
          "height": 353,
          "referenced_widgets": [
            "c3e9b5bcdc0a49dcbbbe004516e2ae03",
            "6b38ff20378843b894c92ca63082c4c9",
            "bf054a2828c04636b580fcf709eb50a1",
            "afb3e73727314f118f74d7ee1f75c8e6",
            "c1b95fec6f6a48b598432deaa8ac5418",
            "143286e05d844ed698f8a7d73ca27db7",
            "61102af613484bd79575d5e5c46cd678",
            "431b088e0b5c4bea9880d56b4a639eeb",
            "5a317b8f674947508962e6da6bf05bbb",
            "1d89f27609f44235b36e7f75c62b59ae"
          ]
        },
        "id": "t1mA81CCB2Dx",
        "outputId": "68401878-75d5-4992-f9e4-ba46e11ba6bf"
      },
      "execution_count": 27,
      "outputs": [
        {
          "output_type": "display_data",
          "data": {
            "text/plain": [
              "interactive(children=(IntSlider(value=15, description='mean', max=20, min=10), FloatSlider(value=1.0, descript…"
            ],
            "application/vnd.jupyter.widget-view+json": {
              "version_major": 2,
              "version_minor": 0,
              "model_id": "c3e9b5bcdc0a49dcbbbe004516e2ae03"
            }
          },
          "metadata": {}
        }
      ]
    },
    {
      "cell_type": "code",
      "source": [
        "np.linspace(0,20,100)"
      ],
      "metadata": {
        "colab": {
          "base_uri": "https://localhost:8080/"
        },
        "id": "h1-uSYyuDZqw",
        "outputId": "55ec8f3f-570c-454c-9080-5237e950e05f"
      },
      "execution_count": 17,
      "outputs": [
        {
          "output_type": "execute_result",
          "data": {
            "text/plain": [
              "array([ 0.        ,  0.2020202 ,  0.4040404 ,  0.60606061,  0.80808081,\n",
              "        1.01010101,  1.21212121,  1.41414141,  1.61616162,  1.81818182,\n",
              "        2.02020202,  2.22222222,  2.42424242,  2.62626263,  2.82828283,\n",
              "        3.03030303,  3.23232323,  3.43434343,  3.63636364,  3.83838384,\n",
              "        4.04040404,  4.24242424,  4.44444444,  4.64646465,  4.84848485,\n",
              "        5.05050505,  5.25252525,  5.45454545,  5.65656566,  5.85858586,\n",
              "        6.06060606,  6.26262626,  6.46464646,  6.66666667,  6.86868687,\n",
              "        7.07070707,  7.27272727,  7.47474747,  7.67676768,  7.87878788,\n",
              "        8.08080808,  8.28282828,  8.48484848,  8.68686869,  8.88888889,\n",
              "        9.09090909,  9.29292929,  9.49494949,  9.6969697 ,  9.8989899 ,\n",
              "       10.1010101 , 10.3030303 , 10.50505051, 10.70707071, 10.90909091,\n",
              "       11.11111111, 11.31313131, 11.51515152, 11.71717172, 11.91919192,\n",
              "       12.12121212, 12.32323232, 12.52525253, 12.72727273, 12.92929293,\n",
              "       13.13131313, 13.33333333, 13.53535354, 13.73737374, 13.93939394,\n",
              "       14.14141414, 14.34343434, 14.54545455, 14.74747475, 14.94949495,\n",
              "       15.15151515, 15.35353535, 15.55555556, 15.75757576, 15.95959596,\n",
              "       16.16161616, 16.36363636, 16.56565657, 16.76767677, 16.96969697,\n",
              "       17.17171717, 17.37373737, 17.57575758, 17.77777778, 17.97979798,\n",
              "       18.18181818, 18.38383838, 18.58585859, 18.78787879, 18.98989899,\n",
              "       19.19191919, 19.39393939, 19.5959596 , 19.7979798 , 20.        ])"
            ]
          },
          "metadata": {},
          "execution_count": 17
        }
      ]
    },
    {
      "cell_type": "code",
      "source": [
        ""
      ],
      "metadata": {
        "id": "YZb2Fj69O_mY"
      },
      "execution_count": null,
      "outputs": []
    }
  ]
}