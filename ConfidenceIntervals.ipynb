{
  "nbformat": 4,
  "nbformat_minor": 0,
  "metadata": {
    "colab": {
      "name": "ConfidenceIntervals.ipynb",
      "provenance": [],
      "collapsed_sections": [],
      "toc_visible": true,
      "authorship_tag": "ABX9TyPTDm3uUpyVrHDXvrk6YgAE",
      "include_colab_link": true
    },
    "kernelspec": {
      "name": "python3",
      "display_name": "Python 3"
    },
    "language_info": {
      "name": "python"
    },
    "widgets": {
      "application/vnd.jupyter.widget-state+json": {
        "959b1403ff3e43119dcd16df6e5130fe": {
          "model_module": "@jupyter-widgets/controls",
          "model_name": "VBoxModel",
          "model_module_version": "1.5.0",
          "state": {
            "_dom_classes": [
              "widget-interact"
            ],
            "_model_module": "@jupyter-widgets/controls",
            "_model_module_version": "1.5.0",
            "_model_name": "VBoxModel",
            "_view_count": null,
            "_view_module": "@jupyter-widgets/controls",
            "_view_module_version": "1.5.0",
            "_view_name": "VBoxView",
            "box_style": "",
            "children": [
              "IPY_MODEL_45504525828649cfa3f7a77107630fe4",
              "IPY_MODEL_fd351164e2c34c108b23a133c6b4ad97"
            ],
            "layout": "IPY_MODEL_46e1b251ae4940f7baffc99f385de4f5"
          }
        },
        "45504525828649cfa3f7a77107630fe4": {
          "model_module": "@jupyter-widgets/controls",
          "model_name": "IntSliderModel",
          "model_module_version": "1.5.0",
          "state": {
            "_dom_classes": [],
            "_model_module": "@jupyter-widgets/controls",
            "_model_module_version": "1.5.0",
            "_model_name": "IntSliderModel",
            "_view_count": null,
            "_view_module": "@jupyter-widgets/controls",
            "_view_module_version": "1.5.0",
            "_view_name": "IntSliderView",
            "continuous_update": true,
            "description": "n",
            "description_tooltip": null,
            "disabled": false,
            "layout": "IPY_MODEL_774cf230f509461ea72de99c03d5c7a8",
            "max": 500,
            "min": 5,
            "orientation": "horizontal",
            "readout": true,
            "readout_format": "d",
            "step": 1,
            "style": "IPY_MODEL_b972b108287a4879bc8bb9004982d244",
            "value": 252
          }
        },
        "fd351164e2c34c108b23a133c6b4ad97": {
          "model_module": "@jupyter-widgets/output",
          "model_name": "OutputModel",
          "model_module_version": "1.0.0",
          "state": {
            "_dom_classes": [],
            "_model_module": "@jupyter-widgets/output",
            "_model_module_version": "1.0.0",
            "_model_name": "OutputModel",
            "_view_count": null,
            "_view_module": "@jupyter-widgets/output",
            "_view_module_version": "1.0.0",
            "_view_name": "OutputView",
            "layout": "IPY_MODEL_1b7ffdcc448d4278a940724cc82ba943",
            "msg_id": "",
            "outputs": [
              {
                "output_type": "stream",
                "name": "stdout",
                "text": [
                  "The mean is 77.8 +/- 0.2 with standard deviation of 1.9\n"
                ]
              }
            ]
          }
        },
        "46e1b251ae4940f7baffc99f385de4f5": {
          "model_module": "@jupyter-widgets/base",
          "model_name": "LayoutModel",
          "model_module_version": "1.2.0",
          "state": {
            "_model_module": "@jupyter-widgets/base",
            "_model_module_version": "1.2.0",
            "_model_name": "LayoutModel",
            "_view_count": null,
            "_view_module": "@jupyter-widgets/base",
            "_view_module_version": "1.2.0",
            "_view_name": "LayoutView",
            "align_content": null,
            "align_items": null,
            "align_self": null,
            "border": null,
            "bottom": null,
            "display": null,
            "flex": null,
            "flex_flow": null,
            "grid_area": null,
            "grid_auto_columns": null,
            "grid_auto_flow": null,
            "grid_auto_rows": null,
            "grid_column": null,
            "grid_gap": null,
            "grid_row": null,
            "grid_template_areas": null,
            "grid_template_columns": null,
            "grid_template_rows": null,
            "height": null,
            "justify_content": null,
            "justify_items": null,
            "left": null,
            "margin": null,
            "max_height": null,
            "max_width": null,
            "min_height": null,
            "min_width": null,
            "object_fit": null,
            "object_position": null,
            "order": null,
            "overflow": null,
            "overflow_x": null,
            "overflow_y": null,
            "padding": null,
            "right": null,
            "top": null,
            "visibility": null,
            "width": null
          }
        },
        "774cf230f509461ea72de99c03d5c7a8": {
          "model_module": "@jupyter-widgets/base",
          "model_name": "LayoutModel",
          "model_module_version": "1.2.0",
          "state": {
            "_model_module": "@jupyter-widgets/base",
            "_model_module_version": "1.2.0",
            "_model_name": "LayoutModel",
            "_view_count": null,
            "_view_module": "@jupyter-widgets/base",
            "_view_module_version": "1.2.0",
            "_view_name": "LayoutView",
            "align_content": null,
            "align_items": null,
            "align_self": null,
            "border": null,
            "bottom": null,
            "display": null,
            "flex": null,
            "flex_flow": null,
            "grid_area": null,
            "grid_auto_columns": null,
            "grid_auto_flow": null,
            "grid_auto_rows": null,
            "grid_column": null,
            "grid_gap": null,
            "grid_row": null,
            "grid_template_areas": null,
            "grid_template_columns": null,
            "grid_template_rows": null,
            "height": null,
            "justify_content": null,
            "justify_items": null,
            "left": null,
            "margin": null,
            "max_height": null,
            "max_width": null,
            "min_height": null,
            "min_width": null,
            "object_fit": null,
            "object_position": null,
            "order": null,
            "overflow": null,
            "overflow_x": null,
            "overflow_y": null,
            "padding": null,
            "right": null,
            "top": null,
            "visibility": null,
            "width": null
          }
        },
        "b972b108287a4879bc8bb9004982d244": {
          "model_module": "@jupyter-widgets/controls",
          "model_name": "SliderStyleModel",
          "model_module_version": "1.5.0",
          "state": {
            "_model_module": "@jupyter-widgets/controls",
            "_model_module_version": "1.5.0",
            "_model_name": "SliderStyleModel",
            "_view_count": null,
            "_view_module": "@jupyter-widgets/base",
            "_view_module_version": "1.2.0",
            "_view_name": "StyleView",
            "description_width": "",
            "handle_color": null
          }
        },
        "1b7ffdcc448d4278a940724cc82ba943": {
          "model_module": "@jupyter-widgets/base",
          "model_name": "LayoutModel",
          "model_module_version": "1.2.0",
          "state": {
            "_model_module": "@jupyter-widgets/base",
            "_model_module_version": "1.2.0",
            "_model_name": "LayoutModel",
            "_view_count": null,
            "_view_module": "@jupyter-widgets/base",
            "_view_module_version": "1.2.0",
            "_view_name": "LayoutView",
            "align_content": null,
            "align_items": null,
            "align_self": null,
            "border": null,
            "bottom": null,
            "display": null,
            "flex": null,
            "flex_flow": null,
            "grid_area": null,
            "grid_auto_columns": null,
            "grid_auto_flow": null,
            "grid_auto_rows": null,
            "grid_column": null,
            "grid_gap": null,
            "grid_row": null,
            "grid_template_areas": null,
            "grid_template_columns": null,
            "grid_template_rows": null,
            "height": null,
            "justify_content": null,
            "justify_items": null,
            "left": null,
            "margin": null,
            "max_height": null,
            "max_width": null,
            "min_height": null,
            "min_width": null,
            "object_fit": null,
            "object_position": null,
            "order": null,
            "overflow": null,
            "overflow_x": null,
            "overflow_y": null,
            "padding": null,
            "right": null,
            "top": null,
            "visibility": null,
            "width": null
          }
        },
        "7e3775b7f9ac464a86edb4864e5beca6": {
          "model_module": "@jupyter-widgets/controls",
          "model_name": "VBoxModel",
          "model_module_version": "1.5.0",
          "state": {
            "_dom_classes": [
              "widget-interact"
            ],
            "_model_module": "@jupyter-widgets/controls",
            "_model_module_version": "1.5.0",
            "_model_name": "VBoxModel",
            "_view_count": null,
            "_view_module": "@jupyter-widgets/controls",
            "_view_module_version": "1.5.0",
            "_view_name": "VBoxView",
            "box_style": "",
            "children": [
              "IPY_MODEL_783fa5d0a71d4f1aa19c7c6f4640de06",
              "IPY_MODEL_5242a073733d4a728522190174a4b8ca",
              "IPY_MODEL_1d70f6a59f1045adba8f046d6715283d",
              "IPY_MODEL_5d530389d6454b75b060bfa58ebad1d2"
            ],
            "layout": "IPY_MODEL_564cfc72c2e54b3e8fae16be1220ddf2"
          }
        },
        "783fa5d0a71d4f1aa19c7c6f4640de06": {
          "model_module": "@jupyter-widgets/controls",
          "model_name": "IntSliderModel",
          "model_module_version": "1.5.0",
          "state": {
            "_dom_classes": [],
            "_model_module": "@jupyter-widgets/controls",
            "_model_module_version": "1.5.0",
            "_model_name": "IntSliderModel",
            "_view_count": null,
            "_view_module": "@jupyter-widgets/controls",
            "_view_module_version": "1.5.0",
            "_view_name": "IntSliderView",
            "continuous_update": true,
            "description": "mean",
            "description_tooltip": null,
            "disabled": false,
            "layout": "IPY_MODEL_77ffae0b1bd14dc0a377d09442165442",
            "max": 80,
            "min": 60,
            "orientation": "horizontal",
            "readout": true,
            "readout_format": "d",
            "step": 1,
            "style": "IPY_MODEL_e23beeec03c94152bfe197e70e9e181f",
            "value": 70
          }
        },
        "5242a073733d4a728522190174a4b8ca": {
          "model_module": "@jupyter-widgets/controls",
          "model_name": "FloatSliderModel",
          "model_module_version": "1.5.0",
          "state": {
            "_dom_classes": [],
            "_model_module": "@jupyter-widgets/controls",
            "_model_module_version": "1.5.0",
            "_model_name": "FloatSliderModel",
            "_view_count": null,
            "_view_module": "@jupyter-widgets/controls",
            "_view_module_version": "1.5.0",
            "_view_name": "FloatSliderView",
            "continuous_update": true,
            "description": "standarddev",
            "description_tooltip": null,
            "disabled": false,
            "layout": "IPY_MODEL_4a6e5823ce8148c6aa058de2458aea87",
            "max": 1.5,
            "min": 0.5,
            "orientation": "horizontal",
            "readout": true,
            "readout_format": ".2f",
            "step": 0.1,
            "style": "IPY_MODEL_55e82324f5c24b73952b0340427c77bd",
            "value": 1
          }
        },
        "1d70f6a59f1045adba8f046d6715283d": {
          "model_module": "@jupyter-widgets/controls",
          "model_name": "IntSliderModel",
          "model_module_version": "1.5.0",
          "state": {
            "_dom_classes": [],
            "_model_module": "@jupyter-widgets/controls",
            "_model_module_version": "1.5.0",
            "_model_name": "IntSliderModel",
            "_view_count": null,
            "_view_module": "@jupyter-widgets/controls",
            "_view_module_version": "1.5.0",
            "_view_name": "IntSliderView",
            "continuous_update": true,
            "description": "df",
            "description_tooltip": null,
            "disabled": false,
            "layout": "IPY_MODEL_2bcd6c1580414c8ea3538100e3fdbf9a",
            "max": 10,
            "min": 1,
            "orientation": "horizontal",
            "readout": true,
            "readout_format": "d",
            "step": 1,
            "style": "IPY_MODEL_f794dadd347841ebae5d5014f85915a8",
            "value": 5
          }
        },
        "5d530389d6454b75b060bfa58ebad1d2": {
          "model_module": "@jupyter-widgets/output",
          "model_name": "OutputModel",
          "model_module_version": "1.0.0",
          "state": {
            "_dom_classes": [],
            "_model_module": "@jupyter-widgets/output",
            "_model_module_version": "1.0.0",
            "_model_name": "OutputModel",
            "_view_count": null,
            "_view_module": "@jupyter-widgets/output",
            "_view_module_version": "1.0.0",
            "_view_name": "OutputView",
            "layout": "IPY_MODEL_d998e5daf9cf4c84acb96be66bd3d0e7",
            "msg_id": "",
            "outputs": [
              {
                "output_type": "display_data",
                "data": {
                  "text/plain": "<Figure size 432x288 with 1 Axes>",
                  "image/png": "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\n"
                },
                "metadata": {}
              }
            ]
          }
        },
        "564cfc72c2e54b3e8fae16be1220ddf2": {
          "model_module": "@jupyter-widgets/base",
          "model_name": "LayoutModel",
          "model_module_version": "1.2.0",
          "state": {
            "_model_module": "@jupyter-widgets/base",
            "_model_module_version": "1.2.0",
            "_model_name": "LayoutModel",
            "_view_count": null,
            "_view_module": "@jupyter-widgets/base",
            "_view_module_version": "1.2.0",
            "_view_name": "LayoutView",
            "align_content": null,
            "align_items": null,
            "align_self": null,
            "border": null,
            "bottom": null,
            "display": null,
            "flex": null,
            "flex_flow": null,
            "grid_area": null,
            "grid_auto_columns": null,
            "grid_auto_flow": null,
            "grid_auto_rows": null,
            "grid_column": null,
            "grid_gap": null,
            "grid_row": null,
            "grid_template_areas": null,
            "grid_template_columns": null,
            "grid_template_rows": null,
            "height": null,
            "justify_content": null,
            "justify_items": null,
            "left": null,
            "margin": null,
            "max_height": null,
            "max_width": null,
            "min_height": null,
            "min_width": null,
            "object_fit": null,
            "object_position": null,
            "order": null,
            "overflow": null,
            "overflow_x": null,
            "overflow_y": null,
            "padding": null,
            "right": null,
            "top": null,
            "visibility": null,
            "width": null
          }
        },
        "77ffae0b1bd14dc0a377d09442165442": {
          "model_module": "@jupyter-widgets/base",
          "model_name": "LayoutModel",
          "model_module_version": "1.2.0",
          "state": {
            "_model_module": "@jupyter-widgets/base",
            "_model_module_version": "1.2.0",
            "_model_name": "LayoutModel",
            "_view_count": null,
            "_view_module": "@jupyter-widgets/base",
            "_view_module_version": "1.2.0",
            "_view_name": "LayoutView",
            "align_content": null,
            "align_items": null,
            "align_self": null,
            "border": null,
            "bottom": null,
            "display": null,
            "flex": null,
            "flex_flow": null,
            "grid_area": null,
            "grid_auto_columns": null,
            "grid_auto_flow": null,
            "grid_auto_rows": null,
            "grid_column": null,
            "grid_gap": null,
            "grid_row": null,
            "grid_template_areas": null,
            "grid_template_columns": null,
            "grid_template_rows": null,
            "height": null,
            "justify_content": null,
            "justify_items": null,
            "left": null,
            "margin": null,
            "max_height": null,
            "max_width": null,
            "min_height": null,
            "min_width": null,
            "object_fit": null,
            "object_position": null,
            "order": null,
            "overflow": null,
            "overflow_x": null,
            "overflow_y": null,
            "padding": null,
            "right": null,
            "top": null,
            "visibility": null,
            "width": null
          }
        },
        "e23beeec03c94152bfe197e70e9e181f": {
          "model_module": "@jupyter-widgets/controls",
          "model_name": "SliderStyleModel",
          "model_module_version": "1.5.0",
          "state": {
            "_model_module": "@jupyter-widgets/controls",
            "_model_module_version": "1.5.0",
            "_model_name": "SliderStyleModel",
            "_view_count": null,
            "_view_module": "@jupyter-widgets/base",
            "_view_module_version": "1.2.0",
            "_view_name": "StyleView",
            "description_width": "",
            "handle_color": null
          }
        },
        "4a6e5823ce8148c6aa058de2458aea87": {
          "model_module": "@jupyter-widgets/base",
          "model_name": "LayoutModel",
          "model_module_version": "1.2.0",
          "state": {
            "_model_module": "@jupyter-widgets/base",
            "_model_module_version": "1.2.0",
            "_model_name": "LayoutModel",
            "_view_count": null,
            "_view_module": "@jupyter-widgets/base",
            "_view_module_version": "1.2.0",
            "_view_name": "LayoutView",
            "align_content": null,
            "align_items": null,
            "align_self": null,
            "border": null,
            "bottom": null,
            "display": null,
            "flex": null,
            "flex_flow": null,
            "grid_area": null,
            "grid_auto_columns": null,
            "grid_auto_flow": null,
            "grid_auto_rows": null,
            "grid_column": null,
            "grid_gap": null,
            "grid_row": null,
            "grid_template_areas": null,
            "grid_template_columns": null,
            "grid_template_rows": null,
            "height": null,
            "justify_content": null,
            "justify_items": null,
            "left": null,
            "margin": null,
            "max_height": null,
            "max_width": null,
            "min_height": null,
            "min_width": null,
            "object_fit": null,
            "object_position": null,
            "order": null,
            "overflow": null,
            "overflow_x": null,
            "overflow_y": null,
            "padding": null,
            "right": null,
            "top": null,
            "visibility": null,
            "width": null
          }
        },
        "55e82324f5c24b73952b0340427c77bd": {
          "model_module": "@jupyter-widgets/controls",
          "model_name": "SliderStyleModel",
          "model_module_version": "1.5.0",
          "state": {
            "_model_module": "@jupyter-widgets/controls",
            "_model_module_version": "1.5.0",
            "_model_name": "SliderStyleModel",
            "_view_count": null,
            "_view_module": "@jupyter-widgets/base",
            "_view_module_version": "1.2.0",
            "_view_name": "StyleView",
            "description_width": "",
            "handle_color": null
          }
        },
        "2bcd6c1580414c8ea3538100e3fdbf9a": {
          "model_module": "@jupyter-widgets/base",
          "model_name": "LayoutModel",
          "model_module_version": "1.2.0",
          "state": {
            "_model_module": "@jupyter-widgets/base",
            "_model_module_version": "1.2.0",
            "_model_name": "LayoutModel",
            "_view_count": null,
            "_view_module": "@jupyter-widgets/base",
            "_view_module_version": "1.2.0",
            "_view_name": "LayoutView",
            "align_content": null,
            "align_items": null,
            "align_self": null,
            "border": null,
            "bottom": null,
            "display": null,
            "flex": null,
            "flex_flow": null,
            "grid_area": null,
            "grid_auto_columns": null,
            "grid_auto_flow": null,
            "grid_auto_rows": null,
            "grid_column": null,
            "grid_gap": null,
            "grid_row": null,
            "grid_template_areas": null,
            "grid_template_columns": null,
            "grid_template_rows": null,
            "height": null,
            "justify_content": null,
            "justify_items": null,
            "left": null,
            "margin": null,
            "max_height": null,
            "max_width": null,
            "min_height": null,
            "min_width": null,
            "object_fit": null,
            "object_position": null,
            "order": null,
            "overflow": null,
            "overflow_x": null,
            "overflow_y": null,
            "padding": null,
            "right": null,
            "top": null,
            "visibility": null,
            "width": null
          }
        },
        "f794dadd347841ebae5d5014f85915a8": {
          "model_module": "@jupyter-widgets/controls",
          "model_name": "SliderStyleModel",
          "model_module_version": "1.5.0",
          "state": {
            "_model_module": "@jupyter-widgets/controls",
            "_model_module_version": "1.5.0",
            "_model_name": "SliderStyleModel",
            "_view_count": null,
            "_view_module": "@jupyter-widgets/base",
            "_view_module_version": "1.2.0",
            "_view_name": "StyleView",
            "description_width": "",
            "handle_color": null
          }
        },
        "d998e5daf9cf4c84acb96be66bd3d0e7": {
          "model_module": "@jupyter-widgets/base",
          "model_name": "LayoutModel",
          "model_module_version": "1.2.0",
          "state": {
            "_model_module": "@jupyter-widgets/base",
            "_model_module_version": "1.2.0",
            "_model_name": "LayoutModel",
            "_view_count": null,
            "_view_module": "@jupyter-widgets/base",
            "_view_module_version": "1.2.0",
            "_view_name": "LayoutView",
            "align_content": null,
            "align_items": null,
            "align_self": null,
            "border": null,
            "bottom": null,
            "display": null,
            "flex": null,
            "flex_flow": null,
            "grid_area": null,
            "grid_auto_columns": null,
            "grid_auto_flow": null,
            "grid_auto_rows": null,
            "grid_column": null,
            "grid_gap": null,
            "grid_row": null,
            "grid_template_areas": null,
            "grid_template_columns": null,
            "grid_template_rows": null,
            "height": null,
            "justify_content": null,
            "justify_items": null,
            "left": null,
            "margin": null,
            "max_height": null,
            "max_width": null,
            "min_height": null,
            "min_width": null,
            "object_fit": null,
            "object_position": null,
            "order": null,
            "overflow": null,
            "overflow_x": null,
            "overflow_y": null,
            "padding": null,
            "right": null,
            "top": null,
            "visibility": null,
            "width": null
          }
        }
      }
    }
  },
  "cells": [
    {
      "cell_type": "markdown",
      "metadata": {
        "id": "view-in-github",
        "colab_type": "text"
      },
      "source": [
        "<a href=\"https://colab.research.google.com/github/clint-bg/tools/blob/main/ConfidenceIntervals.ipynb\" target=\"_parent\"><img src=\"https://colab.research.google.com/assets/colab-badge.svg\" alt=\"Open In Colab\"/></a>"
      ]
    },
    {
      "cell_type": "markdown",
      "source": [
        "# Confidence Intervals\n",
        "This sheet attempts to explain the difference between **confidence intervals on the mean** of a population (observations from a given process) and **confidence intervals on a model parameter** used to predict a response.\n",
        "\n",
        "In practical terms, when evaluating observed measurements, I view the confidence interval on the mean of that data as how well I know that average value and thus I could assess if I need to take more data. \n",
        "\n",
        "In contrast, when looking at a parameter used in a model, the confidence interval on that parameter is related to how important that parameter is on the predicted outcome.\n",
        "\n",
        "-Clint Guymon, BYU Chemical Engineering Department, July 2022"
      ],
      "metadata": {
        "id": "EmxRpnz261VN"
      }
    },
    {
      "cell_type": "code",
      "source": [
        "#import needed packages\n",
        "from ipywidgets import interact\n",
        "import matplotlib.pyplot as plt\n",
        "import seaborn as sns; sns.set_theme()\n",
        "import numpy as np\n",
        "import pandas as pd\n",
        "from scipy.stats import t,f #import Student t distribution methods\n",
        "from scipy.optimize import fsolve,minimize #sse minimizer, could use gekko "
      ],
      "metadata": {
        "id": "_Etmz7C37JmB"
      },
      "execution_count": 1,
      "outputs": []
    },
    {
      "cell_type": "markdown",
      "source": [
        "## Confidence Interval on the Mean of Observations\n",
        "Observations are made ubiquitously with the increasing documentation and recording of those observations driving much of the artificial intelligence that uses those observations to make predictions. \n",
        "\n",
        "The confidence interval on the average or mean of those quantified observations can depend on the distribution from which those obserservations are made. The **Central Limit Theorem** establishes that the methods used for statistical conclusions based on the normal distribution can usually be applied to scenarios that may not be generated from a normal distribution given they are evaluated by their average. It is assumed to be so in the discussion here."
      ],
      "metadata": {
        "id": "6sNFCjsV7RSl"
      }
    },
    {
      "cell_type": "markdown",
      "source": [
        "### Example\n",
        "Suppose I'm measuring the outlet temperature of a heat exchanger and I have the following data\n",
        "\n",
        "*  What is the average or mean outlet temperature? \n",
        "*  What is the confidence interval on that average outlet temperature?\n",
        "*  How much better would you know the mean if instead of the relatively small sample of temperatures you took, you took many more? Or, what would your confidence interval on the mean be with many more recorded observations?"
      ],
      "metadata": {
        "id": "qI7x7Nd4Rpdc"
      }
    },
    {
      "cell_type": "code",
      "source": [
        "initialtemps = [75.2,80.1,76.8,78.4,79.0]"
      ],
      "metadata": {
        "id": "seIaO0pZVWgL"
      },
      "execution_count": 2,
      "outputs": []
    },
    {
      "cell_type": "markdown",
      "source": [
        "#### Average or Mean Outlet Temperature"
      ],
      "metadata": {
        "id": "JKuXwtYvXKpQ"
      }
    },
    {
      "cell_type": "code",
      "source": [
        "meantemperature = np.mean(initialtemps)"
      ],
      "metadata": {
        "id": "8zb5reGeWEqD"
      },
      "execution_count": 3,
      "outputs": []
    },
    {
      "cell_type": "markdown",
      "source": [
        "#### Confidence Interval on that Mean Outlet Temperature"
      ],
      "metadata": {
        "id": "vLDyNbuBXj4v"
      }
    },
    {
      "cell_type": "code",
      "source": [
        "#first calculate the standard deviation and then the standard error\n",
        "sdev = np.std(initialtemps)\n",
        "stderr = sdev/np.sqrt(len(initialtemps))\n",
        "ci = stderr*t.interval(0.95,len(initialtemps))[1]\n",
        "#the t.interval yields the cutoff for the 95% confidence interval for the Student t distribution (at high degrees of freedom, it converges to the normal result)"
      ],
      "metadata": {
        "id": "VAJCavOIYBVt"
      },
      "execution_count": 4,
      "outputs": []
    },
    {
      "cell_type": "code",
      "source": [
        "print(f'The average or mean outlet temperature with {len(initialtemps)} recorded observations is {meantemperature:.1f} plus/minus {ci:.1f}.')"
      ],
      "metadata": {
        "colab": {
          "base_uri": "https://localhost:8080/"
        },
        "id": "CVtiA4yWcEH4",
        "outputId": "fee4c9aa-2ee1-44c5-c786-127019c7ce09"
      },
      "execution_count": 5,
      "outputs": [
        {
          "output_type": "stream",
          "name": "stdout",
          "text": [
            "The average or mean outlet temperature with 5 recorded observations is 77.9 plus/minus 2.0.\n"
          ]
        }
      ]
    },
    {
      "cell_type": "markdown",
      "source": [
        "#### Effect of Many More Observations\n",
        "I will use the statistical measures of the above 5 temperatures to generate (psuedo randomly) many more observations sampled from a normal distribution."
      ],
      "metadata": {
        "id": "kAGuUXB4_NJK"
      }
    },
    {
      "cell_type": "code",
      "source": [
        "moretemps = t.rvs(1000,size=100)*sdev+meantemperature #1000 degrees of freedom used to give the same result as the normal distribution, also, used the previous mean and stdev to generate the numbers\n",
        "exampleoutlettemps = np.append(initialtemps,moretemps)\n",
        "exampleoutlettemps[:50]"
      ],
      "metadata": {
        "colab": {
          "base_uri": "https://localhost:8080/"
        },
        "id": "ozyNC6I7_S7U",
        "outputId": "09f063aa-035d-40fc-f319-b424e8aef5dd"
      },
      "execution_count": 6,
      "outputs": [
        {
          "output_type": "execute_result",
          "data": {
            "text/plain": [
              "array([75.2       , 80.1       , 76.8       , 78.4       , 79.        ,\n",
              "       78.70855843, 76.33312381, 80.06688076, 79.06369704, 77.21949873,\n",
              "       76.90111492, 78.49318163, 76.65780223, 77.38242805, 77.32330669,\n",
              "       78.03076718, 77.79100223, 76.33400353, 79.54600279, 76.77393968,\n",
              "       75.57414736, 77.64329904, 75.35520216, 77.89029736, 81.3086302 ,\n",
              "       80.00885057, 80.00223696, 80.2638018 , 77.99555242, 77.87942529,\n",
              "       75.23202565, 81.00175679, 77.37221944, 75.04086987, 76.10561987,\n",
              "       77.26612143, 77.11815015, 77.93918426, 78.87995473, 76.31120952,\n",
              "       78.87849759, 77.47020304, 79.78510531, 77.74460965, 79.38574999,\n",
              "       75.74068433, 75.73177227, 77.78756   , 76.44833724, 79.69924086])"
            ]
          },
          "metadata": {},
          "execution_count": 6
        }
      ]
    },
    {
      "cell_type": "code",
      "source": [
        "meantemperatureL = np.mean(exampleoutlettemps)\n",
        "sdevL = np.std(exampleoutlettemps)\n",
        "stderrL = sdevL/np.sqrt(len(exampleoutlettemps))\n",
        "ciL = stderrL*t.interval(0.95,len(exampleoutlettemps))[1]\n",
        "print(f'Now with a greater amount of samples, the average or mean outlet temperature with {len(exampleoutlettemps)} recorded observations is {meantemperatureL:.1f} plus/minus {ciL:.1f}.')"
      ],
      "metadata": {
        "colab": {
          "base_uri": "https://localhost:8080/"
        },
        "id": "VuD7H46bCYIk",
        "outputId": "99afa4d3-77e9-412d-c6cc-d8c2e7b3e0bd"
      },
      "execution_count": 7,
      "outputs": [
        {
          "output_type": "stream",
          "name": "stdout",
          "text": [
            "Now with a greater amount of samples, the average or mean outlet temperature with 105 recorded observations is 77.8 plus/minus 0.3.\n"
          ]
        }
      ]
    },
    {
      "cell_type": "markdown",
      "source": [
        "Comparing the two results, the average values and the standard deviations are similar but the confidence interval is significantly lower. That is, with more observations, we are much more confident in the mean or average exit temperature from the heat exchanger."
      ],
      "metadata": {
        "id": "j8IMO9tnEtHX"
      }
    },
    {
      "cell_type": "code",
      "source": [
        "#stats for (5 and 105) samples\n",
        "print(f'The confidence interval range for 5 and 105 samples is respectively: +/- {ci:.1f},{ciL:.1f}')\n",
        "print(f'The average temperature for 5 and 105 samples is respectively: {meantemperature:.1f},{meantemperatureL:.1f}')\n",
        "print(f'The standard deviation for 5 and 105 samples is respectively: {sdev:.1f},{sdevL:.1f}')"
      ],
      "metadata": {
        "colab": {
          "base_uri": "https://localhost:8080/"
        },
        "id": "lLTABmY2F-yV",
        "outputId": "40a00436-b0b6-4e0d-d41e-9d361fdc1f00"
      },
      "execution_count": 8,
      "outputs": [
        {
          "output_type": "stream",
          "name": "stdout",
          "text": [
            "The confidence interval range for 5 and 105 samples is respectively: +/- 2.0,0.3\n",
            "The average temperature for 5 and 105 samples is respectively: 77.9,77.8\n",
            "The standard deviation for 5 and 105 samples is respectively: 1.7,1.5\n"
          ]
        }
      ]
    },
    {
      "cell_type": "markdown",
      "source": [
        "Note that the fact that the above average and standard deviation values are similar between 5 and 105 samples is because I set it up that way (the other values were generated from a mean and stdev equal to that for the 5 samples). If the wasn't the case, it's expected that the standard deviation and mean could show a greater difference than what is portrayed above."
      ],
      "metadata": {
        "id": "SkiYm0DEMUQS"
      }
    },
    {
      "cell_type": "markdown",
      "source": [
        "#### Interactive Slider Indicating Sampe Size Effect on the Confidence Interval\n",
        "Below is a slider with associated code demonstrating the above."
      ],
      "metadata": {
        "id": "-h5ZkwcbQ540"
      }
    },
    {
      "cell_type": "code",
      "source": [
        "@interact(n=(5,500))\n",
        "def cifn(n):\n",
        "  othertemps = t.rvs(1000,size=n-5)*np.std(initialtemps)+meantemperature #1000 degrees of freedom used to give the same result as the normal distribution, also, used the previous mean and stdev to generate the numbers\n",
        "  temps = np.append(initialtemps,othertemps)\n",
        "  sdev = np.std(temps)\n",
        "  stderr = sdev/np.sqrt(len(temps))\n",
        "  ci = stderr*t.interval(0.95,len(temps))[1]\n",
        "  print(f'The mean is {np.mean(temps):.1f} +/- {ci:.1f} with standard deviation of {sdev:.1f}')"
      ],
      "metadata": {
        "colab": {
          "base_uri": "https://localhost:8080/",
          "height": 66,
          "referenced_widgets": [
            "959b1403ff3e43119dcd16df6e5130fe",
            "45504525828649cfa3f7a77107630fe4",
            "fd351164e2c34c108b23a133c6b4ad97",
            "46e1b251ae4940f7baffc99f385de4f5",
            "774cf230f509461ea72de99c03d5c7a8",
            "b972b108287a4879bc8bb9004982d244",
            "1b7ffdcc448d4278a940724cc82ba943"
          ]
        },
        "id": "VlLNp9rfRsNe",
        "outputId": "b9f91bd7-bd90-4f60-dc08-54a989101048"
      },
      "execution_count": 9,
      "outputs": [
        {
          "output_type": "display_data",
          "data": {
            "text/plain": [
              "interactive(children=(IntSlider(value=252, description='n', max=500, min=5), Output()), _dom_classes=('widget-…"
            ],
            "application/vnd.jupyter.widget-view+json": {
              "version_major": 2,
              "version_minor": 0,
              "model_id": "959b1403ff3e43119dcd16df6e5130fe"
            }
          },
          "metadata": {}
        }
      ]
    },
    {
      "cell_type": "markdown",
      "source": [
        "### Standard Error versus Standard Deviation\n",
        "As exhibited in the above example, **the standard deviation may not indicate how well you know the average** or mean temperature (but it can indicate the distribution of values observed). The standard error on the other hand, is a measure of how well you know the mean and is simply the ratio of the standard deviation and the sqrt of the number of observations.\n",
        "\n",
        "I have been confused by these two values in the past (and sometimes in the present). When calculating the confidence interval on the mean of observations, make sure to either use the standard error with the typical 1.96 or 2 value or divide the standard deviation by the sqrt of the number of observations before multiplying by the 1.96 or 2 factor to get confidence intervals."
      ],
      "metadata": {
        "id": "3EUteO-_Sa0k"
      }
    },
    {
      "cell_type": "markdown",
      "source": [
        "### Normal versus the Student t Distribution\n",
        "The normal distrution relates the probability of an observational value given the mean and standard deviation from that population. When the standard deviation is well known, the normal distribution parameters are usually used in calculating the confidence intervals. For example, for a two-sided tail, a 95% confidence interval corresponds to a normalized value of 1.96 (or 2) that is typically used. \n",
        "\n",
        "However, if the standard deviation isn't well known, the Student t distribution is used to account for that uncertainty. It accounts for the number of degrees of freedom (or observations) to yield a value to use for the confidence interval (instead of the typical 1.96 or 2 used for the two-tail 95% C.I.).\n",
        "\n",
        "Below is an interactive slider that can be used to compare the two distributions."
      ],
      "metadata": {
        "id": "2Eay1S1VOjWN"
      }
    },
    {
      "cell_type": "code",
      "source": [
        "#Create an interactive plot (not seen in GitHub but can be manipulated in Google Colab)\n",
        "@interact(mean=(60,80),standarddev=(0.5,1.5),df=(1,10))\n",
        "def normalplot(mean,standarddev,df):\n",
        "  xlin =  (np.linspace(mean-7*standarddev, mean+7*standarddev, 200)-mean)/standarddev\n",
        "  ylin = t.pdf(xlin,1000)/standarddev\n",
        "  ylin2 = t.pdf(xlin,df)/standarddev\n",
        "  plt.plot(xlin*standarddev+mean, ylin, 'r', label='Normal Distribution'); \n",
        "  plt.plot(xlin*standarddev+mean, ylin2, 'b', label='Student t Distribution');\n",
        "  plt.xlabel(\"mean\"); plt.ylabel(\"probability\")\n",
        "  plt.xlim(50,90); plt.ylim(0,1)\n",
        "  plt.legend(); plt.show()\n"
      ],
      "metadata": {
        "colab": {
          "base_uri": "https://localhost:8080/",
          "height": 385,
          "referenced_widgets": [
            "7e3775b7f9ac464a86edb4864e5beca6",
            "783fa5d0a71d4f1aa19c7c6f4640de06",
            "5242a073733d4a728522190174a4b8ca",
            "1d70f6a59f1045adba8f046d6715283d",
            "5d530389d6454b75b060bfa58ebad1d2",
            "564cfc72c2e54b3e8fae16be1220ddf2",
            "77ffae0b1bd14dc0a377d09442165442",
            "e23beeec03c94152bfe197e70e9e181f",
            "4a6e5823ce8148c6aa058de2458aea87",
            "55e82324f5c24b73952b0340427c77bd",
            "2bcd6c1580414c8ea3538100e3fdbf9a",
            "f794dadd347841ebae5d5014f85915a8",
            "d998e5daf9cf4c84acb96be66bd3d0e7"
          ]
        },
        "id": "t1mA81CCB2Dx",
        "outputId": "3626cf7c-09b3-45bf-b59a-cb0eaa987a0b"
      },
      "execution_count": 10,
      "outputs": [
        {
          "output_type": "display_data",
          "data": {
            "text/plain": [
              "interactive(children=(IntSlider(value=70, description='mean', max=80, min=60), FloatSlider(value=1.0, descript…"
            ],
            "application/vnd.jupyter.widget-view+json": {
              "version_major": 2,
              "version_minor": 0,
              "model_id": "7e3775b7f9ac464a86edb4864e5beca6"
            }
          },
          "metadata": {}
        }
      ]
    },
    {
      "cell_type": "markdown",
      "source": [
        "## Confidence Interval on a Parameter in a Model\n",
        "**A model could be a simple line relating one independent variable to a dependent variable**. For example, the concentration of a species can linearly relate to the rate of a first order reaction at a constant temperature.  Or, a model could yield a non-linear relationship (for example a second order reaction). \n",
        "\n",
        "Additionally, a model may have several parameters, for example the Arrhenius parameters in a second order reaction. Or, for a machine learning application, models can have millions of parameters."
      ],
      "metadata": {
        "id": "YL3eg6v0iinV"
      }
    },
    {
      "cell_type": "markdown",
      "source": [
        "### Obtain the Parameter Value(s)\n",
        "A curve fit by minimizing the sum of the squared errors is typically completed to determine the parameter value(s). Once the parameter value is determined, it can be valuable to detemine the uncertainty in that parameter value. \n",
        "\n",
        "First we'll set up a generic example to find a linear parameter by minimizing the sum of the squared errors using scipy's minimize (we also could use Gekko or other minimization solvers)."
      ],
      "metadata": {
        "id": "wFYsYEAItEGQ"
      }
    },
    {
      "cell_type": "code",
      "source": [
        "#First specify and then plot the data\n",
        "data = pd.DataFrame({'response':[0.32,0.43,0.39,0.55,0.67,0.87,0.7,0.61,0.72], 'x1':[2.2,3.5,3.5,6.4,8.6,9.1,9.0,7.5,8.0]})\n",
        "data['source'] = 'observation'\n",
        "p = sns.relplot(x='x1', y='response', hue='source', palette='flare', data=data, aspect=15/10);\n",
        "plt.show()"
      ],
      "metadata": {
        "id": "LzCZFILMaSr5",
        "colab": {
          "base_uri": "https://localhost:8080/",
          "height": 365
        },
        "outputId": "2b63d426-a9cd-480d-dd1e-24621c472a14"
      },
      "execution_count": 11,
      "outputs": [
        {
          "output_type": "display_data",
          "data": {
            "text/plain": [
              "<Figure size 645.1x360 with 1 Axes>"
            ],
            "image/png": "[encoded data removed]"
          },
          "metadata": {}
        }
      ]
    },
    {
      "cell_type": "code",
      "source": [
        "#define a function to calculate the error between the model parameters and the data\n",
        "def linearSSE(x):\n",
        "  #calculate sum of squared errors for a linear fit\n",
        "  prediction = data['x1']*x[1] + x[0]\n",
        "  sse = ((prediction - data['response'])**2).sum()\n",
        "  return sse"
      ],
      "metadata": {
        "id": "_ySRMcs6ujV7"
      },
      "execution_count": 12,
      "outputs": []
    },
    {
      "cell_type": "code",
      "source": [
        "#Now solve for the optimal parameters\n",
        "optparametervals =  minimize(linearSSE,[1,1]).x\n",
        "optparametervals #listed first is the optimal intercept and then the slope"
      ],
      "metadata": {
        "colab": {
          "base_uri": "https://localhost:8080/"
        },
        "id": "VHINPNO-8T41",
        "outputId": "dca3236e-4b44-4e72-c426-d57ef8623f86"
      },
      "execution_count": 13,
      "outputs": [
        {
          "output_type": "execute_result",
          "data": {
            "text/plain": [
              "array([0.1766029 , 0.06350474])"
            ]
          },
          "metadata": {},
          "execution_count": 13
        }
      ]
    },
    {
      "cell_type": "code",
      "source": [
        "#Create a dataframe with the predicted values\n",
        "prediction = pd.DataFrame({'x1':np.linspace(data['x1'].min(),data['x1'].max(),50)})\n",
        "prediction['response'] = prediction['x1']*optparametervals[1] + optparametervals[0]\n",
        "prediction['source'] = 'prediction'"
      ],
      "metadata": {
        "id": "wXrC5PxN_GPw"
      },
      "execution_count": 14,
      "outputs": []
    },
    {
      "cell_type": "code",
      "source": [
        "#plot the prediction\n",
        "fig, ax = plt.subplots()\n",
        "p = sns.scatterplot(x='x1',y='response',hue='source',palette='flare',data=data,ax=ax);\n",
        "p = sns.lineplot(x='x1',y='response',hue='source',data=prediction,ax=ax)\n",
        "plt.show()"
      ],
      "metadata": {
        "colab": {
          "base_uri": "https://localhost:8080/",
          "height": 285
        },
        "id": "K8k8MvzHw8Ac",
        "outputId": "4c27aae0-1a3a-40d9-89a6-f96751ddec81"
      },
      "execution_count": 15,
      "outputs": [
        {
          "output_type": "display_data",
          "data": {
            "text/plain": [
              "<Figure size 432x288 with 1 Axes>"
            ],
            "image/png": "[encoded data removed]"
          },
          "metadata": {}
        }
      ]
    },
    {
      "cell_type": "markdown",
      "source": [
        "### Obtain limits around each Parameter Value \n",
        "Limits around each parameter value are found that gives a SSE within the value that is not statistically different per the F test:\n",
        "$\\frac{SSE(\\theta)-SSE(\\theta^*)}{SSE(\\theta^*)} \\le \\frac{p}{n-p}\\cdot F(\\alpha,p,n-p)$\n",
        "\n",
        "where the $SSE$ is the sum of squared error given a set a parameter values $\\theta$, $\\theta^*$ is the parameter values that give the lowest $SSE$. $n$ is the number of data points, $p$ the number of parameters, and $F$ is the scipy.f.isf function that specifies whether one parameters set is significantly different from another. See also the very helpful info and demonstrations on AP Monitor: https://apmonitor.com/che263/index.php/Main/PythonRegressionStatistics."
      ],
      "metadata": {
        "id": "eiPLYS-98e1H"
      }
    },
    {
      "cell_type": "markdown",
      "source": [
        "For the example above with two parameters for the linear fit, below is the method used to determine the confidence interval on the slope and the intercept. Afterwards, the results are compared to a two other methods."
      ],
      "metadata": {
        "id": "3qHzToSwbLwS"
      }
    },
    {
      "cell_type": "code",
      "source": [
        "#find the allowed deviation (right hand side of the above equation at two-sided 95% confidence interval)\n",
        "alpha = 0.05 #95% confidence interval\n",
        "ssedev = len(optparametervals)/(len(data)-len(optparametervals))*f.isf(alpha,len(optparametervals),(len(data)-len(optparametervals)))"
      ],
      "metadata": {
        "id": "Z9FqRZ0Jbx_-"
      },
      "execution_count": 16,
      "outputs": []
    },
    {
      "cell_type": "code",
      "source": [
        "#Set a variable with the value of the SSE's for the optimal solution (lowest SSE)\n",
        "optimalSSE = minimize(linearSSE,[1,1]).fun"
      ],
      "metadata": {
        "id": "2eCh7JtfsdmG"
      },
      "execution_count": 17,
      "outputs": []
    },
    {
      "cell_type": "code",
      "source": [
        "#setup function to obtain confidence limits based on the F-test\n",
        "#define equation to solve for varying one parameter at a time\n",
        "def func(x,*input):\n",
        "  dct = input[0]\n",
        "  if dct['switch'] == 'intercept':\n",
        "    out = (linearSSE([x,dct['slope']]) - optimalSSE)/optimalSSE - ssedev\n",
        "  else:\n",
        "    out = (linearSSE([dct['intercept'],x]) - optimalSSE)/optimalSSE - ssedev\n",
        "  return out"
      ],
      "metadata": {
        "id": "EW8_iuRIKHF_"
      },
      "execution_count": 18,
      "outputs": []
    },
    {
      "cell_type": "code",
      "source": [
        "#solve for the parameter yielding the desired SSE to establish the confidence intervals\n",
        "guesses = np.linspace(-10,10,20)\n",
        "args = {'slope':optparametervals[1],'intercept':optparametervals[0],'switch':'intercept'}\n",
        "interceptvals = [fsolve(func,guess*optparametervals[0],args=(args))[0] for guess in guesses]\n",
        "args['switch'] = ''\n",
        "slopevals = [fsolve(func,guess*optparametervals[1],args=(args))[0] for guess in guesses]\n",
        "minmax_b = [min(interceptvals),max(interceptvals)]\n",
        "minmax_m = [min(slopevals),max(slopevals)]"
      ],
      "metadata": {
        "id": "YxBoQJ_poqk8"
      },
      "execution_count": 19,
      "outputs": []
    },
    {
      "cell_type": "code",
      "source": [
        "#The 95% confidence range on the intercept, b, and the slope, m, are the following\n",
        "dict_CL = {'Method':['Ftest'],'InterceptRange':[minmax_b[1]-minmax_b[0]],'SlopeRange':[minmax_m[1]-minmax_m[0]],\\\n",
        "           'FractionVarOptimalSSE':[max([(linearSSE([each,optparametervals[1]]) - optimalSSE)/optimalSSE for each in minmax_b])]}\n",
        "dict_CL"
      ],
      "metadata": {
        "colab": {
          "base_uri": "https://localhost:8080/"
        },
        "id": "cHqSM_eB96t_",
        "outputId": "c585c496-e686-41ba-f688-af378206bdb1"
      },
      "execution_count": 20,
      "outputs": [
        {
          "output_type": "execute_result",
          "data": {
            "text/plain": [
              "{'FractionVarOptimalSSE': [1.3535468936503128],\n",
              " 'InterceptRange': [0.11936213602405392],\n",
              " 'Method': ['Ftest'],\n",
              " 'SlopeRange': [0.017302292907417187]}"
            ]
          },
          "metadata": {},
          "execution_count": 20
        }
      ]
    },
    {
      "cell_type": "markdown",
      "source": [
        "Note that the above limits are equivalently spaced from the optimal value which is expected as the above function is linear. "
      ],
      "metadata": {
        "id": "1K07_wUiKXmX"
      }
    },
    {
      "cell_type": "markdown",
      "source": [
        "Now randomly (from the normal distribution) select two values from the slope and intercept and plot them on the above plot showing they are equally as valid statistically as the optimal result."
      ],
      "metadata": {
        "id": "evgzxnKUMQzM"
      }
    },
    {
      "cell_type": "code",
      "source": [
        "ips = [t.rvs(1000)*((minmax_b[1]-minmax_b[0])/(1.96*2)) + optparametervals[0] for i in range(2)]\n",
        "sps = [t.rvs(1000)*((minmax_m[1]-minmax_m[0])/(1.96*2)) + optparametervals[1] for i in range(2)]"
      ],
      "metadata": {
        "id": "42kCU_ZsJ8QE"
      },
      "execution_count": 21,
      "outputs": []
    },
    {
      "cell_type": "code",
      "source": [
        "ips,sps"
      ],
      "metadata": {
        "colab": {
          "base_uri": "https://localhost:8080/"
        },
        "id": "mt93zHtYQWCN",
        "outputId": "78bb5304-96d4-414a-c2d4-1f1cffb6f5ee"
      },
      "execution_count": 22,
      "outputs": [
        {
          "output_type": "execute_result",
          "data": {
            "text/plain": [
              "([0.17166575422862815, 0.15538220372353875],\n",
              " [0.062242440429855, 0.06557614958788648])"
            ]
          },
          "metadata": {},
          "execution_count": 22
        }
      ]
    },
    {
      "cell_type": "code",
      "source": [
        "# for each of those random conditions, check that the F-test is satisfied, first \n",
        "def Ftestcheck(x):\n",
        "  lhs = (linearSSE(x) - optimalSSE)/optimalSSE\n",
        "  if lhs <= ssedev:\n",
        "    out = True\n",
        "  else:\n",
        "    out = False\n",
        "  return out"
      ],
      "metadata": {
        "id": "Vfum1h40Q3by"
      },
      "execution_count": 23,
      "outputs": []
    },
    {
      "cell_type": "code",
      "source": [
        "[Ftestcheck([ips[i],sps[i]]) for i,each in enumerate(ips)]"
      ],
      "metadata": {
        "colab": {
          "base_uri": "https://localhost:8080/"
        },
        "id": "kkIP5qBEVnBU",
        "outputId": "c51f7f13-0dc2-4247-e2ce-45bd1720bec9"
      },
      "execution_count": 24,
      "outputs": [
        {
          "output_type": "execute_result",
          "data": {
            "text/plain": [
              "[True, True]"
            ]
          },
          "metadata": {},
          "execution_count": 24
        }
      ]
    },
    {
      "cell_type": "code",
      "source": [
        "#set dataframes with the alternately predicted results\n",
        "p2 = pd.DataFrame({'x1':np.linspace(data['x1'].min(),data['x1'].max(),50)})\n",
        "p3 = pd.DataFrame({'x1':np.linspace(data['x1'].min(),data['x1'].max(),50)})\n",
        "p2['response'] = p2['x1']*sps[0] + ips[0]\n",
        "p3['response'] = p3['x1']*sps[1] + ips[1]\n",
        "p2['source'] = '2nd prediction'; p3['source'] = '3rd prediction'"
      ],
      "metadata": {
        "id": "IeZWPbmeVqx-"
      },
      "execution_count": 25,
      "outputs": []
    },
    {
      "cell_type": "code",
      "source": [
        "#plot the other predicted outcomes together with the original\n",
        "fig, ax = plt.subplots()\n",
        "p = sns.scatterplot(x='x1',y='response',hue='source',palette='flare',data=data,ax=ax);\n",
        "p = sns.lineplot(x='x1',y='response',hue='source',data=pd.concat([prediction,p2,p3],ignore_index=True),ax=ax)\n",
        "plt.show()"
      ],
      "metadata": {
        "colab": {
          "base_uri": "https://localhost:8080/",
          "height": 285
        },
        "id": "wZ3OFgXsvcoQ",
        "outputId": "8fb27686-1459-4ba6-f5b6-5a3ddf1bc25a"
      },
      "execution_count": 26,
      "outputs": [
        {
          "output_type": "display_data",
          "data": {
            "text/plain": [
              "<Figure size 432x288 with 1 Axes>"
            ],
            "image/png": "[encoded data removed]"
          },
          "metadata": {}
        }
      ]
    },
    {
      "cell_type": "markdown",
      "source": [
        "### Compare to the OLS Statsmodel\n",
        "Another method to calculate the confidence limits of the intercept and slope is using the Ordinary Least Squares (OLS) method of the Statsmodel package."
      ],
      "metadata": {
        "id": "isMguFYPbl6O"
      }
    },
    {
      "cell_type": "code",
      "source": [
        "# For statistics. Requires statsmodels 5.0 or more\n",
        "from statsmodels.formula.api import ols\n",
        "# Analysis of Variance (ANOVA) on linear models\n",
        "from statsmodels.stats.anova import anova_lm"
      ],
      "metadata": {
        "colab": {
          "base_uri": "https://localhost:8080/"
        },
        "id": "sQNsW9sec93N",
        "outputId": "2fd7168d-1512-4ad6-f36f-6c50e3fdc16a"
      },
      "execution_count": 27,
      "outputs": [
        {
          "output_type": "stream",
          "name": "stderr",
          "text": [
            "/usr/local/lib/python3.7/dist-packages/statsmodels/tools/_testing.py:19: FutureWarning: pandas.util.testing is deprecated. Use the functions in the public API at pandas.testing instead.\n",
            "  import pandas.util.testing as tm\n"
          ]
        }
      ]
    },
    {
      "cell_type": "code",
      "source": [
        "# Fit the model\n",
        "model = ols(\"response ~ x1\", data).fit()\n",
        "print(model.summary())\n",
        "# Peform analysis of variance on fitted linear model\n",
        "#anova_results = anova_lm(model)\n",
        "#print('\\nANOVA results')\n",
        "#print(anova_results)"
      ],
      "metadata": {
        "colab": {
          "base_uri": "https://localhost:8080/"
        },
        "id": "HBpdsCw8eKYX",
        "outputId": "7252ae7f-f12e-482b-ee4f-593dfe328eef"
      },
      "execution_count": 28,
      "outputs": [
        {
          "output_type": "stream",
          "name": "stdout",
          "text": [
            "                            OLS Regression Results                            \n",
            "==============================================================================\n",
            "Dep. Variable:               response   R-squared:                       0.907\n",
            "Model:                            OLS   Adj. R-squared:                  0.893\n",
            "Method:                 Least Squares   F-statistic:                     68.08\n",
            "Date:                Mon, 15 Aug 2022   Prob (F-statistic):           7.48e-05\n",
            "Time:                        20:26:14   Log-Likelihood:                 13.960\n",
            "No. Observations:                   9   AIC:                            -23.92\n",
            "Df Residuals:                       7   BIC:                            -23.53\n",
            "Df Model:                           1                                         \n",
            "Covariance Type:            nonrobust                                         \n",
            "==============================================================================\n",
            "                 coef    std err          t      P>|t|      [0.025      0.975]\n",
            "------------------------------------------------------------------------------\n",
            "Intercept      0.1766      0.053      3.326      0.013       0.051       0.302\n",
            "x1             0.0635      0.008      8.251      0.000       0.045       0.082\n",
            "==============================================================================\n",
            "Omnibus:                        4.242   Durbin-Watson:                   2.726\n",
            "Prob(Omnibus):                  0.120   Jarque-Bera (JB):                1.578\n",
            "Skew:                           1.022   Prob(JB):                        0.454\n",
            "Kurtosis:                       3.180   Cond. No.                         19.2\n",
            "==============================================================================\n",
            "\n",
            "Warnings:\n",
            "[1] Standard Errors assume that the covariance matrix of the errors is correctly specified.\n"
          ]
        },
        {
          "output_type": "stream",
          "name": "stderr",
          "text": [
            "/usr/local/lib/python3.7/dist-packages/scipy/stats/stats.py:1542: UserWarning: kurtosistest only valid for n>=20 ... continuing anyway, n=9\n",
            "  \"anyway, n=%i\" % int(n))\n"
          ]
        }
      ]
    },
    {
      "cell_type": "markdown",
      "source": [
        "Note that the slope and intercept values are equivalent to those found with the F-test method above but that the confidence limits are significantly larger."
      ],
      "metadata": {
        "id": "E23TybuBJfgU"
      }
    },
    {
      "cell_type": "code",
      "source": [
        "model.conf_int() #confidence interval with the statsmodel, ols method"
      ],
      "metadata": {
        "colab": {
          "base_uri": "https://localhost:8080/",
          "height": 112
        },
        "id": "IV7nGDcEnIjQ",
        "outputId": "37eaeefb-ada1-4874-b3e3-0e12e12196c5"
      },
      "execution_count": 29,
      "outputs": [
        {
          "output_type": "execute_result",
          "data": {
            "text/plain": [
              "                  0         1\n",
              "Intercept  0.051052  0.302154\n",
              "x1         0.045305  0.081704"
            ],
            "text/html": [
              "\n",
              "  <div id=\"df-d48ca53e-60b2-4744-ace6-6f55b0979409\">\n",
              "    <div class=\"colab-df-container\">\n",
              "      <div>\n",
              "<style scoped>\n",
              "    .dataframe tbody tr th:only-of-type {\n",
              "        vertical-align: middle;\n",
              "    }\n",
              "\n",
              "    .dataframe tbody tr th {\n",
              "        vertical-align: top;\n",
              "    }\n",
              "\n",
              "    .dataframe thead th {\n",
              "        text-align: right;\n",
              "    }\n",
              "</style>\n",
              "<table border=\"1\" class=\"dataframe\">\n",
              "  <thead>\n",
              "    <tr style=\"text-align: right;\">\n",
              "      <th></th>\n",
              "      <th>0</th>\n",
              "      <th>1</th>\n",
              "    </tr>\n",
              "  </thead>\n",
              "  <tbody>\n",
              "    <tr>\n",
              "      <th>Intercept</th>\n",
              "      <td>0.051052</td>\n",
              "      <td>0.302154</td>\n",
              "    </tr>\n",
              "    <tr>\n",
              "      <th>x1</th>\n",
              "      <td>0.045305</td>\n",
              "      <td>0.081704</td>\n",
              "    </tr>\n",
              "  </tbody>\n",
              "</table>\n",
              "</div>\n",
              "      <button class=\"colab-df-convert\" onclick=\"convertToInteractive('df-d48ca53e-60b2-4744-ace6-6f55b0979409')\"\n",
              "              title=\"Convert this dataframe to an interactive table.\"\n",
              "              style=\"display:none;\">\n",
              "        \n",
              "  <svg xmlns=\"http://www.w3.org/2000/svg\" height=\"24px\"viewBox=\"0 0 24 24\"\n",
              "       width=\"24px\">\n",
              "    <path d=\"M0 0h24v24H0V0z\" fill=\"none\"/>\n",
              "    <path d=\"M18.56 5.44l.94 2.06.94-2.06 2.06-.94-2.06-.94-.94-2.06-.94 2.06-2.06.94zm-11 1L8.5 8.5l.94-2.06 2.06-.94-2.06-.94L8.5 2.5l-.94 2.06-2.06.94zm10 10l.94 2.06.94-2.06 2.06-.94-2.06-.94-.94-2.06-.94 2.06-2.06.94z\"/><path d=\"M17.41 7.96l-1.37-1.37c-.4-.4-.92-.59-1.43-.59-.52 0-1.04.2-1.43.59L10.3 9.45l-7.72 7.72c-.78.78-.78 2.05 0 2.83L4 21.41c.39.39.9.59 1.41.59.51 0 1.02-.2 1.41-.59l7.78-7.78 2.81-2.81c.8-.78.8-2.07 0-2.86zM5.41 20L4 18.59l7.72-7.72 1.47 1.35L5.41 20z\"/>\n",
              "  </svg>\n",
              "      </button>\n",
              "      \n",
              "  <style>\n",
              "    .colab-df-container {\n",
              "      display:flex;\n",
              "      flex-wrap:wrap;\n",
              "      gap: 12px;\n",
              "    }\n",
              "\n",
              "    .colab-df-convert {\n",
              "      background-color: #E8F0FE;\n",
              "      border: none;\n",
              "      border-radius: 50%;\n",
              "      cursor: pointer;\n",
              "      display: none;\n",
              "      fill: #1967D2;\n",
              "      height: 32px;\n",
              "      padding: 0 0 0 0;\n",
              "      width: 32px;\n",
              "    }\n",
              "\n",
              "    .colab-df-convert:hover {\n",
              "      background-color: #E2EBFA;\n",
              "      box-shadow: 0px 1px 2px rgba(60, 64, 67, 0.3), 0px 1px 3px 1px rgba(60, 64, 67, 0.15);\n",
              "      fill: #174EA6;\n",
              "    }\n",
              "\n",
              "    [theme=dark] .colab-df-convert {\n",
              "      background-color: #3B4455;\n",
              "      fill: #D2E3FC;\n",
              "    }\n",
              "\n",
              "    [theme=dark] .colab-df-convert:hover {\n",
              "      background-color: #434B5C;\n",
              "      box-shadow: 0px 1px 3px 1px rgba(0, 0, 0, 0.15);\n",
              "      filter: drop-shadow(0px 1px 2px rgba(0, 0, 0, 0.3));\n",
              "      fill: #FFFFFF;\n",
              "    }\n",
              "  </style>\n",
              "\n",
              "      <script>\n",
              "        const buttonEl =\n",
              "          document.querySelector('#df-d48ca53e-60b2-4744-ace6-6f55b0979409 button.colab-df-convert');\n",
              "        buttonEl.style.display =\n",
              "          google.colab.kernel.accessAllowed ? 'block' : 'none';\n",
              "\n",
              "        async function convertToInteractive(key) {\n",
              "          const element = document.querySelector('#df-d48ca53e-60b2-4744-ace6-6f55b0979409');\n",
              "          const dataTable =\n",
              "            await google.colab.kernel.invokeFunction('convertToInteractive',\n",
              "                                                     [key], {});\n",
              "          if (!dataTable) return;\n",
              "\n",
              "          const docLinkHtml = 'Like what you see? Visit the ' +\n",
              "            '<a target=\"_blank\" href=https://colab.research.google.com/notebooks/data_table.ipynb>data table notebook</a>'\n",
              "            + ' to learn more about interactive tables.';\n",
              "          element.innerHTML = '';\n",
              "          dataTable['output_type'] = 'display_data';\n",
              "          await google.colab.output.renderOutput(dataTable, element);\n",
              "          const docLink = document.createElement('div');\n",
              "          docLink.innerHTML = docLinkHtml;\n",
              "          element.appendChild(docLink);\n",
              "        }\n",
              "      </script>\n",
              "    </div>\n",
              "  </div>\n",
              "  "
            ]
          },
          "metadata": {},
          "execution_count": 29
        }
      ]
    },
    {
      "cell_type": "code",
      "source": [
        "#add results to the results dictionary\n",
        "dict_CL['Method'].append('OLS'); dict_CL['InterceptRange'].append(model.conf_int()[1][0]-model.conf_int()[0][0])\n",
        "dict_CL['SlopeRange'].append(model.conf_int()[1][1]-model.conf_int()[0][1])\n",
        "SSEdevarray = [linearSSE([model.conf_int()[1][0],optparametervals[1]]),linearSSE([model.conf_int()[0][0],optparametervals[1]])]\n",
        "dict_CL['FractionVarOptimalSSE'].append(max([(each - optimalSSE)/optimalSSE for each in SSEdevarray]))"
      ],
      "metadata": {
        "id": "x2EA0jM0V1lS"
      },
      "execution_count": 30,
      "outputs": []
    },
    {
      "cell_type": "markdown",
      "source": [
        "### Manual Calculation \n",
        "Since the above OLS method has much larger confidence limits than the F-test method, we'll also manually calculate the confidence limits for the slope and intercept based on the method in Engineering Statistics by D. Montgomery et al."
      ],
      "metadata": {
        "id": "lHQvGEl-ESgP"
      }
    },
    {
      "cell_type": "code",
      "source": [
        "#First calcualte the errors to evaluate how standard or normal they are.\n",
        "error = data['response'] - (data['x1']*optparametervals[1] + optparametervals[0])\n",
        "np.mean(error),np.std(error)"
      ],
      "metadata": {
        "colab": {
          "base_uri": "https://localhost:8080/"
        },
        "id": "iL9dDSgkEv--",
        "outputId": "3bb5b0b4-4d77-4e0d-db36-9c08f5051443"
      },
      "execution_count": 31,
      "outputs": [
        {
          "output_type": "execute_result",
          "data": {
            "text/plain": [
              "(7.45069892202663e-09, 0.05129794092907307)"
            ]
          },
          "metadata": {},
          "execution_count": 31
        }
      ]
    },
    {
      "cell_type": "code",
      "source": [
        "sns.histplot(data=error,bins=5)"
      ],
      "metadata": {
        "colab": {
          "base_uri": "https://localhost:8080/",
          "height": 285
        },
        "id": "LKJdR6xxFgmE",
        "outputId": "c04e7c38-b769-49eb-9b3a-c9f119fe846e"
      },
      "execution_count": 32,
      "outputs": [
        {
          "output_type": "execute_result",
          "data": {
            "text/plain": [
              "<matplotlib.axes._subplots.AxesSubplot at 0x7f692048a250>"
            ]
          },
          "metadata": {},
          "execution_count": 32
        },
        {
          "output_type": "display_data",
          "data": {
            "text/plain": [
              "<Figure size 432x288 with 1 Axes>"
            ],
            "image/png": "[encoded data removed]"
          },
          "metadata": {}
        }
      ]
    },
    {
      "cell_type": "markdown",
      "source": [
        "Although the mean error is zero, the distribution of errors does not appear to be normal. There are only 9 data points. As such, the confidence limits are only estimates."
      ],
      "metadata": {
        "id": "UlFYVYLyGF8c"
      }
    },
    {
      "cell_type": "code",
      "source": [
        "#calculate the statistics measures from the data \n",
        "Sxx = (data['x1'] - data['x1'].mean())**2\n",
        "confL = t.ppf(0.975,len(data)-len(optparametervals))\n",
        "var = np.std(error)**2\n",
        "tmults = confL*np.sqrt(var/Sxx.sum())\n",
        "tmulti = confL*np.sqrt(var*(1/len(data)+data['x1'].mean()**2/Sxx.sum()))\n",
        "minterceptCL = optparametervals[0]-tmulti,optparametervals[0]+tmulti\n",
        "mslopeCL = (optparametervals[1]-tmults, optparametervals[1]+tmults)"
      ],
      "metadata": {
        "id": "kyg-OGfvHVkI"
      },
      "execution_count": 33,
      "outputs": []
    },
    {
      "cell_type": "code",
      "source": [
        "#Add results with the different confidence limits with the different methods\n",
        "dict_CL['Method'].append('Sxx'); dict_CL['InterceptRange'].append(minterceptCL[1]-minterceptCL[0])\n",
        "dict_CL['SlopeRange'].append(mslopeCL[1]-mslopeCL[0])\n",
        "dict_CL['FractionVarOptimalSSE'].append(max([(linearSSE([each,optparametervals[1]]) - optimalSSE)/optimalSSE for each in minterceptCL]))"
      ],
      "metadata": {
        "id": "oXhp4vSkSslu"
      },
      "execution_count": 34,
      "outputs": []
    },
    {
      "cell_type": "code",
      "source": [
        "#Build dataframe from the dictionary of results\n",
        "dfs = pd.DataFrame(dict_CL)"
      ],
      "metadata": {
        "id": "5fbjDOR4ZwZR"
      },
      "execution_count": 35,
      "outputs": []
    },
    {
      "cell_type": "code",
      "source": [
        "#show the confidence level ranges for both the Intercept and Slope. Also shown is FractionVarOptimalSSE which is the fraction away from the optimal solution\n",
        "dfs"
      ],
      "metadata": {
        "colab": {
          "base_uri": "https://localhost:8080/",
          "height": 143
        },
        "id": "j367WRXIBgmV",
        "outputId": "7cd8eb04-9b07-4026-98c5-7507089d20dd"
      },
      "execution_count": 39,
      "outputs": [
        {
          "output_type": "execute_result",
          "data": {
            "text/plain": [
              "  Method  InterceptRange  SlopeRange  FractionVarOptimalSSE\n",
              "0  Ftest        0.119362    0.017302               1.353547\n",
              "1    OLS        0.251102    0.036399               5.990214\n",
              "2    Sxx        0.221451    0.032101               4.659033"
            ],
            "text/html": [
              "\n",
              "  <div id=\"df-40497adc-848b-41b2-82ae-a09314578b43\">\n",
              "    <div class=\"colab-df-container\">\n",
              "      <div>\n",
              "<style scoped>\n",
              "    .dataframe tbody tr th:only-of-type {\n",
              "        vertical-align: middle;\n",
              "    }\n",
              "\n",
              "    .dataframe tbody tr th {\n",
              "        vertical-align: top;\n",
              "    }\n",
              "\n",
              "    .dataframe thead th {\n",
              "        text-align: right;\n",
              "    }\n",
              "</style>\n",
              "<table border=\"1\" class=\"dataframe\">\n",
              "  <thead>\n",
              "    <tr style=\"text-align: right;\">\n",
              "      <th></th>\n",
              "      <th>Method</th>\n",
              "      <th>InterceptRange</th>\n",
              "      <th>SlopeRange</th>\n",
              "      <th>FractionVarOptimalSSE</th>\n",
              "    </tr>\n",
              "  </thead>\n",
              "  <tbody>\n",
              "    <tr>\n",
              "      <th>0</th>\n",
              "      <td>Ftest</td>\n",
              "      <td>0.119362</td>\n",
              "      <td>0.017302</td>\n",
              "      <td>1.353547</td>\n",
              "    </tr>\n",
              "    <tr>\n",
              "      <th>1</th>\n",
              "      <td>OLS</td>\n",
              "      <td>0.251102</td>\n",
              "      <td>0.036399</td>\n",
              "      <td>5.990214</td>\n",
              "    </tr>\n",
              "    <tr>\n",
              "      <th>2</th>\n",
              "      <td>Sxx</td>\n",
              "      <td>0.221451</td>\n",
              "      <td>0.032101</td>\n",
              "      <td>4.659033</td>\n",
              "    </tr>\n",
              "  </tbody>\n",
              "</table>\n",
              "</div>\n",
              "      <button class=\"colab-df-convert\" onclick=\"convertToInteractive('df-40497adc-848b-41b2-82ae-a09314578b43')\"\n",
              "              title=\"Convert this dataframe to an interactive table.\"\n",
              "              style=\"display:none;\">\n",
              "        \n",
              "  <svg xmlns=\"http://www.w3.org/2000/svg\" height=\"24px\"viewBox=\"0 0 24 24\"\n",
              "       width=\"24px\">\n",
              "    <path d=\"M0 0h24v24H0V0z\" fill=\"none\"/>\n",
              "    <path d=\"M18.56 5.44l.94 2.06.94-2.06 2.06-.94-2.06-.94-.94-2.06-.94 2.06-2.06.94zm-11 1L8.5 8.5l.94-2.06 2.06-.94-2.06-.94L8.5 2.5l-.94 2.06-2.06.94zm10 10l.94 2.06.94-2.06 2.06-.94-2.06-.94-.94-2.06-.94 2.06-2.06.94z\"/><path d=\"M17.41 7.96l-1.37-1.37c-.4-.4-.92-.59-1.43-.59-.52 0-1.04.2-1.43.59L10.3 9.45l-7.72 7.72c-.78.78-.78 2.05 0 2.83L4 21.41c.39.39.9.59 1.41.59.51 0 1.02-.2 1.41-.59l7.78-7.78 2.81-2.81c.8-.78.8-2.07 0-2.86zM5.41 20L4 18.59l7.72-7.72 1.47 1.35L5.41 20z\"/>\n",
              "  </svg>\n",
              "      </button>\n",
              "      \n",
              "  <style>\n",
              "    .colab-df-container {\n",
              "      display:flex;\n",
              "      flex-wrap:wrap;\n",
              "      gap: 12px;\n",
              "    }\n",
              "\n",
              "    .colab-df-convert {\n",
              "      background-color: #E8F0FE;\n",
              "      border: none;\n",
              "      border-radius: 50%;\n",
              "      cursor: pointer;\n",
              "      display: none;\n",
              "      fill: #1967D2;\n",
              "      height: 32px;\n",
              "      padding: 0 0 0 0;\n",
              "      width: 32px;\n",
              "    }\n",
              "\n",
              "    .colab-df-convert:hover {\n",
              "      background-color: #E2EBFA;\n",
              "      box-shadow: 0px 1px 2px rgba(60, 64, 67, 0.3), 0px 1px 3px 1px rgba(60, 64, 67, 0.15);\n",
              "      fill: #174EA6;\n",
              "    }\n",
              "\n",
              "    [theme=dark] .colab-df-convert {\n",
              "      background-color: #3B4455;\n",
              "      fill: #D2E3FC;\n",
              "    }\n",
              "\n",
              "    [theme=dark] .colab-df-convert:hover {\n",
              "      background-color: #434B5C;\n",
              "      box-shadow: 0px 1px 3px 1px rgba(0, 0, 0, 0.15);\n",
              "      filter: drop-shadow(0px 1px 2px rgba(0, 0, 0, 0.3));\n",
              "      fill: #FFFFFF;\n",
              "    }\n",
              "  </style>\n",
              "\n",
              "      <script>\n",
              "        const buttonEl =\n",
              "          document.querySelector('#df-40497adc-848b-41b2-82ae-a09314578b43 button.colab-df-convert');\n",
              "        buttonEl.style.display =\n",
              "          google.colab.kernel.accessAllowed ? 'block' : 'none';\n",
              "\n",
              "        async function convertToInteractive(key) {\n",
              "          const element = document.querySelector('#df-40497adc-848b-41b2-82ae-a09314578b43');\n",
              "          const dataTable =\n",
              "            await google.colab.kernel.invokeFunction('convertToInteractive',\n",
              "                                                     [key], {});\n",
              "          if (!dataTable) return;\n",
              "\n",
              "          const docLinkHtml = 'Like what you see? Visit the ' +\n",
              "            '<a target=\"_blank\" href=https://colab.research.google.com/notebooks/data_table.ipynb>data table notebook</a>'\n",
              "            + ' to learn more about interactive tables.';\n",
              "          element.innerHTML = '';\n",
              "          dataTable['output_type'] = 'display_data';\n",
              "          await google.colab.output.renderOutput(dataTable, element);\n",
              "          const docLink = document.createElement('div');\n",
              "          docLink.innerHTML = docLinkHtml;\n",
              "          element.appendChild(docLink);\n",
              "        }\n",
              "      </script>\n",
              "    </div>\n",
              "  </div>\n",
              "  "
            ]
          },
          "metadata": {},
          "execution_count": 39
        }
      ]
    },
    {
      "cell_type": "code",
      "source": [
        "#Plot the Fraction as a function of the confidence interval method\n",
        "sns.barplot(x=\"Method\", y=\"FractionVarOptimalSSE\", data=dfs)\n",
        "plt.show()"
      ],
      "metadata": {
        "colab": {
          "base_uri": "https://localhost:8080/",
          "height": 285
        },
        "id": "sTNhQ3KeBBiF",
        "outputId": "7212b4b3-018f-4b9e-a188-98c8ed03f430"
      },
      "execution_count": 38,
      "outputs": [
        {
          "output_type": "display_data",
          "data": {
            "text/plain": [
              "<Figure size 432x288 with 1 Axes>"
            ],
            "image/png": "[encoded data removed]"
          },
          "metadata": {}
        }
      ]
    },
    {
      "cell_type": "markdown",
      "source": [
        "In the above bar chart is shown the fraction away from the optimal sum of squared errors (SSE) for the confidence interval ranges for each method. In essence, this just shows that the F-test method is much more narrow in terms of the confidence limits than the other methods."
      ],
      "metadata": {
        "id": "zKP4tPUYMmVB"
      }
    },
    {
      "cell_type": "markdown",
      "source": [
        "### Now plot a contour plot of the SSE or the SSE-OptimalSSE/OptimalSSE\n",
        "Plot a contour plot with the SSE-OptimalSSE/OptimalSSE with different values of the slope and intercept. Code here adapted from APMonitor https://apmonitor.com/che263/index.php/Main/PythonRegressionStatistics"
      ],
      "metadata": {
        "id": "xhm19xFMmogw"
      }
    },
    {
      "cell_type": "code",
      "source": [
        "#setup code for contour plot\n",
        "nopts = 100\n",
        "intercepts = np.linspace(model.conf_int()[0][0],model.conf_int()[1][0],nopts)\n",
        "slopes = np.linspace(model.conf_int()[0][1],model.conf_int()[1][1],nopts)\n",
        "xgrid, ygrid = np.meshgrid(intercepts, slopes)\n",
        "\n",
        "# sum of squared errors\n",
        "sse = np.empty((nopts,nopts)); lhs = np.empty((nopts,nopts))\n",
        "for i in range(nopts):\n",
        "    for j in range(nopts):\n",
        "        at = xgrid[i,j]\n",
        "        bt = ygrid[i,j]\n",
        "        sse[i,j] = linearSSE([at,bt])\n",
        "        lhs[i,j] = (sse[i,j] - optimalSSE)/optimalSSE"
      ],
      "metadata": {
        "id": "8tM-0i5Th7Ck"
      },
      "execution_count": 40,
      "outputs": []
    },
    {
      "cell_type": "code",
      "source": [
        "#Plot the contour plot\n",
        "plt.figure()\n",
        "cplot = plt.contour(xgrid,ygrid,lhs,[0.05,1.35,4.65,6,8])\n",
        "plt.clabel(cplot, inline=1, fontsize=10)\n",
        "plt.xlabel('Intercept')\n",
        "plt.ylabel('Slope')\n",
        "plt.show()"
      ],
      "metadata": {
        "colab": {
          "base_uri": "https://localhost:8080/",
          "height": 285
        },
        "id": "FmpiN9_euESL",
        "outputId": "17d82bb8-2aa5-4878-ab18-4c707b762fd1"
      },
      "execution_count": 41,
      "outputs": [
        {
          "output_type": "display_data",
          "data": {
            "text/plain": [
              "<Figure size 432x288 with 1 Axes>"
            ],
            "image/png": "[encoded data removed]"
          },
          "metadata": {}
        }
      ]
    },
    {
      "cell_type": "markdown",
      "source": [
        "The above contour plot shows the contours at the fraction of the optimal SSE.  The F-test method yields a value of 1.35 for this scenario (data and model specific) where the OLS is at 6 and the Manual or SSX method is at 4.65. All of those contour lines are plotted above.\n",
        "\n",
        "Some things to note:\n",
        "- Typically when reported, the confidence interval is based on holding all the other parameters at the optimal while varying one of the parameters.\n",
        "- The actual confidence interval is likely not square (for example, the slope is 0.0635 +/- 0.02 and the intercept is 0.177 +/- 0.12) but is elliptical as shown in the above contour plot\n",
        "- Due to the elliptical nature of the sum of the squared errors as a function of the model parameters, simply holding the other parameters at their optimums is not representative of the actual parameter space that can give predictions that are not statictically different from the optimum value."
      ],
      "metadata": {
        "id": "PIl6-TFWNIvg"
      }
    },
    {
      "cell_type": "code",
      "source": [
        ""
      ],
      "metadata": {
        "id": "wFUsWQltNbWc"
      },
      "execution_count": null,
      "outputs": []
    }
  ]
}