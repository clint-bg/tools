{
  "nbformat": 4,
  "nbformat_minor": 0,
  "metadata": {
    "colab": {
      "name": "ConfidenceIntervals.ipynb",
      "provenance": [],
      "collapsed_sections": [],
      "toc_visible": true,
      "authorship_tag": "ABX9TyO5+z0j1Ot2eQfj3JOVZSQW",
      "include_colab_link": true
    },
    "kernelspec": {
      "name": "python3",
      "display_name": "Python 3"
    },
    "language_info": {
      "name": "python"
    },
    "widgets": {
      "application/vnd.jupyter.widget-state+json": {
        "3baa0fd3a73d491e947d1857cfcdfb35": {
          "model_module": "@jupyter-widgets/controls",
          "model_name": "VBoxModel",
          "model_module_version": "1.5.0",
          "state": {
            "_dom_classes": [
              "widget-interact"
            ],
            "_model_module": "@jupyter-widgets/controls",
            "_model_module_version": "1.5.0",
            "_model_name": "VBoxModel",
            "_view_count": null,
            "_view_module": "@jupyter-widgets/controls",
            "_view_module_version": "1.5.0",
            "_view_name": "VBoxView",
            "box_style": "",
            "children": [
              "IPY_MODEL_2505d0862f2f44e288aee14d85928b9f",
              "IPY_MODEL_6b6f2fcd169849f09acdec51d48272f7"
            ],
            "layout": "IPY_MODEL_ed50d35ebe7f4865a5a712e1cc14417d"
          }
        },
        "2505d0862f2f44e288aee14d85928b9f": {
          "model_module": "@jupyter-widgets/controls",
          "model_name": "IntSliderModel",
          "model_module_version": "1.5.0",
          "state": {
            "_dom_classes": [],
            "_model_module": "@jupyter-widgets/controls",
            "_model_module_version": "1.5.0",
            "_model_name": "IntSliderModel",
            "_view_count": null,
            "_view_module": "@jupyter-widgets/controls",
            "_view_module_version": "1.5.0",
            "_view_name": "IntSliderView",
            "continuous_update": true,
            "description": "n",
            "description_tooltip": null,
            "disabled": false,
            "layout": "IPY_MODEL_22658c2f82404c6887998fc9495f5d0a",
            "max": 500,
            "min": 5,
            "orientation": "horizontal",
            "readout": true,
            "readout_format": "d",
            "step": 1,
            "style": "IPY_MODEL_e11df81dcf1440cd90b21cb18d464999",
            "value": 252
          }
        },
        "6b6f2fcd169849f09acdec51d48272f7": {
          "model_module": "@jupyter-widgets/output",
          "model_name": "OutputModel",
          "model_module_version": "1.0.0",
          "state": {
            "_dom_classes": [],
            "_model_module": "@jupyter-widgets/output",
            "_model_module_version": "1.0.0",
            "_model_name": "OutputModel",
            "_view_count": null,
            "_view_module": "@jupyter-widgets/output",
            "_view_module_version": "1.0.0",
            "_view_name": "OutputView",
            "layout": "IPY_MODEL_8544934e6494448d84c061b7989326be",
            "msg_id": "",
            "outputs": [
              {
                "output_type": "stream",
                "name": "stdout",
                "text": [
                  "The mean is 78.0 +/- 0.2 with standard deviation of 1.8\n"
                ]
              }
            ]
          }
        },
        "ed50d35ebe7f4865a5a712e1cc14417d": {
          "model_module": "@jupyter-widgets/base",
          "model_name": "LayoutModel",
          "model_module_version": "1.2.0",
          "state": {
            "_model_module": "@jupyter-widgets/base",
            "_model_module_version": "1.2.0",
            "_model_name": "LayoutModel",
            "_view_count": null,
            "_view_module": "@jupyter-widgets/base",
            "_view_module_version": "1.2.0",
            "_view_name": "LayoutView",
            "align_content": null,
            "align_items": null,
            "align_self": null,
            "border": null,
            "bottom": null,
            "display": null,
            "flex": null,
            "flex_flow": null,
            "grid_area": null,
            "grid_auto_columns": null,
            "grid_auto_flow": null,
            "grid_auto_rows": null,
            "grid_column": null,
            "grid_gap": null,
            "grid_row": null,
            "grid_template_areas": null,
            "grid_template_columns": null,
            "grid_template_rows": null,
            "height": null,
            "justify_content": null,
            "justify_items": null,
            "left": null,
            "margin": null,
            "max_height": null,
            "max_width": null,
            "min_height": null,
            "min_width": null,
            "object_fit": null,
            "object_position": null,
            "order": null,
            "overflow": null,
            "overflow_x": null,
            "overflow_y": null,
            "padding": null,
            "right": null,
            "top": null,
            "visibility": null,
            "width": null
          }
        },
        "22658c2f82404c6887998fc9495f5d0a": {
          "model_module": "@jupyter-widgets/base",
          "model_name": "LayoutModel",
          "model_module_version": "1.2.0",
          "state": {
            "_model_module": "@jupyter-widgets/base",
            "_model_module_version": "1.2.0",
            "_model_name": "LayoutModel",
            "_view_count": null,
            "_view_module": "@jupyter-widgets/base",
            "_view_module_version": "1.2.0",
            "_view_name": "LayoutView",
            "align_content": null,
            "align_items": null,
            "align_self": null,
            "border": null,
            "bottom": null,
            "display": null,
            "flex": null,
            "flex_flow": null,
            "grid_area": null,
            "grid_auto_columns": null,
            "grid_auto_flow": null,
            "grid_auto_rows": null,
            "grid_column": null,
            "grid_gap": null,
            "grid_row": null,
            "grid_template_areas": null,
            "grid_template_columns": null,
            "grid_template_rows": null,
            "height": null,
            "justify_content": null,
            "justify_items": null,
            "left": null,
            "margin": null,
            "max_height": null,
            "max_width": null,
            "min_height": null,
            "min_width": null,
            "object_fit": null,
            "object_position": null,
            "order": null,
            "overflow": null,
            "overflow_x": null,
            "overflow_y": null,
            "padding": null,
            "right": null,
            "top": null,
            "visibility": null,
            "width": null
          }
        },
        "e11df81dcf1440cd90b21cb18d464999": {
          "model_module": "@jupyter-widgets/controls",
          "model_name": "SliderStyleModel",
          "model_module_version": "1.5.0",
          "state": {
            "_model_module": "@jupyter-widgets/controls",
            "_model_module_version": "1.5.0",
            "_model_name": "SliderStyleModel",
            "_view_count": null,
            "_view_module": "@jupyter-widgets/base",
            "_view_module_version": "1.2.0",
            "_view_name": "StyleView",
            "description_width": "",
            "handle_color": null
          }
        },
        "8544934e6494448d84c061b7989326be": {
          "model_module": "@jupyter-widgets/base",
          "model_name": "LayoutModel",
          "model_module_version": "1.2.0",
          "state": {
            "_model_module": "@jupyter-widgets/base",
            "_model_module_version": "1.2.0",
            "_model_name": "LayoutModel",
            "_view_count": null,
            "_view_module": "@jupyter-widgets/base",
            "_view_module_version": "1.2.0",
            "_view_name": "LayoutView",
            "align_content": null,
            "align_items": null,
            "align_self": null,
            "border": null,
            "bottom": null,
            "display": null,
            "flex": null,
            "flex_flow": null,
            "grid_area": null,
            "grid_auto_columns": null,
            "grid_auto_flow": null,
            "grid_auto_rows": null,
            "grid_column": null,
            "grid_gap": null,
            "grid_row": null,
            "grid_template_areas": null,
            "grid_template_columns": null,
            "grid_template_rows": null,
            "height": null,
            "justify_content": null,
            "justify_items": null,
            "left": null,
            "margin": null,
            "max_height": null,
            "max_width": null,
            "min_height": null,
            "min_width": null,
            "object_fit": null,
            "object_position": null,
            "order": null,
            "overflow": null,
            "overflow_x": null,
            "overflow_y": null,
            "padding": null,
            "right": null,
            "top": null,
            "visibility": null,
            "width": null
          }
        },
        "00d64c467f3a4da78b9a8fd500b3b452": {
          "model_module": "@jupyter-widgets/controls",
          "model_name": "VBoxModel",
          "model_module_version": "1.5.0",
          "state": {
            "_dom_classes": [
              "widget-interact"
            ],
            "_model_module": "@jupyter-widgets/controls",
            "_model_module_version": "1.5.0",
            "_model_name": "VBoxModel",
            "_view_count": null,
            "_view_module": "@jupyter-widgets/controls",
            "_view_module_version": "1.5.0",
            "_view_name": "VBoxView",
            "box_style": "",
            "children": [
              "IPY_MODEL_4d50a402772045bc8cf0692cbe9159f5",
              "IPY_MODEL_fe26d60d5c4448cfad3105599c050263",
              "IPY_MODEL_d5d1e1c75df9445998a0ecf0bb4f651e",
              "IPY_MODEL_b947c520102041e9945fce76c3673749"
            ],
            "layout": "IPY_MODEL_cfddd285190f4ed4ad29e339c8d6b1d2"
          }
        },
        "4d50a402772045bc8cf0692cbe9159f5": {
          "model_module": "@jupyter-widgets/controls",
          "model_name": "IntSliderModel",
          "model_module_version": "1.5.0",
          "state": {
            "_dom_classes": [],
            "_model_module": "@jupyter-widgets/controls",
            "_model_module_version": "1.5.0",
            "_model_name": "IntSliderModel",
            "_view_count": null,
            "_view_module": "@jupyter-widgets/controls",
            "_view_module_version": "1.5.0",
            "_view_name": "IntSliderView",
            "continuous_update": true,
            "description": "mean",
            "description_tooltip": null,
            "disabled": false,
            "layout": "IPY_MODEL_8ba57dcfaee64f1aa63d8ef1f887b8a3",
            "max": 80,
            "min": 60,
            "orientation": "horizontal",
            "readout": true,
            "readout_format": "d",
            "step": 1,
            "style": "IPY_MODEL_aec48ca598a4435b9c6341b7489b05a8",
            "value": 70
          }
        },
        "fe26d60d5c4448cfad3105599c050263": {
          "model_module": "@jupyter-widgets/controls",
          "model_name": "FloatSliderModel",
          "model_module_version": "1.5.0",
          "state": {
            "_dom_classes": [],
            "_model_module": "@jupyter-widgets/controls",
            "_model_module_version": "1.5.0",
            "_model_name": "FloatSliderModel",
            "_view_count": null,
            "_view_module": "@jupyter-widgets/controls",
            "_view_module_version": "1.5.0",
            "_view_name": "FloatSliderView",
            "continuous_update": true,
            "description": "standarddev",
            "description_tooltip": null,
            "disabled": false,
            "layout": "IPY_MODEL_1d477a268af1417683c016a87dd19ab4",
            "max": 1.5,
            "min": 0.5,
            "orientation": "horizontal",
            "readout": true,
            "readout_format": ".2f",
            "step": 0.1,
            "style": "IPY_MODEL_f42c992be46f4864bad0e660a0229976",
            "value": 1
          }
        },
        "d5d1e1c75df9445998a0ecf0bb4f651e": {
          "model_module": "@jupyter-widgets/controls",
          "model_name": "IntSliderModel",
          "model_module_version": "1.5.0",
          "state": {
            "_dom_classes": [],
            "_model_module": "@jupyter-widgets/controls",
            "_model_module_version": "1.5.0",
            "_model_name": "IntSliderModel",
            "_view_count": null,
            "_view_module": "@jupyter-widgets/controls",
            "_view_module_version": "1.5.0",
            "_view_name": "IntSliderView",
            "continuous_update": true,
            "description": "df",
            "description_tooltip": null,
            "disabled": false,
            "layout": "IPY_MODEL_6714a17eb14a4f33b4648a7e3a186d8b",
            "max": 10,
            "min": 1,
            "orientation": "horizontal",
            "readout": true,
            "readout_format": "d",
            "step": 1,
            "style": "IPY_MODEL_f58105891a5f468eb9e98198ea7c250c",
            "value": 5
          }
        },
        "b947c520102041e9945fce76c3673749": {
          "model_module": "@jupyter-widgets/output",
          "model_name": "OutputModel",
          "model_module_version": "1.0.0",
          "state": {
            "_dom_classes": [],
            "_model_module": "@jupyter-widgets/output",
            "_model_module_version": "1.0.0",
            "_model_name": "OutputModel",
            "_view_count": null,
            "_view_module": "@jupyter-widgets/output",
            "_view_module_version": "1.0.0",
            "_view_name": "OutputView",
            "layout": "IPY_MODEL_209f2100c2b948dba02ae8dfbf9f8c86",
            "msg_id": "",
            "outputs": [
              {
                "output_type": "display_data",
                "data": {
                  "text/plain": "<Figure size 432x288 with 1 Axes>",
                  "image/png": "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\n"
                },
                "metadata": {}
              }
            ]
          }
        },
        "cfddd285190f4ed4ad29e339c8d6b1d2": {
          "model_module": "@jupyter-widgets/base",
          "model_name": "LayoutModel",
          "model_module_version": "1.2.0",
          "state": {
            "_model_module": "@jupyter-widgets/base",
            "_model_module_version": "1.2.0",
            "_model_name": "LayoutModel",
            "_view_count": null,
            "_view_module": "@jupyter-widgets/base",
            "_view_module_version": "1.2.0",
            "_view_name": "LayoutView",
            "align_content": null,
            "align_items": null,
            "align_self": null,
            "border": null,
            "bottom": null,
            "display": null,
            "flex": null,
            "flex_flow": null,
            "grid_area": null,
            "grid_auto_columns": null,
            "grid_auto_flow": null,
            "grid_auto_rows": null,
            "grid_column": null,
            "grid_gap": null,
            "grid_row": null,
            "grid_template_areas": null,
            "grid_template_columns": null,
            "grid_template_rows": null,
            "height": null,
            "justify_content": null,
            "justify_items": null,
            "left": null,
            "margin": null,
            "max_height": null,
            "max_width": null,
            "min_height": null,
            "min_width": null,
            "object_fit": null,
            "object_position": null,
            "order": null,
            "overflow": null,
            "overflow_x": null,
            "overflow_y": null,
            "padding": null,
            "right": null,
            "top": null,
            "visibility": null,
            "width": null
          }
        },
        "8ba57dcfaee64f1aa63d8ef1f887b8a3": {
          "model_module": "@jupyter-widgets/base",
          "model_name": "LayoutModel",
          "model_module_version": "1.2.0",
          "state": {
            "_model_module": "@jupyter-widgets/base",
            "_model_module_version": "1.2.0",
            "_model_name": "LayoutModel",
            "_view_count": null,
            "_view_module": "@jupyter-widgets/base",
            "_view_module_version": "1.2.0",
            "_view_name": "LayoutView",
            "align_content": null,
            "align_items": null,
            "align_self": null,
            "border": null,
            "bottom": null,
            "display": null,
            "flex": null,
            "flex_flow": null,
            "grid_area": null,
            "grid_auto_columns": null,
            "grid_auto_flow": null,
            "grid_auto_rows": null,
            "grid_column": null,
            "grid_gap": null,
            "grid_row": null,
            "grid_template_areas": null,
            "grid_template_columns": null,
            "grid_template_rows": null,
            "height": null,
            "justify_content": null,
            "justify_items": null,
            "left": null,
            "margin": null,
            "max_height": null,
            "max_width": null,
            "min_height": null,
            "min_width": null,
            "object_fit": null,
            "object_position": null,
            "order": null,
            "overflow": null,
            "overflow_x": null,
            "overflow_y": null,
            "padding": null,
            "right": null,
            "top": null,
            "visibility": null,
            "width": null
          }
        },
        "aec48ca598a4435b9c6341b7489b05a8": {
          "model_module": "@jupyter-widgets/controls",
          "model_name": "SliderStyleModel",
          "model_module_version": "1.5.0",
          "state": {
            "_model_module": "@jupyter-widgets/controls",
            "_model_module_version": "1.5.0",
            "_model_name": "SliderStyleModel",
            "_view_count": null,
            "_view_module": "@jupyter-widgets/base",
            "_view_module_version": "1.2.0",
            "_view_name": "StyleView",
            "description_width": "",
            "handle_color": null
          }
        },
        "1d477a268af1417683c016a87dd19ab4": {
          "model_module": "@jupyter-widgets/base",
          "model_name": "LayoutModel",
          "model_module_version": "1.2.0",
          "state": {
            "_model_module": "@jupyter-widgets/base",
            "_model_module_version": "1.2.0",
            "_model_name": "LayoutModel",
            "_view_count": null,
            "_view_module": "@jupyter-widgets/base",
            "_view_module_version": "1.2.0",
            "_view_name": "LayoutView",
            "align_content": null,
            "align_items": null,
            "align_self": null,
            "border": null,
            "bottom": null,
            "display": null,
            "flex": null,
            "flex_flow": null,
            "grid_area": null,
            "grid_auto_columns": null,
            "grid_auto_flow": null,
            "grid_auto_rows": null,
            "grid_column": null,
            "grid_gap": null,
            "grid_row": null,
            "grid_template_areas": null,
            "grid_template_columns": null,
            "grid_template_rows": null,
            "height": null,
            "justify_content": null,
            "justify_items": null,
            "left": null,
            "margin": null,
            "max_height": null,
            "max_width": null,
            "min_height": null,
            "min_width": null,
            "object_fit": null,
            "object_position": null,
            "order": null,
            "overflow": null,
            "overflow_x": null,
            "overflow_y": null,
            "padding": null,
            "right": null,
            "top": null,
            "visibility": null,
            "width": null
          }
        },
        "f42c992be46f4864bad0e660a0229976": {
          "model_module": "@jupyter-widgets/controls",
          "model_name": "SliderStyleModel",
          "model_module_version": "1.5.0",
          "state": {
            "_model_module": "@jupyter-widgets/controls",
            "_model_module_version": "1.5.0",
            "_model_name": "SliderStyleModel",
            "_view_count": null,
            "_view_module": "@jupyter-widgets/base",
            "_view_module_version": "1.2.0",
            "_view_name": "StyleView",
            "description_width": "",
            "handle_color": null
          }
        },
        "6714a17eb14a4f33b4648a7e3a186d8b": {
          "model_module": "@jupyter-widgets/base",
          "model_name": "LayoutModel",
          "model_module_version": "1.2.0",
          "state": {
            "_model_module": "@jupyter-widgets/base",
            "_model_module_version": "1.2.0",
            "_model_name": "LayoutModel",
            "_view_count": null,
            "_view_module": "@jupyter-widgets/base",
            "_view_module_version": "1.2.0",
            "_view_name": "LayoutView",
            "align_content": null,
            "align_items": null,
            "align_self": null,
            "border": null,
            "bottom": null,
            "display": null,
            "flex": null,
            "flex_flow": null,
            "grid_area": null,
            "grid_auto_columns": null,
            "grid_auto_flow": null,
            "grid_auto_rows": null,
            "grid_column": null,
            "grid_gap": null,
            "grid_row": null,
            "grid_template_areas": null,
            "grid_template_columns": null,
            "grid_template_rows": null,
            "height": null,
            "justify_content": null,
            "justify_items": null,
            "left": null,
            "margin": null,
            "max_height": null,
            "max_width": null,
            "min_height": null,
            "min_width": null,
            "object_fit": null,
            "object_position": null,
            "order": null,
            "overflow": null,
            "overflow_x": null,
            "overflow_y": null,
            "padding": null,
            "right": null,
            "top": null,
            "visibility": null,
            "width": null
          }
        },
        "f58105891a5f468eb9e98198ea7c250c": {
          "model_module": "@jupyter-widgets/controls",
          "model_name": "SliderStyleModel",
          "model_module_version": "1.5.0",
          "state": {
            "_model_module": "@jupyter-widgets/controls",
            "_model_module_version": "1.5.0",
            "_model_name": "SliderStyleModel",
            "_view_count": null,
            "_view_module": "@jupyter-widgets/base",
            "_view_module_version": "1.2.0",
            "_view_name": "StyleView",
            "description_width": "",
            "handle_color": null
          }
        },
        "209f2100c2b948dba02ae8dfbf9f8c86": {
          "model_module": "@jupyter-widgets/base",
          "model_name": "LayoutModel",
          "model_module_version": "1.2.0",
          "state": {
            "_model_module": "@jupyter-widgets/base",
            "_model_module_version": "1.2.0",
            "_model_name": "LayoutModel",
            "_view_count": null,
            "_view_module": "@jupyter-widgets/base",
            "_view_module_version": "1.2.0",
            "_view_name": "LayoutView",
            "align_content": null,
            "align_items": null,
            "align_self": null,
            "border": null,
            "bottom": null,
            "display": null,
            "flex": null,
            "flex_flow": null,
            "grid_area": null,
            "grid_auto_columns": null,
            "grid_auto_flow": null,
            "grid_auto_rows": null,
            "grid_column": null,
            "grid_gap": null,
            "grid_row": null,
            "grid_template_areas": null,
            "grid_template_columns": null,
            "grid_template_rows": null,
            "height": null,
            "justify_content": null,
            "justify_items": null,
            "left": null,
            "margin": null,
            "max_height": null,
            "max_width": null,
            "min_height": null,
            "min_width": null,
            "object_fit": null,
            "object_position": null,
            "order": null,
            "overflow": null,
            "overflow_x": null,
            "overflow_y": null,
            "padding": null,
            "right": null,
            "top": null,
            "visibility": null,
            "width": null
          }
        }
      }
    }
  },
  "cells": [
    {
      "cell_type": "markdown",
      "metadata": {
        "id": "view-in-github",
        "colab_type": "text"
      },
      "source": [
        "<a href=\"https://colab.research.google.com/github/clint-bg/tools/blob/main/ConfidenceIntervals.ipynb\" target=\"_parent\"><img src=\"https://colab.research.google.com/assets/colab-badge.svg\" alt=\"Open In Colab\"/></a>"
      ]
    },
    {
      "cell_type": "markdown",
      "source": [
        "# Confidence Intervals\n",
        "This sheet attempts to explain the difference between **confidence intervals on the mean** of a population (observations from a given process) and **confidence intervals on a model parameter** used to predict a response.\n",
        "\n",
        "In practical terms, when evaluating observed measurements, I view the confidence interval on the mean of that data as how well I know that average value and thus I could assess if I need to take more data. When looking at a parameter, the confidence interval is related to how impactful the parameter is on the predicted outcome.\n",
        "\n",
        "-Clint Guymon, BYU Chemical Engineering Department, July 2022"
      ],
      "metadata": {
        "id": "EmxRpnz261VN"
      }
    },
    {
      "cell_type": "code",
      "source": [
        "#import needed packages\n",
        "from ipywidgets import interact\n",
        "import matplotlib.pyplot as plt\n",
        "import seaborn as sns; sns.set_theme()\n",
        "import numpy as np\n",
        "import pandas as pd\n",
        "from scipy.stats import t,f #import Student t distribution methods\n",
        "from scipy.optimize import minimize #sse minimizer (there are many other options that can be used)"
      ],
      "metadata": {
        "id": "_Etmz7C37JmB"
      },
      "execution_count": 16,
      "outputs": []
    },
    {
      "cell_type": "markdown",
      "source": [
        "## Confidence Interval on the Mean of Observations\n",
        "Observations are made ubiquitously with the increasing documentation and recording of those observations driving much of the artificial intelligence that uses those observations to make predictions. \n",
        "\n",
        "The confidence interval on the average or mean of those quantified observations can depend on the distribution from which those obserservations are made. The **Central Limit Theorem** establishes that the methods used for statistical conclusions based on the normal distribution can usually be applied to scenarios that may not be generated from a normal distribution. It is assumed to be so in the discussion here."
      ],
      "metadata": {
        "id": "6sNFCjsV7RSl"
      }
    },
    {
      "cell_type": "markdown",
      "source": [
        "### Example\n",
        "Suppose I'm measuring the outlet temperature of a heat exchanger and I have the following data\n",
        "\n",
        "*  What is the average or mean outlet temperature? \n",
        "*  What is the confidence interval on that average outlet temperature?\n",
        "*  How much better would you know the mean if instead of the relatively small sample of temperatures you took, you took many more? Or, what would your confidence interval on the mean be with many more recorded observations?"
      ],
      "metadata": {
        "id": "qI7x7Nd4Rpdc"
      }
    },
    {
      "cell_type": "code",
      "source": [
        "initialtemps = [75.2,80.1,76.8,78.4,79.0]"
      ],
      "metadata": {
        "id": "seIaO0pZVWgL"
      },
      "execution_count": 17,
      "outputs": []
    },
    {
      "cell_type": "markdown",
      "source": [
        "#### Average or Mean Outlet Temperature"
      ],
      "metadata": {
        "id": "JKuXwtYvXKpQ"
      }
    },
    {
      "cell_type": "code",
      "source": [
        "meantemperature = np.mean(initialtemps)"
      ],
      "metadata": {
        "id": "8zb5reGeWEqD"
      },
      "execution_count": 18,
      "outputs": []
    },
    {
      "cell_type": "markdown",
      "source": [
        "#### Confidence Interval on that Mean Outlet Temperature"
      ],
      "metadata": {
        "id": "vLDyNbuBXj4v"
      }
    },
    {
      "cell_type": "code",
      "source": [
        "#first calculate the standard deviation and then the standard error\n",
        "sdev = np.std(initialtemps)\n",
        "stderr = sdev/np.sqrt(len(initialtemps))\n",
        "ci = stderr*t.interval(0.95,len(initialtemps))[1]\n",
        "#the t.interval yields the cutoff for the 95% confidence interval for the Student t distribution (at high degrees of freedom, it converges to the normal result)"
      ],
      "metadata": {
        "id": "VAJCavOIYBVt"
      },
      "execution_count": 19,
      "outputs": []
    },
    {
      "cell_type": "code",
      "source": [
        "print(f'The average or mean outlet temperature with {len(initialtemps)} recorded observations is {meantemperature:.1f} plus/minus {ci:.1f}.')"
      ],
      "metadata": {
        "colab": {
          "base_uri": "https://localhost:8080/"
        },
        "id": "CVtiA4yWcEH4",
        "outputId": "d1889ba2-433f-4288-efa7-ac208b25f711"
      },
      "execution_count": 20,
      "outputs": [
        {
          "output_type": "stream",
          "name": "stdout",
          "text": [
            "The average or mean outlet temperature with 5 recorded observations is 77.9 plus/minus 2.0.\n"
          ]
        }
      ]
    },
    {
      "cell_type": "markdown",
      "source": [
        "#### Effect of Many More Observations\n",
        "I will use the statistical measures of the above 5 temperatures to generate many more observations sampled from a normal distribution."
      ],
      "metadata": {
        "id": "kAGuUXB4_NJK"
      }
    },
    {
      "cell_type": "code",
      "source": [
        "moretemps = t.rvs(1000,size=100)*sdev+meantemperature #1000 degrees of freedom used to give the same result as the normal distribution, also, used the previous mean and stdev to generate the numbers\n",
        "exampleoutlettemps = np.append(initialtemps,moretemps)\n",
        "exampleoutlettemps[:50]"
      ],
      "metadata": {
        "colab": {
          "base_uri": "https://localhost:8080/"
        },
        "id": "ozyNC6I7_S7U",
        "outputId": "306dbc03-95a1-4cb8-cb52-7ffbeb4a3e9a"
      },
      "execution_count": 21,
      "outputs": [
        {
          "output_type": "execute_result",
          "data": {
            "text/plain": [
              "array([75.2       , 80.1       , 76.8       , 78.4       , 79.        ,\n",
              "       80.1553327 , 79.391508  , 78.35808037, 75.27359127, 78.89313244,\n",
              "       77.26962177, 78.61773065, 77.83153578, 81.26940361, 77.10034739,\n",
              "       79.63373654, 78.29710209, 76.96967566, 76.48329798, 77.36491843,\n",
              "       79.34442379, 78.58030954, 77.80782477, 80.35748858, 75.46632818,\n",
              "       77.33757751, 75.3283229 , 80.0121274 , 78.56346744, 80.87644268,\n",
              "       78.16572641, 76.24965898, 79.66666799, 80.05567313, 76.8476205 ,\n",
              "       78.99791203, 77.94599638, 75.04466772, 79.52286584, 76.69962801,\n",
              "       74.69722416, 79.18003682, 77.1783455 , 75.11739147, 79.44276343,\n",
              "       78.84771077, 78.35052705, 79.36013629, 76.01790864, 77.91757508])"
            ]
          },
          "metadata": {},
          "execution_count": 21
        }
      ]
    },
    {
      "cell_type": "code",
      "source": [
        "meantemperatureL = np.mean(exampleoutlettemps)\n",
        "sdevL = np.std(exampleoutlettemps)\n",
        "stderrL = sdevL/np.sqrt(len(exampleoutlettemps))\n",
        "ciL = stderrL*t.interval(0.95,len(exampleoutlettemps))[1]\n",
        "print(f'Now with a greater amount of samples, the average or mean outlet temperature with {len(exampleoutlettemps)} recorded observations is {meantemperatureL:.1f} plus/minus {ciL:.1f}.')"
      ],
      "metadata": {
        "colab": {
          "base_uri": "https://localhost:8080/"
        },
        "id": "VuD7H46bCYIk",
        "outputId": "4cd4b775-bbc8-4845-e9ac-5072fe366427"
      },
      "execution_count": 22,
      "outputs": [
        {
          "output_type": "stream",
          "name": "stdout",
          "text": [
            "Now with a greater amount of samples, the average or mean outlet temperature with 105 recorded observations is 78.1 plus/minus 0.3.\n"
          ]
        }
      ]
    },
    {
      "cell_type": "markdown",
      "source": [
        "Comparing the two results, the average values and the standard deviations are similar but the confidence interval is significantly lower. That is, with more observations, we are much more confident in the mean or average exit temperature from the heat exchanger."
      ],
      "metadata": {
        "id": "j8IMO9tnEtHX"
      }
    },
    {
      "cell_type": "code",
      "source": [
        "#stats for (5 and 105) samples\n",
        "print(f'The confidence intervales for 5 and 105 samples, respectively: +/- {ci:.1f},{ciL:.1f}')\n",
        "print(f'The average temperature for 5 and 105 samples, respectively: {meantemperature:.1f},{meantemperatureL:.1f}')\n",
        "print(f'The standard deviation for 5 and 105 samples, respectively: {sdev:.1f},{sdevL:.1f}')"
      ],
      "metadata": {
        "colab": {
          "base_uri": "https://localhost:8080/"
        },
        "id": "lLTABmY2F-yV",
        "outputId": "f89e293c-18a6-4e15-daf6-2652e8a1172f"
      },
      "execution_count": 23,
      "outputs": [
        {
          "output_type": "stream",
          "name": "stdout",
          "text": [
            "The confidence intervales for 5 and 105 samples, respectively: +/- 2.0,0.3\n",
            "The average temperature for 5 and 105 samples, respectively: 77.9,78.1\n",
            "The standard deviation for 5 and 105 samples, respectively: 1.7,1.7\n"
          ]
        }
      ]
    },
    {
      "cell_type": "markdown",
      "source": [
        "Note that the fact that the above average and standard deviation values are similar between 5 and 105 samples is because I set it up that way (the other values were generated from a mean and stdev equal to that for the 5 samples). If the wasn't the case, it's expected that the standard deviation and mean could show a greater difference than what is portrayed above."
      ],
      "metadata": {
        "id": "SkiYm0DEMUQS"
      }
    },
    {
      "cell_type": "markdown",
      "source": [
        "#### Interactive Slider Indicating Sampe Size Effect on the Confidence Interval\n",
        "Below is a slider with associated code demonstrating the above."
      ],
      "metadata": {
        "id": "-h5ZkwcbQ540"
      }
    },
    {
      "cell_type": "code",
      "source": [
        "@interact(n=(5,500))\n",
        "def cifn(n):\n",
        "  othertemps = t.rvs(1000,size=n-5)*np.std(initialtemps)+meantemperature #1000 degrees of freedom used to give the same result as the normal distribution, also, used the previous mean and stdev to generate the numbers\n",
        "  temps = np.append(initialtemps,othertemps)\n",
        "  sdev = np.std(temps)\n",
        "  stderr = sdev/np.sqrt(len(temps))\n",
        "  ci = stderr*t.interval(0.95,len(temps))[1]\n",
        "  print(f'The mean is {np.mean(temps):.1f} +/- {ci:.1f} with standard deviation of {sdev:.1f}')"
      ],
      "metadata": {
        "colab": {
          "base_uri": "https://localhost:8080/",
          "height": 66,
          "referenced_widgets": [
            "3baa0fd3a73d491e947d1857cfcdfb35",
            "2505d0862f2f44e288aee14d85928b9f",
            "6b6f2fcd169849f09acdec51d48272f7",
            "ed50d35ebe7f4865a5a712e1cc14417d",
            "22658c2f82404c6887998fc9495f5d0a",
            "e11df81dcf1440cd90b21cb18d464999",
            "8544934e6494448d84c061b7989326be"
          ]
        },
        "id": "VlLNp9rfRsNe",
        "outputId": "c7bdbde5-a5cb-4cc8-8085-312feac03446"
      },
      "execution_count": 24,
      "outputs": [
        {
          "output_type": "display_data",
          "data": {
            "text/plain": [
              "interactive(children=(IntSlider(value=252, description='n', max=500, min=5), Output()), _dom_classes=('widget-…"
            ],
            "application/vnd.jupyter.widget-view+json": {
              "version_major": 2,
              "version_minor": 0,
              "model_id": "3baa0fd3a73d491e947d1857cfcdfb35"
            }
          },
          "metadata": {}
        }
      ]
    },
    {
      "cell_type": "markdown",
      "source": [
        "### Standard Error versus Standard Deviation\n",
        "As exhibited in the above example, **the standard deviation may not indicate how well you know the average** or mean temperature (but it can indicate the distribution of values observed). The standard error on the other hand, is a measure of how well you know the mean and is simply the ratio of the standard deviation and the sqrt of the number of observations.\n",
        "\n",
        "I have been confused by these two values in the past (and sometimes in the present). When calculating the confidence interval on the mean of observations, make sure to either use the standard error with the typical 1.96 or 2 value or divide the standard deviation by the sqrt of the number of observations before multiplying by the 1.96 or 2 factor to get confidence intervals."
      ],
      "metadata": {
        "id": "3EUteO-_Sa0k"
      }
    },
    {
      "cell_type": "markdown",
      "source": [
        "### Normal versus the Student t Distribution\n",
        "The normal distrution relates the probability of an observational value given the mean and standard deviation from that population. When the standard deviation is well known, the normal distribution parameters are usually used in calculating the confidence intervals. For example, for a two-sided tail, a 95% confidence interval corresponds to a normalized value of 1.96 (or 2) that is typically used. \n",
        "\n",
        "However, if the standard deviation isn't well known, the Student t distribution is used to account for that uncertainty. It accounts for the number of degrees of freedom (or observations) to yield a value to use for the confidence interval (instead of the typical 1.96 or 2 used for the two-tail 95% C.I.).\n",
        "\n",
        "Below is an interactive slider that can be used to compare the two distributions."
      ],
      "metadata": {
        "id": "2Eay1S1VOjWN"
      }
    },
    {
      "cell_type": "code",
      "source": [
        "#Create an interactive plot (not seen in GitHub but can be manipulated in Google Colab)\n",
        "@interact(mean=(60,80),standarddev=(0.5,1.5),df=(1,10))\n",
        "def normalplot(mean,standarddev,df):\n",
        "  xlin =  (np.linspace(mean-7*standarddev, mean+7*standarddev, 200)-mean)/standarddev\n",
        "  ylin = t.pdf(xlin,1000)/standarddev\n",
        "  ylin2 = t.pdf(xlin,df)/standarddev\n",
        "  plt.plot(xlin*standarddev+mean, ylin, 'r', label='Normal Distribution'); \n",
        "  plt.plot(xlin*standarddev+mean, ylin2, 'b', label='Student t Distribution');\n",
        "  plt.xlabel(\"mean\"); plt.ylabel(\"probability\")\n",
        "  plt.xlim(50,90); plt.ylim(0,1)\n",
        "  plt.legend(); plt.show()\n"
      ],
      "metadata": {
        "colab": {
          "base_uri": "https://localhost:8080/",
          "height": 385,
          "referenced_widgets": [
            "00d64c467f3a4da78b9a8fd500b3b452",
            "4d50a402772045bc8cf0692cbe9159f5",
            "fe26d60d5c4448cfad3105599c050263",
            "d5d1e1c75df9445998a0ecf0bb4f651e",
            "b947c520102041e9945fce76c3673749",
            "cfddd285190f4ed4ad29e339c8d6b1d2",
            "8ba57dcfaee64f1aa63d8ef1f887b8a3",
            "aec48ca598a4435b9c6341b7489b05a8",
            "1d477a268af1417683c016a87dd19ab4",
            "f42c992be46f4864bad0e660a0229976",
            "6714a17eb14a4f33b4648a7e3a186d8b",
            "f58105891a5f468eb9e98198ea7c250c",
            "209f2100c2b948dba02ae8dfbf9f8c86"
          ]
        },
        "id": "t1mA81CCB2Dx",
        "outputId": "b15127c2-e7ed-4c8c-e243-b22b46bd0b7c"
      },
      "execution_count": 25,
      "outputs": [
        {
          "output_type": "display_data",
          "data": {
            "text/plain": [
              "interactive(children=(IntSlider(value=70, description='mean', max=80, min=60), FloatSlider(value=1.0, descript…"
            ],
            "application/vnd.jupyter.widget-view+json": {
              "version_major": 2,
              "version_minor": 0,
              "model_id": "00d64c467f3a4da78b9a8fd500b3b452"
            }
          },
          "metadata": {}
        }
      ]
    },
    {
      "cell_type": "markdown",
      "source": [
        "## Confidence Interval on a Parameter in a Model\n",
        "**A model could be a simple line relating one independent variable to a dependent variable**. For example, the concentration of a species can linearly relate to the rate of a first order reaction at a constant temperature.  Or, a model could yield a non-linear relationship (for example a second order reaction). \n",
        "\n",
        "Additionally, a model may have several parameters, for example the Arrhenius parameters in a second order reaction. Or, for a machine learning application, models can have millions of parameters."
      ],
      "metadata": {
        "id": "YL3eg6v0iinV"
      }
    },
    {
      "cell_type": "markdown",
      "source": [
        "### Obtain the Parameter Value(s)\n",
        "A curve fit by minimizing the sum of the squared errors is typically completed to determine the parameter value(s). Once the parameter value is determined, it can be valuable to detemine the uncertainty in that parameter value. \n",
        "\n",
        "First we'll set up a generic example to find the a linear parameter by minimizing the sum of the squared errors using scipy's minimize (we could use gekko as well)."
      ],
      "metadata": {
        "id": "wFYsYEAItEGQ"
      }
    },
    {
      "cell_type": "code",
      "source": [
        "data = pd.DataFrame({'response':[0.32,0.43,0.55,0.67,0.87]}, index=[2.2,3.5,6.4,8.6,9.1])\n",
        "data.plot()"
      ],
      "metadata": {
        "id": "LzCZFILMaSr5",
        "colab": {
          "base_uri": "https://localhost:8080/",
          "height": 285
        },
        "outputId": "06c08f29-39bc-42e7-ee83-775c1a7e0ec9"
      },
      "execution_count": 26,
      "outputs": [
        {
          "output_type": "execute_result",
          "data": {
            "text/plain": [
              "<matplotlib.axes._subplots.AxesSubplot at 0x7f8ba0e6b550>"
            ]
          },
          "metadata": {},
          "execution_count": 26
        },
        {
          "output_type": "display_data",
          "data": {
            "text/plain": [
              "<Figure size 432x288 with 1 Axes>"
            ],
            "image/png": "[encoded data removed]"
          },
          "metadata": {}
        }
      ]
    },
    {
      "cell_type": "code",
      "source": [
        "def linearSSE(x):\n",
        "  #calculate sum of squared errors for a linear fit\n",
        "  prediction = data.index*x[1] + x[0]\n",
        "  sse = ((prediction - data['response'])**2).sum()\n",
        "  return sse"
      ],
      "metadata": {
        "id": "_ySRMcs6ujV7"
      },
      "execution_count": 27,
      "outputs": []
    },
    {
      "cell_type": "code",
      "source": [
        "optimalparametervalues =  minimize(linearSSE,[1,1]).x\n",
        "optimalparametervalues"
      ],
      "metadata": {
        "colab": {
          "base_uri": "https://localhost:8080/"
        },
        "id": "VHINPNO-8T41",
        "outputId": "af9884cd-9ba6-4e37-abe4-54f644477f70"
      },
      "execution_count": 46,
      "outputs": [
        {
          "output_type": "execute_result",
          "data": {
            "text/plain": [
              "array([0.17053879, 0.06668812])"
            ]
          },
          "metadata": {},
          "execution_count": 46
        }
      ]
    },
    {
      "cell_type": "markdown",
      "source": [
        "### Obtain limits around each Parameter Value \n",
        "Limits around each parameter value are found that gives a SSE within the value that is not statistically different per the F test:\n",
        "$\\frac{SSE(\\theta)-SSE(\\theta^*)}{SSE(\\theta^*)} \\le \\frac{n}{n-p}\\cdot F(\\alpha,p,n-p)$\n",
        "\n",
        "where the $SSE$ is the sum of squared error given a set a parameter values $\\theta$, $\\theta^*$ is the parameter values that give the lowest $SSE$. $n$ is the number of data points, $p$ the number of parameters, and F is the scipy.f.isf function that specifies the important value that indicates whether one parameters set is significantly different from another. See also the very helpful info and demonstrations on AP Monitor: https://apmonitor.com/che263/index.php/Main/PythonRegressionStatistics."
      ],
      "metadata": {
        "id": "eiPLYS-98e1H"
      }
    },
    {
      "cell_type": "code",
      "source": [
        "f.isf(0.05,2,1)"
      ],
      "metadata": {
        "colab": {
          "base_uri": "https://localhost:8080/"
        },
        "id": "X47Xg-C0tmb_",
        "outputId": "e0b4068e-ea8b-461f-cbbf-9edb698f4dcc"
      },
      "execution_count": 45,
      "outputs": [
        {
          "output_type": "execute_result",
          "data": {
            "text/plain": [
              "199.49999999999972"
            ]
          },
          "metadata": {},
          "execution_count": 45
        }
      ]
    },
    {
      "cell_type": "code",
      "source": [
        "optimalSSE = minimize(linearSSE,[1,1]).fun\n",
        "#setup function to obtain confidence limits based on the F-test"
      ],
      "metadata": {
        "id": "2eCh7JtfsdmG"
      },
      "execution_count": null,
      "outputs": []
    },
    {
      "cell_type": "code",
      "source": [
        "optimalSSE"
      ],
      "metadata": {
        "colab": {
          "base_uri": "https://localhost:8080/"
        },
        "id": "u8cG_0oytcu2",
        "outputId": "e245b699-1999-43f2-9697-cc80f1c7b1e0"
      },
      "execution_count": null,
      "outputs": [
        {
          "output_type": "execute_result",
          "data": {
            "text/plain": [
              "0.016986649467982638"
            ]
          },
          "metadata": {},
          "execution_count": 14
        }
      ]
    },
    {
      "cell_type": "code",
      "source": [
        "minimize(linearSSE,[1,1]).fun"
      ],
      "metadata": {
        "id": "oX8HkcDPuthT",
        "colab": {
          "base_uri": "https://localhost:8080/"
        },
        "outputId": "cf994fff-64c8-4f77-e706-c12e63069248"
      },
      "execution_count": null,
      "outputs": [
        {
          "output_type": "execute_result",
          "data": {
            "text/plain": [
              "0.016986649467982638"
            ]
          },
          "metadata": {},
          "execution_count": 52
        }
      ]
    },
    {
      "cell_type": "code",
      "source": [
        "linearSSE([0.17,0.067])"
      ],
      "metadata": {
        "colab": {
          "base_uri": "https://localhost:8080/"
        },
        "id": "ry0a08fE_bbF",
        "outputId": "c8f33efa-455d-408d-c0fe-49bb3714f0c8"
      },
      "execution_count": null,
      "outputs": [
        {
          "output_type": "execute_result",
          "data": {
            "text/plain": [
              "0.01699898"
            ]
          },
          "metadata": {},
          "execution_count": 42
        }
      ]
    },
    {
      "cell_type": "code",
      "source": [
        "data.plot()"
      ],
      "metadata": {
        "colab": {
          "base_uri": "https://localhost:8080/",
          "height": 285
        },
        "id": "AWlp_vFEJ-dx",
        "outputId": "f65173a8-cd7b-4d0c-f4c1-97a5a25b7849"
      },
      "execution_count": null,
      "outputs": [
        {
          "output_type": "execute_result",
          "data": {
            "text/plain": [
              "<matplotlib.axes._subplots.AxesSubplot at 0x7f3576be2290>"
            ]
          },
          "metadata": {},
          "execution_count": 39
        },
        {
          "output_type": "display_data",
          "data": {
            "text/plain": [
              "<Figure size 432x288 with 1 Axes>"
            ],
            "image/png": "[encoded data removed]"
          },
          "metadata": {}
        }
      ]
    },
    {
      "cell_type": "code",
      "source": [
        ""
      ],
      "metadata": {
        "id": "EW8_iuRIKHF_"
      },
      "execution_count": null,
      "outputs": []
    }
  ]
}