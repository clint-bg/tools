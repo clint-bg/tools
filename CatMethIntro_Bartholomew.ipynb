{
 "cells": [
  {
   "cell_type": "markdown",
   "id": "fdaae328-1a4d-48c3-b39f-6fb50d3f7750",
   "metadata": {},
   "source": [
    "# Catalytic Methanation Calc Sheet"
   ]
  },
  {
   "cell_type": "code",
   "execution_count": 4,
   "id": "0a0672b0-344b-4fe2-b295-2cf69162ed0a",
   "metadata": {},
   "outputs": [],
   "source": [
    "#import needed packages\n",
    "import numpy as np\n",
    "import pandas as pd\n",
    "import matplotlib.pyplot as plt\n",
    "from scipy.optimize import minimize\n",
    "from scipy.optimize import fsolve\n",
    "import seaborn as sns"
   ]
  },
  {
   "cell_type": "markdown",
   "id": "55c2ac03",
   "metadata": {},
   "source": [
    "## Reaction details"
   ]
  },
  {
   "cell_type": "markdown",
   "id": "966b8856",
   "metadata": {},
   "source": [
    "Reaction:\n",
    "\n",
    "$CO_2 + 4 H_2 = CH_4 +2 H_2O$\n",
    "\n",
    "Five moles of stoichiometric inflow results in 3 moles of out flow when the reaction goes to completion thus:\n",
    "\n",
    "$n_{out} = n_{in}^s\\cdot\\left(1-2/5\\cdot X_a\\right) + n_{inert}$ \n",
    "\n",
    "where $X_a$ is the conversion defined as ($n_{in}^{CO2} - n_{out}^{CO2})/n_{in}^{CO2}$ and $s$ is the stoichiometric amount. Sometimes there are \"inert\" or excess gases that should also be treated as inert, we'll introduce a variable called $f_{inert}$ which is the fraction of gases that are inert and therfor $n_{inert} = f_{inert}\\cdot n_{in}$. In the below treatment, I've calculated the fraction of inerts based on the above stoichiometric reaction."
   ]
  },
  {
   "cell_type": "markdown",
   "id": "8ebab336",
   "metadata": {},
   "source": [
    "Species molar flow balances:\n",
    "\\begin{equation}\n",
    "n_{in}^{CH4} = n_{out}^{CH4} - r_W \\\\\n",
    "n_{in}^{H2} = n_{out}^{H2} + 4\\cdot r_W \\\\\n",
    "n_{in}^{CO2} = n_{out}^{CO2} + r_W \\\\\n",
    "n_{in}^{H2O} = n_{out}^{H2O} - 2\\cdot r_W \\\\\n",
    "n_{in}^{inert} = n_{out}^{inert} \\\\\n",
    "---------- \\\\\n",
    "n_{in} = n_{out} + 2\\cdot r_W \n",
    "\\end{equation}"
   ]
  },
  {
   "cell_type": "markdown",
   "id": "1ec519f9",
   "metadata": {},
   "source": [
    "Now substituting the above for $n_{out}$:<br>\n",
    "\\begin{equation}\n",
    "n_{in} = n_{in}^s\\cdot \\left(1-2/5\\cdot X_a\\right) + n_{inert} + 2\\cdot r_W \\\\\n",
    "n_{in}^s = \\left(1-f_{inert}\\right)\\cdot n_{in} \\\\\n",
    "n_{in} = n_{in}\\cdot \\left(1-f_{inert}\\right)\\left(1-2/5\\cdot X_a\\right) + f_{inert}\\cdot n_{in} + 2\\cdot r_W \\\\\n",
    "1 - \\left(1-f_{inert}\\right)\\left(1-2/5\\cdot X_a\\right) - f_{inert}= 2\\cdot r_W/n_{in}\n",
    "\\end{equation} <br>\n",
    "The last equation relates the conversion to the reaction rate (weight based)."
   ]
  },
  {
   "cell_type": "markdown",
   "id": "c14097e7-61ea-421a-ba2f-c306b89a70b0",
   "metadata": {
    "tags": []
   },
   "source": [
    "## Bartholomew Paper Summary"
   ]
  },
  {
   "cell_type": "code",
   "execution_count": 5,
   "id": "4e801330-6c47-4199-9159-42bceac30694",
   "metadata": {},
   "outputs": [],
   "source": [
    "sitesperkg = 2*100E-3 #moles/kg of catalyst as reported as 100 micromoles uptake of H2 per gram\n",
    "massB = 0.3e-3 #kg, they used 0.3 grams or about 1cc of catalyst\n",
    "density = 300 #kg/m3 per the paper where 1 cc is about 0.3 grams\n",
    "#space velocity is presumably the ratio of the flow rate at standard conditions to the catalyst volume\n",
    "GHSV = 30000/60 #min^-1 low of paper value of 30,000 to 90,000 hr^-1\n",
    "flowratesccmB = GHSV*1 #sccm\n",
    "pressureB = 140000 #Pa\n",
    "tempB = 525 #K\n",
    "Rg = 8.314 #J/mol/K\n",
    "#Turnover is the moles per moles of sites per second that are converted\n",
    "CH4TON_1 = np.array([1.6,1.9,2.15,2.3,2.45,2.58,2.6,2.8])*1E-3 #at 252C, 140kPa total pressure, 1.4kPa CO2, balance Nitrogen\n",
    "H2P_1=np.array([2.7,4.1,5.5,6.8,8.1,9.6,10.6,13.8]) #in kPa\n",
    "stoichamt_1 = np.array([min(each/4,1.4)*5 for each in H2P_1])\n",
    "fin_1 = (140 - stoichamt_1)/140\n",
    "CH4TON_2 = np.array([1.53,1.7,1.85,2.04,2.05,2.17,2.3,2.35,2.47])*1E-3 #at 252C, 140kPa total, 5.62kPa H2, balance N2\n",
    "CO2P_2 = np.array([0.25,0.45,0.55,0.8,1,1.35,1.6,2.1,2.75]) #in kPa\n",
    "stoichamt_2 = np.array([min(each,5.6/4)*5 for each in CO2P_2])\n",
    "fin_2 = (140 - stoichamt_2)/140\n"
   ]
  },
  {
   "cell_type": "code",
   "execution_count": 6,
   "id": "f05fd90e-0c62-4598-99b9-e832eb6dce8f",
   "metadata": {},
   "outputs": [
    {
     "data": {
      "image/png": "[encoded data removed]",
      "text/plain": [
       "<Figure size 864x288 with 2 Axes>"
      ]
     },
     "metadata": {
      "needs_background": "light"
     },
     "output_type": "display_data"
    }
   ],
   "source": [
    "#Reproduction (estimate) of Fig. 1 and 2 from the paper\n",
    "fig, (ax1, ax2) = plt.subplots(1, 2,figsize=(12,4))\n",
    "#fig.suptitle('Horizontally stacked subplots')\n",
    "ax1.scatter(H2P_1,CH4TON_1)\n",
    "ax2.scatter(CO2P_2,CH4TON_2)\n",
    "ax1.set(xlabel='H2 Partial Pressure, kPa')\n",
    "ax1.set(ylabel='CH4 Turnover, s^-1')\n",
    "ax2.set(xlabel='CO2 Partial Pressure, kPa')\n",
    "ax2.set(ylabel='CH4 Turnover, s^-1')\n",
    "ax1.grid()\n",
    "ax2.grid()\n",
    "plt.show()"
   ]
  },
  {
   "cell_type": "markdown",
   "id": "16da7f9b-fd91-4adb-8d6c-e3035f3df66f",
   "metadata": {
    "tags": []
   },
   "source": [
    "### Turnover to Reaction Rate"
   ]
  },
  {
   "cell_type": "code",
   "execution_count": 7,
   "id": "50a7ef5d-c77f-4f3f-b366-1379332915b2",
   "metadata": {},
   "outputs": [],
   "source": [
    "ninB = flowratesccmB/(60*1e6)*(101325)/(Rg*(298)) #moles per second"
   ]
  },
  {
   "cell_type": "code",
   "execution_count": 8,
   "id": "2fe01c2e",
   "metadata": {},
   "outputs": [
    {
     "data": {
      "text/plain": [
       "500.0"
      ]
     },
     "execution_count": 8,
     "metadata": {},
     "output_type": "execute_result"
    }
   ],
   "source": [
    "flowratesccmB"
   ]
  },
  {
   "cell_type": "code",
   "execution_count": 9,
   "id": "867d90ad-eb38-4e80-8846-8793952dd767",
   "metadata": {},
   "outputs": [],
   "source": [
    "rateB_1 = CH4TON_1*sitesperkg #molCH4/kg/s\n",
    "convB_1 = ((2*rateB_1/ninB*massB - 1 + fin_1)/(1-fin_1)+1)*2.5 #mol/s/kg"
   ]
  },
  {
   "cell_type": "code",
   "execution_count": 10,
   "id": "7a73c020-a0a6-4e1d-9c27-c03f1d150dc8",
   "metadata": {},
   "outputs": [],
   "source": [
    "rateB_2 = CH4TON_2*sitesperkg #molCH4/kg/s\n",
    "convB_2 = ((2*rateB_2/ninB*massB - 1 + fin_2)/(1-fin_2)+1)*2.5 #mol/s/kg"
   ]
  },
  {
   "cell_type": "code",
   "execution_count": 11,
   "id": "cc0748d3-4573-4b3b-9fec-91ac8843f74b",
   "metadata": {},
   "outputs": [],
   "source": [
    "dd = {'rate(mol/kg/s)':np.append(rateB_1,rateB_2),'P_H2(kPa)':np.append(H2P_1,np.ones(9)*5.6),\n",
    "      'P_CO2(kPa)':np.append(np.ones(8)*1.4,CO2P_2),'T(K)':np.ones(17)*525,'Ptot(kPa)':np.ones(17)*140,\n",
    "      'source':['data']*17,'Conv':np.append(convB_1,convB_2),'fin':np.append(fin_1,fin_2)}"
   ]
  },
  {
   "cell_type": "code",
   "execution_count": 12,
   "id": "4c3204d1-4c15-4aa4-9a53-b20384b8e79b",
   "metadata": {},
   "outputs": [],
   "source": [
    "df1 = pd.DataFrame(dd)"
   ]
  },
  {
   "cell_type": "code",
   "execution_count": 13,
   "id": "0ce3bd9a-cdac-49ca-bcc2-7f67a27f7da5",
   "metadata": {},
   "outputs": [],
   "source": [
    "df1['predicted']=1.56e5*np.exp(-89000/Rg/df1['T(K)'])*df1['P_H2(kPa)']**0.35*df1['P_CO2(kPa)']**0.2\n",
    "df1['SE']=(df1['predicted']-df1['rate(mol/kg/s)'])**2"
   ]
  },
  {
   "cell_type": "code",
   "execution_count": 14,
   "id": "b5e2eb3e-0453-48f9-84a8-278e721d77cc",
   "metadata": {},
   "outputs": [],
   "source": [
    "df2 = df1.copy()\n",
    "df2['source'] = 'power'\n",
    "df2['rate(mol/kg/s)']=df1['predicted']\n",
    "df2['Conv'] = ((2*df2['rate(mol/kg/s)']/ninB*massB - 1 + df2['fin'])/(1-df2['fin'])+1)*2.5\n",
    "df=pd.concat([df1,df2])\n",
    "df['rate to Xa ratio']=df['rate(mol/kg/s)']/df['Conv']"
   ]
  },
  {
   "cell_type": "code",
   "execution_count": 15,
   "id": "192a805d-5f0b-422f-925c-c8bc087744b6",
   "metadata": {},
   "outputs": [
    {
     "data": {
      "image/png": "[encoded data removed]",
      "text/plain": [
       "<Figure size 721.125x432 with 1 Axes>"
      ]
     },
     "metadata": {
      "needs_background": "light"
     },
     "output_type": "display_data"
    }
   ],
   "source": [
    "a = sns.relplot(data=df,x='P_H2(kPa)',y='rate(mol/kg/s)',hue='P_CO2(kPa)',\n",
    "                s=100,style='source', palette='flare',aspect=12/8,height=6)\n",
    "#a.axes[0,0].set_ylim(0,40); \n",
    "a.set(title='Comparison between the Model and Experimental Result')\n",
    "plt.grid()\n",
    "plt.show()"
   ]
  },
  {
   "cell_type": "code",
   "execution_count": 16,
   "id": "3e3e1523",
   "metadata": {},
   "outputs": [
    {
     "data": {
      "image/png": "[encoded data removed]",
      "text/plain": [
       "<Figure size 721.125x432 with 1 Axes>"
      ]
     },
     "metadata": {
      "needs_background": "light"
     },
     "output_type": "display_data"
    }
   ],
   "source": [
    "a = sns.relplot(data=df,x='P_H2(kPa)',y='Conv',hue='P_CO2(kPa)',\n",
    "                s=100,style='source', palette='flare',aspect=12/8,height=6)\n",
    "#a.axes[0,0].set_ylim(0,40); \n",
    "a.set(title='Comparison between the Model and Experimental Result')\n",
    "plt.grid()\n",
    "plt.show()"
   ]
  },
  {
   "cell_type": "markdown",
   "id": "63806c38-8c33-4342-ba13-517b9a5d6f54",
   "metadata": {},
   "source": [
    "## UO Lab Data and Regression"
   ]
  },
  {
   "cell_type": "code",
   "execution_count": 17,
   "id": "399677bf-c79b-4fa5-a320-18b5d3ead075",
   "metadata": {},
   "outputs": [],
   "source": [
    "dfdd = pd.read_csv('Library/CloudStorage/Box-Box/ChemE-CGuymon/TIPICE/UO Lab/Catalytic Methanation Experiment/Example Data/CatMethData(halfgram).csv')"
   ]
  },
  {
   "cell_type": "code",
   "execution_count": 18,
   "id": "99f97a3a",
   "metadata": {},
   "outputs": [],
   "source": [
    "dfd = dfdd[dfdd['GC']==2].copy()"
   ]
  },
  {
   "cell_type": "markdown",
   "id": "e895e9b5",
   "metadata": {},
   "source": [
    "Data taken in the UO lab in November 2022 on both systems. All at 200 sccm."
   ]
  },
  {
   "cell_type": "code",
   "execution_count": 19,
   "id": "49e05cf6",
   "metadata": {},
   "outputs": [],
   "source": [
    "flow = 200/1e6*101325/(Rg*298)/60 #200 sccm total to mol/sec\n",
    "catweight = 0.0005 # catalyst weight in kg (0.5 grams)\n",
    "totalpressure = 124.106 #18 psia to kPa"
   ]
  },
  {
   "cell_type": "code",
   "execution_count": 20,
   "id": "b63695d2",
   "metadata": {},
   "outputs": [],
   "source": [
    "dfd['Xa-CO2'] = 1-dfd['CO2, out']/dfd['CO2, in']\n",
    "dfd['Xa-CO2'] = dfd.apply(lambda x: x['Xa-CO2'] if x['Xa-CO2']>0 else 0,axis=1)\n",
    "dfd['Xa-CH4'] = dfd['CH4, out']/dfd['CO2, in']"
   ]
  },
  {
   "cell_type": "code",
   "execution_count": 21,
   "id": "622c3694",
   "metadata": {},
   "outputs": [],
   "source": [
    "dfd['finert'] = dfd.apply(lambda x: 1-min(x['H2, in']*5/4,x['CO2, in']*5), axis=1)"
   ]
  },
  {
   "cell_type": "code",
   "execution_count": 22,
   "id": "4c83ff30",
   "metadata": {},
   "outputs": [],
   "source": [
    "dfd['rate, mol/kg/s'] = (1-(1-dfd['finert'])*(1-2/5*dfd['Xa-CH4'])-dfd['finert'])*flow/2/catweight"
   ]
  },
  {
   "cell_type": "code",
   "execution_count": 23,
   "id": "0e9e7fcd",
   "metadata": {},
   "outputs": [],
   "source": [
    "dfd['T, K']=dfd['T, C']+273\n",
    "dfd['source'] = 'data'"
   ]
  },
  {
   "cell_type": "code",
   "execution_count": 24,
   "id": "8cc5d8b8-f9db-4e46-bc52-f71795861a2f",
   "metadata": {},
   "outputs": [],
   "source": [
    "def power(x):\n",
    "    stoichamtH2 = 4*dfd['CO2, in']\n",
    "    return x[0]*np.exp(-x[1]/Rg/dfd['T, K'])*(dfd['H2, in']*totalpressure)**x[2]*(dfd['CO2, in']*totalpressure)**x[3] "
   ]
  },
  {
   "cell_type": "code",
   "execution_count": 25,
   "id": "98cdfe86-4f02-4811-9ca9-0b271ef3f47a",
   "metadata": {},
   "outputs": [],
   "source": [
    "def func(x,*input):\n",
    "    dfd['predicted']= power(x)\n",
    "    return ((dfd['predicted']-dfd['rate, mol/kg/s'])**2).sum()"
   ]
  },
  {
   "cell_type": "code",
   "execution_count": 26,
   "id": "aa597040-f51d-4ffd-b219-be681b12a6b9",
   "metadata": {},
   "outputs": [],
   "source": [
    "res = minimize(func,[3E3,90000,0.3,0.2,],method='Nelder-Mead')"
   ]
  },
  {
   "cell_type": "code",
   "execution_count": 27,
   "id": "97559de0-336a-421b-8b71-903cc747830a",
   "metadata": {},
   "outputs": [
    {
     "data": {
      "text/plain": [
       "2.2823681180505848e-07"
      ]
     },
     "execution_count": 27,
     "metadata": {},
     "output_type": "execute_result"
    }
   ],
   "source": [
    "#Minimized SSE\n",
    "func(res.x)"
   ]
  },
  {
   "cell_type": "code",
   "execution_count": 28,
   "id": "5c718940-242f-4fd9-8117-24f8849760cd",
   "metadata": {},
   "outputs": [],
   "source": [
    "dfd2 = dfd.copy()\n",
    "dfd2['source'] = 'power'\n",
    "dfd2['rate, mol/kg/s']=dfd['predicted']\n",
    "dfd2['Xa-CH4'] = ((2*dfd2['rate, mol/kg/s']/flow*catweight - 1 + dfd2['finert'])/(1-dfd2['finert'])+1)*2.5\n",
    "dfd2['Xa-CO2'] = ((2*dfd2['rate, mol/kg/s']/flow*catweight - 1 + dfd2['finert'])/(1-dfd2['finert'])+1)*2.5\n",
    "dff=pd.concat([dfd,dfd2])\n",
    "# Note that some of the columns that are labeled predicted should be removed like Xa or be recalculated"
   ]
  },
  {
   "cell_type": "code",
   "execution_count": 29,
   "id": "f127c75b",
   "metadata": {},
   "outputs": [],
   "source": [
    "dff['P_H2(kPa)'] = totalpressure*dff['H2, in']; dff['P_CO2(kPa)'] = totalpressure*dff['CO2, in'];"
   ]
  },
  {
   "cell_type": "code",
   "execution_count": 30,
   "id": "5938d699-40c0-420a-91cb-058e258f8b09",
   "metadata": {},
   "outputs": [
    {
     "data": {
      "image/png": "[encoded data removed]",
      "text/plain": [
       "<Figure size 795.625x432 with 1 Axes>"
      ]
     },
     "metadata": {
      "needs_background": "light"
     },
     "output_type": "display_data"
    }
   ],
   "source": [
    "a = sns.relplot(data=dff,x='P_H2(kPa)',y='rate, mol/kg/s',hue='P_CO2(kPa)',\n",
    "                size='T, K',style='source', palette='flare',aspect=12/8,height=6)\n",
    "#a.axes[0,0].set_ylim(0,40); \n",
    "a.set(title='Comparison between the Model and Experimental Result')\n",
    "plt.grid()\n",
    "plt.show()"
   ]
  },
  {
   "cell_type": "code",
   "execution_count": 31,
   "id": "82407c24",
   "metadata": {},
   "outputs": [
    {
     "data": {
      "image/png": "[encoded data removed]",
      "text/plain": [
       "<Figure size 795.625x432 with 1 Axes>"
      ]
     },
     "metadata": {
      "needs_background": "light"
     },
     "output_type": "display_data"
    }
   ],
   "source": [
    "a = sns.relplot(data=dff,x='P_H2(kPa)',y='Xa-CH4',hue='P_CO2(kPa)',\n",
    "                size='T, K',style='source', palette='flare',aspect=12/8,height=6)\n",
    "#a.axes[0,0].set_ylim(0,1); \n",
    "a.set(title='Comparison between the Model and Experimental Result')\n",
    "plt.grid()\n",
    "plt.show()"
   ]
  },
  {
   "cell_type": "code",
   "execution_count": 43,
   "id": "b5a8f8e9",
   "metadata": {},
   "outputs": [
    {
     "data": {
      "text/plain": [
       "0.9804172916022056"
      ]
     },
     "execution_count": 43,
     "metadata": {},
     "output_type": "execute_result"
    }
   ],
   "source": [
    "#rsquared value\n",
    "seni = (dff[dff['source']=='power']['Xa-CH4'] - dff[dff['source']=='data']['Xa-CH4'])**2\n",
    "ssa = (dff[dff['source']=='data']['Xa-CH4'] - dff[dff['source']=='data']['Xa-CH4'].mean())**2\n",
    "rsquared = 1-seni.sum()/ssa.sum(); rsquared"
   ]
  },
  {
   "cell_type": "code",
   "execution_count": 49,
   "id": "d3005930",
   "metadata": {},
   "outputs": [
    {
     "data": {
      "text/plain": [
       "9.820695068453018"
      ]
     },
     "execution_count": 49,
     "metadata": {},
     "output_type": "execute_result"
    }
   ],
   "source": [
    "#MAPE - mean absolute percent error\n",
    "abe = np.abs((dff[dff['source']=='power']['Xa-CH4'] - dff[dff['source']=='data']['Xa-CH4'])/dff[dff['source']=='data']['Xa-CH4'])\n",
    "abe.mean()*100"
   ]
  },
  {
   "cell_type": "markdown",
   "id": "f48ae857-0ad0-4a73-a996-94d425459a4b",
   "metadata": {},
   "source": [
    "### Discussion"
   ]
  },
  {
   "cell_type": "code",
   "execution_count": 90,
   "id": "4de4229b",
   "metadata": {},
   "outputs": [
    {
     "data": {
      "text/plain": [
       "array([5.55558986e-01, 4.15282678e+04, 6.29634708e-01, 2.59626376e-01])"
      ]
     },
     "execution_count": 90,
     "metadata": {},
     "output_type": "execute_result"
    }
   ],
   "source": [
    "res.x"
   ]
  },
  {
   "cell_type": "markdown",
   "id": "313030ac-d11e-4ebe-8d41-ec2d45973bb1",
   "metadata": {},
   "source": [
    "The values regressed from the data differ significantly from those reported by Bartholomew\n",
    "<table>\n",
    "        <tr>\n",
    "        <td> Source </td><td>A</td><td>Ea, kJ/mol</td><td>m</td><td>n</td>\n",
    "            </tr>\n",
    "    <tr>\n",
    "        <td> Bartholomew </td><td>1.56E5</td><td>89</td><td>0.35 (H2)</td><td>0.2 (CO2)</td>\n",
    "    </tr>\n",
    "    <tr>\n",
    "        <td> This Data - GC 1 </td><td>71.49</td><td>57</td><td>-0.24 (H2)</td><td>1.01 (CO2)</td>\n",
    "    </tr>\n",
    "    <tr>\n",
    "        <td> This Data - GC 2 </td><td>9.55</td><td>40</td><td>-1.6 (H2)</td><td>2.6 (CO2)</td>\n",
    "    </tr>    \n",
    "</table>"
   ]
  },
  {
   "cell_type": "markdown",
   "id": "690e46ef-1f51-4be2-a310-b96bcdb02a15",
   "metadata": {},
   "source": [
    "## Scaleup Recommendation"
   ]
  },
  {
   "cell_type": "markdown",
   "id": "d821c3d5-e180-4bc1-b382-9f65908f2e0f",
   "metadata": {},
   "source": [
    "Scale up to 10E4 SLM flow (4% CO2, 20% H2, and inerts). Since most of the data was taken with a conversion of less than 30%, the scale-up will be limited to that.\n",
    "\n",
    "\n",
    "\n",
    "What is the increase in heating rates versus just burning the input (as 20% H2 is the input)\n",
    "\n",
    "Should the process go forward or should the stream just be burned?"
   ]
  },
  {
   "cell_type": "markdown",
   "id": "a32042a9",
   "metadata": {},
   "source": [
    "Rate at 270 C (543 K), 1 atm, 10,000 SLM, 4% CO2, 20% H2"
   ]
  },
  {
   "cell_type": "code",
   "execution_count": 29,
   "id": "f667402b",
   "metadata": {},
   "outputs": [],
   "source": [
    "molarflow = 1e4/1e3*101325/(Rg*298)/60 #SLM to mol/second\n",
    "pressure = 101.325 #1 atm to kPa"
   ]
  },
  {
   "cell_type": "code",
   "execution_count": 30,
   "id": "648cebd5",
   "metadata": {},
   "outputs": [],
   "source": [
    "def func(x,*input):\n",
    "    dct = input[0]\n",
    "    rate = res.x[0]*np.exp(-res.x[1]/8.314/543)*(4*0.04*(1-x)*pressure)**res.x[2]*(0.04*(1-x)*pressure)**res.x[3]\n",
    "    #rate = 1.56E5*np.exp(-89000/8.314/543)*(4*0.04*(1-x)*pressure)**0.35*(0.04*(1-x)*pressure)**0.2\n",
    "    zero2rd = x - rate*dct['weight']/molarflow\n",
    "    return zero2rd"
   ]
  },
  {
   "cell_type": "code",
   "execution_count": 31,
   "id": "4be02e85",
   "metadata": {},
   "outputs": [],
   "source": [
    "def conversions(weight):\n",
    "    input = {'weight':weight}\n",
    "    return fsolve(func,0.3,args=(input))"
   ]
  },
  {
   "cell_type": "code",
   "execution_count": 32,
   "id": "bc56ceb5",
   "metadata": {},
   "outputs": [
    {
     "data": {
      "text/plain": [
       "array([0.06455851])"
      ]
     },
     "execution_count": 32,
     "metadata": {},
     "output_type": "execute_result"
    }
   ],
   "source": [
    "conversions(1000)"
   ]
  },
  {
   "cell_type": "code",
   "execution_count": 33,
   "id": "45d2eec1",
   "metadata": {},
   "outputs": [
    {
     "data": {
      "image/png": "[encoded data removed]",
      "text/plain": [
       "<Figure size 432x288 with 1 Axes>"
      ]
     },
     "metadata": {
      "needs_background": "light"
     },
     "output_type": "display_data"
    }
   ],
   "source": [
    "wlin = np.linspace(0, 10000, 100)\n",
    "xalin = [conversions(each) for each in wlin]\n",
    "plt.plot(wlin, xalin, 'r', label='fitted line'); \n",
    "plt.xlabel(\"catalyst weight, kg\"); plt.ylabel(\"conversion\")\n",
    "plt.show()"
   ]
  },
  {
   "cell_type": "code",
   "execution_count": 34,
   "id": "dc2b54ae",
   "metadata": {},
   "outputs": [
    {
     "data": {
      "text/plain": [
       "array([53.65311015])"
      ]
     },
     "execution_count": 34,
     "metadata": {},
     "output_type": "execute_result"
    }
   ],
   "source": [
    "molarflow*0.04*conversions(1000)*0.016*2.205*60*60*24 #lb/sec"
   ]
  },
  {
   "cell_type": "code",
   "execution_count": 35,
   "id": "aab5aba5-0d34-4534-9cc3-686b7436e0ac",
   "metadata": {},
   "outputs": [
    {
     "ename": "NameError",
     "evalue": "name 'dfh' is not defined",
     "output_type": "error",
     "traceback": [
      "\u001b[0;31m---------------------------------------------------------------------------\u001b[0m",
      "\u001b[0;31mNameError\u001b[0m                                 Traceback (most recent call last)",
      "Input \u001b[0;32mIn [35]\u001b[0m, in \u001b[0;36m<cell line: 2>\u001b[0;34m()\u001b[0m\n\u001b[1;32m      1\u001b[0m \u001b[38;5;66;03m#conversion mean from the data\u001b[39;00m\n\u001b[0;32m----> 2\u001b[0m \u001b[43mdfh\u001b[49m\u001b[38;5;241m.\u001b[39mXa\u001b[38;5;241m.\u001b[39mmean()\n",
      "\u001b[0;31mNameError\u001b[0m: name 'dfh' is not defined"
     ]
    }
   ],
   "source": [
    "#conversion mean from the data\n",
    "dfh.Xa.mean()"
   ]
  },
  {
   "cell_type": "markdown",
   "id": "bbe48201-9c1f-4dae-803c-818268db7c11",
   "metadata": {},
   "source": [
    "## Appendix: Groupby Option"
   ]
  },
  {
   "cell_type": "code",
   "execution_count": null,
   "id": "3bef0f1f-7881-4fca-9157-557d7ae8104b",
   "metadata": {},
   "outputs": [],
   "source": [
    "binsH2 = [0,14,22,30]\n",
    "PH2names=['10','18','26']\n",
    "binsCO2=[0,3,5,10]\n",
    "PCO2names=['2','4','6']\n",
    "dfh['PH2bins']=pd.cut(dfh['P_H2(kPa)'],binsH2,labels=PH2names)\n",
    "dfh['PCO2bins']=pd.cut(dfh['P_CO2(kPa)'],binsCO2,labels=PCO2names)"
   ]
  },
  {
   "cell_type": "code",
   "execution_count": null,
   "id": "cbe31f51-6b6d-4d38-8f0f-eb65f26a09ab",
   "metadata": {},
   "outputs": [],
   "source": [
    "grouped = dfh.groupby(['T(K)','PH2bins','PCO2bins'])['rate (mol/kg/s)'].mean().to_frame(name='rate (mol/kg/s)').reset_index()"
   ]
  },
  {
   "cell_type": "code",
   "execution_count": null,
   "id": "0462c362-5060-4485-a2cb-782d9d1fd262",
   "metadata": {},
   "outputs": [],
   "source": [
    "grouped = grouped.dropna()"
   ]
  },
  {
   "cell_type": "code",
   "execution_count": null,
   "id": "49c8dce7-18f0-4a9d-8126-369fa124803a",
   "metadata": {},
   "outputs": [],
   "source": [
    "grouped.PH2bins = pd.to_numeric(grouped.PH2bins)\n",
    "grouped.PCO2bins = pd.to_numeric(grouped.PCO2bins)"
   ]
  },
  {
   "cell_type": "code",
   "execution_count": null,
   "id": "e1810b9e-523d-494b-8b18-f0398804d3c4",
   "metadata": {},
   "outputs": [],
   "source": [
    "grouped.groupby(['PH2bins'])['rate (mol/kg/s)'].plot()"
   ]
  },
  {
   "cell_type": "code",
   "execution_count": null,
   "id": "22cc9127-f64f-4d0f-9926-8b3fed99f8a4",
   "metadata": {},
   "outputs": [],
   "source": [
    "a = sns.relplot(data=grouped,x='PCO2bins',y='rate (mol/kg/s)',hue='PH2bins',\n",
    "                size='T(K)', palette='flare',aspect=12/8,height=6)\n",
    "#a.axes[0,0].set_ylim(0,40); \n",
    "a.set(title='Comparison between the Model and Experimental Result')\n",
    "plt.grid()\n",
    "plt.show()"
   ]
  },
  {
   "cell_type": "code",
   "execution_count": null,
   "id": "2ea07d60-fdb6-4ed2-bbf1-64aa7ebbabbd",
   "metadata": {},
   "outputs": [],
   "source": []
  },
  {
   "cell_type": "code",
   "execution_count": null,
   "id": "24052332",
   "metadata": {},
   "outputs": [],
   "source": []
  }
 ],
 "metadata": {
  "kernelspec": {
   "display_name": "Python 3 (ipykernel)",
   "language": "python",
   "name": "python3"
  },
  "language_info": {
   "codemirror_mode": {
    "name": "ipython",
    "version": 3
   },
   "file_extension": ".py",
   "mimetype": "text/x-python",
   "name": "python",
   "nbconvert_exporter": "python",
   "pygments_lexer": "ipython3",
   "version": "3.9.12"
  }
 },
 "nbformat": 4,
 "nbformat_minor": 5
}
