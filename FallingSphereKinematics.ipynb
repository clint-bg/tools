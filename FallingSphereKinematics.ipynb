{
  "cells": [
    {
      "cell_type": "markdown",
      "metadata": {
        "id": "view-in-github",
        "colab_type": "text"
      },
      "source": [
        "<a href=\"https://colab.research.google.com/github/clint-bg/tools/blob/main/FallingSphereKinematics.ipynb\" target=\"_parent\"><img src=\"https://colab.research.google.com/assets/colab-badge.svg\" alt=\"Open In Colab\"/></a>"
      ]
    },
    {
      "cell_type": "markdown",
      "id": "2317e4a6",
      "metadata": {
        "id": "2317e4a6"
      },
      "source": [
        "# Falling Sphere Kinematics"
      ]
    },
    {
      "cell_type": "code",
      "execution_count": 1,
      "id": "0c1c626d",
      "metadata": {
        "id": "0c1c626d"
      },
      "outputs": [],
      "source": [
        "#import needed packages\n",
        "import numpy as np\n",
        "import matplotlib.pyplot as plt\n",
        "from scipy import integrate, interpolate\n",
        "from scipy.optimize import fsolve"
      ]
    },
    {
      "cell_type": "code",
      "execution_count": 2,
      "id": "494f1b9e",
      "metadata": {
        "id": "494f1b9e"
      },
      "outputs": [],
      "source": [
        "#constants, all units are SI\n",
        "gravity = 9.81 #m/s2\n",
        "inch2m = 0.0254"
      ]
    },
    {
      "cell_type": "markdown",
      "id": "f27e0a3b",
      "metadata": {
        "id": "f27e0a3b"
      },
      "source": [
        "## Code to estimate the velocity and position of a falling sphere as a function of time "
      ]
    },
    {
      "cell_type": "markdown",
      "id": "eb07ea52",
      "metadata": {
        "id": "eb07ea52"
      },
      "source": [
        "Needed variables: <br>\n",
        "- sphere radius (m)\n",
        "- sphere density (kg/m3)\n",
        "- fluid density (kg/m3)\n",
        "- fluid viscosity (Pa-s)"
      ]
    },
    {
      "cell_type": "markdown",
      "id": "3e2166db",
      "metadata": {
        "id": "3e2166db"
      },
      "source": [
        "### First define the net force on the sphere: buoyancy, gravity, and drag"
      ]
    },
    {
      "cell_type": "markdown",
      "id": "bf280722",
      "metadata": {
        "id": "bf280722"
      },
      "source": [
        "Governing equations"
      ]
    },
    {
      "cell_type": "markdown",
      "id": "289f1937",
      "metadata": {
        "id": "289f1937"
      },
      "source": [
        "$F_{drag} = -1/2\\cdot \\rho_{fluid}\\cdot v^2 \\cdot C_{D}\\cdot A$ <br>\n",
        "$F_{buoyancy} = -\\rho_{fluid}\\cdot g \\cdot V$ <Br>\n",
        "$F_{gravity} = m\\cdot g$"
      ]
    },
    {
      "cell_type": "markdown",
      "id": "5c6344fe",
      "metadata": {
        "id": "5c6344fe"
      },
      "source": [
        "where A is the cross sectional area, $C_D$ is the drag coefficient, $v$ is velocity, $\\rho$ is density, V is volume, and m is mass."
      ]
    },
    {
      "cell_type": "code",
      "execution_count": 3,
      "id": "91fb3aa2",
      "metadata": {
        "id": "91fb3aa2"
      },
      "outputs": [],
      "source": [
        "#Define the Reynolds number from the variables\n",
        "def Re(v,rad,rho_fluid,vis_fluid):\n",
        "    return rho_fluid*2*rad*v/vis_fluid"
      ]
    },
    {
      "cell_type": "markdown",
      "source": [
        "### Drag Coefficient for a Sphere\n",
        "Stokes' law ($Re < 1$)<br>\n",
        "$C_d = \\frac{24}{Re}$<br><br>\n",
        "$Re < 1000$<br>\n",
        "$C_d = \\frac{24}{Re}(1+0.15Re^{0.687})$<br><br>\n",
        "General<br>\n",
        "[Faith Morrison's correlation](https://pages.mtu.edu/~fmorriso/DataCorrelationForSphereDrag2016.pdf) is given by <br>\n",
        "$ C_d = \\frac{24}{Re}+\\frac{2.6(Re/5)}{1+(Re/5)^{1.52}} + \\frac{0.411(Re/263000)^{-7.94}}{1+(Re/263000)^{-8}} + \\frac{0.25(Re/1000000)}{1+(Re/1000000)}$"
      ],
      "metadata": {
        "id": "WrxosqaHo4cd"
      },
      "id": "WrxosqaHo4cd"
    },
    {
      "cell_type": "code",
      "source": [
        "#Drag coefficient functions\n",
        "def Cd(Reyn):\n",
        "  Stokes = 24/Reyn\n",
        "  Simple = 24/Reyn*(1+0.15*Reyn**0.687)\n",
        "  Morrison = 24/Reyn + 2.6*(Reyn/5)/(1+(Reyn/5)**1.52)+(0.411*(Reyn/263000)**-7.94)/(1+(Reyn/263000)**-8)+0.25*(Reyn/1E6)/(1+(Reyn/1E6))\n",
        "  return Morrison"
      ],
      "metadata": {
        "id": "bpexENJCiMtZ"
      },
      "id": "bpexENJCiMtZ",
      "execution_count": 4,
      "outputs": []
    },
    {
      "cell_type": "code",
      "source": [
        "var = np.linspace(1,1E8,200000)\n",
        "plt.plot(var,Cd(var))\n",
        "plt.xscale(\"log\");plt.yscale(\"log\"); plt.xlabel('Re');plt.ylabel('Cd, Sphere'); plt.grid()\n",
        "plt.show()"
      ],
      "metadata": {
        "colab": {
          "base_uri": "https://localhost:8080/",
          "height": 454
        },
        "id": "f8uHP6t9h6hp",
        "outputId": "30eaad3e-19cb-40bf-8c08-763b45efcc0a"
      },
      "id": "f8uHP6t9h6hp",
      "execution_count": 5,
      "outputs": [
        {
          "output_type": "display_data",
          "data": {
            "text/plain": [
              "<Figure size 640x480 with 1 Axes>"
            ],
            "image/png": "[encoded data removed]"
          },
          "metadata": {}
        }
      ]
    },
    {
      "cell_type": "markdown",
      "source": [
        "Assuming a spherical shape, the below function is the net force."
      ],
      "metadata": {
        "id": "gqlliHkPu27r"
      },
      "id": "gqlliHkPu27r"
    },
    {
      "cell_type": "code",
      "execution_count": 6,
      "id": "81b5fc75",
      "metadata": {
        "id": "81b5fc75"
      },
      "outputs": [],
      "source": [
        "def netforce(v,rad,rho_fluid,rho_sphere,vis_fluid):\n",
        "    Codrag = Cd(Re(v,rad,rho_fluid,vis_fluid))\n",
        "    buoyancyandgravity = (rho_sphere-rho_fluid)/rho_sphere*gravity\n",
        "    drag = 1/2*rho_fluid*Codrag/(rho_sphere*4/3*rad)*v**2 \n",
        "    return buoyancyandgravity - drag"
      ]
    },
    {
      "cell_type": "code",
      "execution_count": 7,
      "id": "65bd13df",
      "metadata": {
        "id": "65bd13df"
      },
      "outputs": [],
      "source": [
        "def inverse_netforce(v,rad,rho_fluid,rho_sphere,vis_fluid): #used to for integral of dv/(F/m) = dt\n",
        "    return (1/netforce(v,rad,rho_fluid,rho_sphere,vis_fluid))"
      ]
    },
    {
      "cell_type": "code",
      "execution_count": 8,
      "id": "606fd797",
      "metadata": {
        "id": "606fd797"
      },
      "outputs": [],
      "source": [
        "def func(v,rad,rho_sphere,rho_fluid,vis_fluid): #used to solve for the max (terminal) velocity\n",
        "    Codrag = Cd(Re(v,rad,rho_fluid,vis_fluid))\n",
        "    return (v-np.sqrt(8/3*gravity*rad/Codrag*(rho_sphere-rho_fluid)/rho_fluid))**2"
      ]
    },
    {
      "cell_type": "code",
      "execution_count": 9,
      "id": "c6efc372",
      "metadata": {
        "id": "c6efc372"
      },
      "outputs": [],
      "source": [
        "def vmax(rad,rho_sphere,rho_fluid,vis_fluid):\n",
        "    return fsolve(func,30,args=(rad,rho_sphere,rho_fluid,vis_fluid))"
      ]
    },
    {
      "cell_type": "code",
      "execution_count": 10,
      "id": "9b5bc6d2",
      "metadata": {
        "id": "9b5bc6d2"
      },
      "outputs": [],
      "source": [
        "def time(v,rad,rho_fluid,rho_sphere,vis_fluid):\n",
        "    return integrate.quad(inverse_netforce, 0, v,args=(rad,rho_fluid,rho_sphere,vis_fluid))"
      ]
    },
    {
      "cell_type": "code",
      "execution_count": 11,
      "id": "8f608089",
      "metadata": {
        "id": "8f608089"
      },
      "outputs": [],
      "source": [
        "def dis2vmax(pos,vel,vmax):\n",
        "    finterp = interpolate.interp1d(vel, pos)\n",
        "    return finterp(vmax*0.98)"
      ]
    },
    {
      "cell_type": "code",
      "execution_count": 12,
      "id": "6106fb27",
      "metadata": {
        "id": "6106fb27"
      },
      "outputs": [],
      "source": [
        "def ballistics(rad,rho_fluid,rho_sphere,vis_fluid): #returns the time, position, and velocity\n",
        "    vmaxh = vmax(rad,rho_sphere,rho_fluid,vis_fluid)\n",
        "    velArray = np.linspace(vmaxh*0.01,vmaxh*0.999,500)\n",
        "    tt = [time(each,rad,rho_fluid,rho_sphere,vis_fluid)[0] for each in velArray]\n",
        "    velArray = np.append(velArray,vmaxh);tt = np.append(tt,max(tt)*3/vmaxh*1.5)\n",
        "    xpos = np.array([integrate.trapezoid(velArray[:i+1],x=tt[:i+1]) for i,each in enumerate(tt)])\n",
        "    return tt,xpos,velArray"
      ]
    },
    {
      "cell_type": "markdown",
      "id": "a87d342a",
      "metadata": {
        "id": "a87d342a"
      },
      "source": [
        "Specify variables"
      ]
    },
    {
      "cell_type": "code",
      "execution_count": 13,
      "id": "f275a0b4",
      "metadata": {
        "id": "f275a0b4"
      },
      "outputs": [],
      "source": [
        "#property data\n",
        "rad = 0.006/2 #m\n",
        "rho_fluid = 1000 #kg/m3\n",
        "rho_sphere = 7750 #kg/m3\n",
        "vis_fluid = 1E-3 #Pa*s"
      ]
    },
    {
      "cell_type": "code",
      "execution_count": 14,
      "id": "512cfcf8",
      "metadata": {
        "id": "512cfcf8"
      },
      "outputs": [],
      "source": [
        "vmaxh = vmax(rad,rho_sphere,rho_fluid,vis_fluid)"
      ]
    },
    {
      "cell_type": "code",
      "execution_count": 15,
      "id": "796062c3",
      "metadata": {
        "id": "796062c3"
      },
      "outputs": [],
      "source": [
        "times,position,velocity = ballistics(rad,rho_fluid,rho_sphere,vis_fluid)"
      ]
    },
    {
      "cell_type": "code",
      "execution_count": 16,
      "id": "acac9e9b",
      "metadata": {
        "colab": {
          "base_uri": "https://localhost:8080/",
          "height": 451
        },
        "id": "acac9e9b",
        "outputId": "70b7c1d8-9697-4132-b528-fd36a57f9b36"
      },
      "outputs": [
        {
          "output_type": "display_data",
          "data": {
            "text/plain": [
              "<Figure size 640x480 with 1 Axes>"
            ],
            "image/png": "[encoded data removed]"
          },
          "metadata": {}
        }
      ],
      "source": [
        "plt.plot(position,velocity,linestyle='-.')\n",
        "plt.xlabel('pos, m');plt.ylabel('velocity, m/s')\n",
        "#plt.ylim(0,0.25); plt.xlim(0,1)\n",
        "plt.show()"
      ]
    },
    {
      "cell_type": "markdown",
      "id": "d5cd40c7",
      "metadata": {
        "id": "d5cd40c7"
      },
      "source": [
        "The above plot shows how far it would require the ball to reach terminal velocity (velocity is constant)."
      ]
    },
    {
      "cell_type": "code",
      "execution_count": 17,
      "id": "6a6b2a5e",
      "metadata": {
        "colab": {
          "base_uri": "https://localhost:8080/",
          "height": 449
        },
        "id": "6a6b2a5e",
        "outputId": "b493a770-0bb2-4c68-dcb8-af050d7dcf1c"
      },
      "outputs": [
        {
          "output_type": "display_data",
          "data": {
            "text/plain": [
              "<Figure size 640x480 with 1 Axes>"
            ],
            "image/png": "[encoded data removed]"
          },
          "metadata": {}
        }
      ],
      "source": [
        "plt.plot(position,Re(velocity,rad,rho_fluid,vis_fluid),linestyle='-.')\n",
        "plt.xlabel('pos, m');plt.ylabel('Reynolds Number')\n",
        "#plt.ylim(0,0.25); plt.xlim(0,1)\n",
        "plt.show()"
      ]
    },
    {
      "cell_type": "markdown",
      "source": [
        "The above plot shows the Reynolds number as a function of position."
      ],
      "metadata": {
        "id": "G6lLrFO5v5yB"
      },
      "id": "G6lLrFO5v5yB"
    },
    {
      "cell_type": "code",
      "execution_count": 18,
      "id": "fb5f2418",
      "metadata": {
        "colab": {
          "base_uri": "https://localhost:8080/"
        },
        "id": "fb5f2418",
        "outputId": "3aea780f-3c6d-462d-a510-b9aaa11e7823"
      },
      "outputs": [
        {
          "output_type": "execute_result",
          "data": {
            "text/plain": [
              "10.11169009515604"
            ]
          },
          "metadata": {},
          "execution_count": 18
        }
      ],
      "source": [
        "#distance to terminal velocity (in)\n",
        "dis2vmax(position,velocity,max(velocity))*100/2.54"
      ]
    },
    {
      "cell_type": "code",
      "execution_count": 19,
      "id": "b552dce4",
      "metadata": {
        "colab": {
          "base_uri": "https://localhost:8080/"
        },
        "id": "b552dce4",
        "outputId": "10643201-17ef-4749-fb85-cf7e15c32508"
      },
      "outputs": [
        {
          "output_type": "execute_result",
          "data": {
            "text/plain": [
              "array([1.15655456])"
            ]
          },
          "metadata": {},
          "execution_count": 19
        }
      ],
      "source": [
        "#max velocity\n",
        "vmaxh"
      ]
    }
  ],
  "metadata": {
    "kernelspec": {
      "display_name": "Python 3 (ipykernel)",
      "language": "python",
      "name": "python3"
    },
    "language_info": {
      "codemirror_mode": {
        "name": "ipython",
        "version": 3
      },
      "file_extension": ".py",
      "mimetype": "text/x-python",
      "name": "python",
      "nbconvert_exporter": "python",
      "pygments_lexer": "ipython3",
      "version": "3.9.12"
    },
    "colab": {
      "provenance": [],
      "include_colab_link": true
    }
  },
  "nbformat": 4,
  "nbformat_minor": 5
}