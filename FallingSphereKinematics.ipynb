{
  "cells": [
    {
      "cell_type": "markdown",
      "metadata": {
        "id": "view-in-github",
        "colab_type": "text"
      },
      "source": [
        "<a href=\"https://colab.research.google.com/github/clint-bg/tools/blob/main/FallingSphereKinematics.ipynb\" target=\"_parent\"><img src=\"https://colab.research.google.com/assets/colab-badge.svg\" alt=\"Open In Colab\"/></a>"
      ]
    },
    {
      "cell_type": "markdown",
      "id": "2317e4a6",
      "metadata": {
        "id": "2317e4a6"
      },
      "source": [
        "# Falling Sphere Kinematics"
      ]
    },
    {
      "cell_type": "code",
      "execution_count": 1,
      "id": "0c1c626d",
      "metadata": {
        "id": "0c1c626d"
      },
      "outputs": [],
      "source": [
        "import numpy as np\n",
        "import matplotlib.pyplot as plt\n",
        "from scipy import integrate, interpolate\n",
        "from scipy.optimize import fsolve"
      ]
    },
    {
      "cell_type": "code",
      "execution_count": 2,
      "id": "494f1b9e",
      "metadata": {
        "id": "494f1b9e"
      },
      "outputs": [],
      "source": [
        "#constants\n",
        "gravity = 9.81 #m/s2\n",
        "inch2m = 0.0254"
      ]
    },
    {
      "cell_type": "markdown",
      "id": "f27e0a3b",
      "metadata": {
        "id": "f27e0a3b"
      },
      "source": [
        "## Code to estimate the velocity and position of a falling sphere as a function of time "
      ]
    },
    {
      "cell_type": "markdown",
      "id": "eb07ea52",
      "metadata": {
        "id": "eb07ea52"
      },
      "source": [
        "Needed variables: <br>\n",
        "- sphere radius (m)\n",
        "- sphere density (kg/m3)\n",
        "- fluid density (kg/m3)\n",
        "- fluid viscosity (Pa-s)"
      ]
    },
    {
      "cell_type": "markdown",
      "id": "3e2166db",
      "metadata": {
        "id": "3e2166db"
      },
      "source": [
        "### First define the net force on the sphere: buoyancy, gravity, and drag"
      ]
    },
    {
      "cell_type": "markdown",
      "id": "bf280722",
      "metadata": {
        "id": "bf280722"
      },
      "source": [
        "Governing equations"
      ]
    },
    {
      "cell_type": "markdown",
      "id": "289f1937",
      "metadata": {
        "id": "289f1937"
      },
      "source": [
        "$F_{drag} = -1/2\\cdot \\rho_{fluid}\\cdot v^2 \\cdot C_{D}\\cdot A$ <br>\n",
        "$F_{buoyancy} = -\\rho_{fluid}\\cdot g \\cdot V$ <Br>\n",
        "$F_{gravity} = m\\cdot g$"
      ]
    },
    {
      "cell_type": "markdown",
      "id": "5c6344fe",
      "metadata": {
        "id": "5c6344fe"
      },
      "source": [
        "where A is the cross sectional area, $C_D$ is the drag coefficient, $v$ is velocity, $\\rho$ is density, V is volume, and m is mass. Assuming a spherical shape, the below function is the net force."
      ]
    },
    {
      "cell_type": "code",
      "execution_count": 3,
      "id": "91fb3aa2",
      "metadata": {
        "id": "91fb3aa2"
      },
      "outputs": [],
      "source": [
        "def Re(v,rad,rho_fluid,vis_fluid):\n",
        "    return rho_fluid*2*rad*v/vis_fluid"
      ]
    },
    {
      "cell_type": "code",
      "execution_count": 4,
      "id": "67a7b95f",
      "metadata": {
        "id": "67a7b95f"
      },
      "outputs": [],
      "source": [
        "def Cdrag(v,rad,rho_fluid,vis_fluid):\n",
        "    Reyn = Re(v,rad,rho_fluid,vis_fluid)\n",
        "    Baxter = 24/Reyn + 2.6*(Reyn/5)/(1+(Reyn/5)**1.52)+(0.411*(Reyn/263000)**-7.94)/(1+(Reyn/263000)**-8)+(Reyn**0.8)/461000\n",
        "    Simple = 24/Reyn*(1+0.15*Reyn**0.687)\n",
        "    return Baxter"
      ]
    },
    {
      "cell_type": "code",
      "execution_count": 5,
      "id": "81b5fc75",
      "metadata": {
        "id": "81b5fc75"
      },
      "outputs": [],
      "source": [
        "def netforce(v,rad,rho_fluid,rho_sphere,vis_fluid):\n",
        "    Cd = Cdrag(v,rad,rho_fluid,vis_fluid)\n",
        "    buoyancyandgravity = (rho_sphere-rho_fluid)/rho_sphere*gravity\n",
        "    drag = 1/2*rho_fluid*Cd/(rho_sphere*4/3*rad)*v**2\n",
        "    return buoyancyandgravity - drag"
      ]
    },
    {
      "cell_type": "code",
      "execution_count": 6,
      "id": "65bd13df",
      "metadata": {
        "id": "65bd13df"
      },
      "outputs": [],
      "source": [
        "def inverse_netforce(v,rad,rho_fluid,rho_sphere,vis_fluid): #used to for integral of dv/(F/m) = dt\n",
        "    return (1/netforce(v,rad,rho_fluid,rho_sphere,vis_fluid))"
      ]
    },
    {
      "cell_type": "code",
      "execution_count": 7,
      "id": "606fd797",
      "metadata": {
        "id": "606fd797"
      },
      "outputs": [],
      "source": [
        "def func(v,rad,rho_sphere,rho_fluid,vis_fluid): #used to solve for the max (terminal) velocity\n",
        "    Cd = Cdrag(v,rad,rho_fluid,vis_fluid)\n",
        "    return (v-np.sqrt(8/3*gravity*rad/Cd*(rho_sphere-rho_fluid)/rho_fluid))**2"
      ]
    },
    {
      "cell_type": "code",
      "execution_count": 8,
      "id": "c6efc372",
      "metadata": {
        "id": "c6efc372"
      },
      "outputs": [],
      "source": [
        "def vmax(rad,rho_sphere,rho_fluid,vis_fluid):\n",
        "    return fsolve(func,1,args=(rad,rho_sphere,rho_fluid,vis_fluid))"
      ]
    },
    {
      "cell_type": "code",
      "execution_count": 9,
      "id": "9b5bc6d2",
      "metadata": {
        "id": "9b5bc6d2"
      },
      "outputs": [],
      "source": [
        "def time(v,rad,rho_fluid,rho_sphere,vis_fluid):\n",
        "    return integrate.quad(inverse_netforce, 0, v,args=(rad,rho_fluid,rho_sphere,vis_fluid))"
      ]
    },
    {
      "cell_type": "code",
      "execution_count": 10,
      "id": "8f608089",
      "metadata": {
        "id": "8f608089"
      },
      "outputs": [],
      "source": [
        "def dis2vmax(pos,vel,vmax):\n",
        "    finterp = interpolate.interp1d(vel, pos)\n",
        "    return finterp(vmax*0.98)"
      ]
    },
    {
      "cell_type": "code",
      "execution_count": 11,
      "id": "6106fb27",
      "metadata": {
        "id": "6106fb27"
      },
      "outputs": [],
      "source": [
        "def ballistics(rad,rho_fluid,rho_sphere,vis_fluid): #returns the time, position, and velocity\n",
        "    vmaxh = vmax(rad,rho_sphere,rho_fluid,vis_fluid)\n",
        "    velArray = np.linspace(vmaxh*0.01,vmaxh*0.999,500)\n",
        "    tt = [time(each,rad,rho_fluid,rho_sphere,vis_fluid)[0] for each in velArray]\n",
        "    velArray = np.append(velArray,vmaxh);tt = np.append(tt,max(tt)*3/vmaxh*1.5)\n",
        "    xpos = np.array([integrate.trapezoid(velArray[:i+1],x=tt[:i+1]) for i,each in enumerate(tt)])\n",
        "    return tt,xpos,velArray"
      ]
    },
    {
      "cell_type": "markdown",
      "id": "a87d342a",
      "metadata": {
        "id": "a87d342a"
      },
      "source": [
        "Specify variables"
      ]
    },
    {
      "cell_type": "code",
      "execution_count": 13,
      "id": "f275a0b4",
      "metadata": {
        "id": "f275a0b4"
      },
      "outputs": [],
      "source": [
        "#property data\n",
        "rad = 0.006/2 #m\n",
        "rho_fluid = 1000 #kg/m3\n",
        "rho_sphere = 7750 #kg/m3\n",
        "vis_fluid = 1E-3 #Pa*s"
      ]
    },
    {
      "cell_type": "code",
      "execution_count": 14,
      "id": "512cfcf8",
      "metadata": {
        "id": "512cfcf8"
      },
      "outputs": [],
      "source": [
        "vmaxh = vmax(rad,rho_sphere,rho_fluid,vis_fluid)"
      ]
    },
    {
      "cell_type": "code",
      "execution_count": 15,
      "id": "796062c3",
      "metadata": {
        "id": "796062c3"
      },
      "outputs": [],
      "source": [
        "times,position,velocity = ballistics(rad,rho_fluid,rho_sphere,vis_fluid)"
      ]
    },
    {
      "cell_type": "code",
      "execution_count": 16,
      "id": "acac9e9b",
      "metadata": {
        "colab": {
          "base_uri": "https://localhost:8080/",
          "height": 281
        },
        "id": "acac9e9b",
        "outputId": "8e0b020c-a259-49c6-d152-422d51d8c78c"
      },
      "outputs": [
        {
          "output_type": "display_data",
          "data": {
            "text/plain": [
              "<Figure size 432x288 with 1 Axes>"
            ],
            "image/png": "[encoded data removed]"
          },
          "metadata": {
            "needs_background": "light"
          }
        }
      ],
      "source": [
        "plt.plot(position,velocity,linestyle='-.')\n",
        "plt.xlabel('pos, m');plt.ylabel('velocity, m/s')\n",
        "#plt.ylim(0,0.25); plt.xlim(0,1)\n",
        "plt.show()"
      ]
    },
    {
      "cell_type": "markdown",
      "id": "d5cd40c7",
      "metadata": {
        "id": "d5cd40c7"
      },
      "source": [
        "The above plot shows how far it would require for the ball the drop to reach terminal velocity"
      ]
    },
    {
      "cell_type": "code",
      "execution_count": 17,
      "id": "6a6b2a5e",
      "metadata": {
        "colab": {
          "base_uri": "https://localhost:8080/",
          "height": 279
        },
        "id": "6a6b2a5e",
        "outputId": "647eadff-dc4b-449d-ad10-398d7ff09b8a"
      },
      "outputs": [
        {
          "output_type": "display_data",
          "data": {
            "text/plain": [
              "<Figure size 432x288 with 1 Axes>"
            ],
            "image/png": "[encoded data removed]"
          },
          "metadata": {
            "needs_background": "light"
          }
        }
      ],
      "source": [
        "plt.plot(position,Re(velocity,rad,rho_fluid,vis_fluid),linestyle='-.')\n",
        "plt.xlabel('pos, m');plt.ylabel('Reynolds Number')\n",
        "#plt.ylim(0,0.25); plt.xlim(0,1)\n",
        "plt.show()"
      ]
    },
    {
      "cell_type": "code",
      "execution_count": null,
      "id": "fb5f2418",
      "metadata": {
        "id": "fb5f2418",
        "outputId": "a22f2e04-e80f-4e60-f333-adb51fed4063"
      },
      "outputs": [
        {
          "data": {
            "text/plain": [
              "10.086183112581722"
            ]
          },
          "execution_count": 18,
          "metadata": {},
          "output_type": "execute_result"
        }
      ],
      "source": [
        "#distance to terminal velocity (in)\n",
        "dis2vmax(position,velocity,max(velocity))*100/2.54"
      ]
    },
    {
      "cell_type": "code",
      "execution_count": null,
      "id": "b552dce4",
      "metadata": {
        "id": "b552dce4"
      },
      "outputs": [],
      "source": []
    }
  ],
  "metadata": {
    "kernelspec": {
      "display_name": "Python 3 (ipykernel)",
      "language": "python",
      "name": "python3"
    },
    "language_info": {
      "codemirror_mode": {
        "name": "ipython",
        "version": 3
      },
      "file_extension": ".py",
      "mimetype": "text/x-python",
      "name": "python",
      "nbconvert_exporter": "python",
      "pygments_lexer": "ipython3",
      "version": "3.9.12"
    },
    "colab": {
      "provenance": [],
      "include_colab_link": true
    }
  },
  "nbformat": 4,
  "nbformat_minor": 5
}