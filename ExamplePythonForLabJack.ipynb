{
 "cells": [
  {
   "cell_type": "code",
   "execution_count": 1,
   "id": "f84fecdb",
   "metadata": {},
   "outputs": [],
   "source": [
    "import u3\n",
    "import math\n",
    "from time import sleep\n",
    "import datetime"
   ]
  },
  {
   "cell_type": "code",
   "execution_count": 2,
   "id": "ecfcbc8c",
   "metadata": {},
   "outputs": [],
   "source": [
    "d = u3.U3()"
   ]
  },
  {
   "cell_type": "code",
   "execution_count": 3,
   "id": "20861a8a",
   "metadata": {},
   "outputs": [],
   "source": [
    "def gettimeinfo():\n",
    "    #Returns a tuple with the year-month-day as a string and the seconds elapsed from that day\n",
    "    ctime = datetime.datetime.now()\n",
    "    cseconds = ctime.second + 60*ctime.minute + 60*60*ctime.hour + ctime.microsecond/1e6\n",
    "    cdate = str(ctime.year) + '-' + str(ctime.month) + '-' + str(ctime.day)\n",
    "    return (cdate, cseconds)"
   ]
  },
  {
   "cell_type": "code",
   "execution_count": 4,
   "id": "39bbcdbd",
   "metadata": {},
   "outputs": [
    {
     "data": {
      "text/plain": [
       "('2025-1-29', 58941.202059)"
      ]
     },
     "execution_count": 4,
     "metadata": {},
     "output_type": "execute_result"
    }
   ],
   "source": [
    "gettimeinfo()"
   ]
  },
  {
   "cell_type": "code",
   "execution_count": 5,
   "id": "e4208e6a",
   "metadata": {},
   "outputs": [],
   "source": [
    "tempToVolts1 = (0.0E0,\n",
    "                0.39450128E-1,\n",
    "                0.236223736E-4,\n",
    "                -0.328589068E-6,\n",
    "                -0.499048288E-8,\n",
    "                -0.675090592E-10,\n",
    "                -0.574103274E-12,\n",
    "                -0.310888729E-14,\n",
    "                -0.104516094E-16,\n",
    "                -0.198892669E-19,\n",
    "                -0.163226975E-22)\n",
    "\n",
    "class ExtendedList(list):\n",
    "    def __init__(self):\n",
    "        list.__init__(self)\n",
    "        self.extended = None\n",
    "        \n",
    "tempToVolts2 = ExtendedList()\n",
    "tempToVolts2.append(-0.176004137E-1)\n",
    "tempToVolts2.append(0.38921205E-1)\n",
    "tempToVolts2.append(0.1855877E-4)\n",
    "tempToVolts2.append(-0.994575929E-7)\n",
    "tempToVolts2.append(0.318409457E-9)\n",
    "tempToVolts2.append(-0.560728449E-12)\n",
    "tempToVolts2.append(0.560750591E-15)\n",
    "tempToVolts2.append(-0.3202072E-18)\n",
    "tempToVolts2.append(0.971511472E-22)\n",
    "tempToVolts2.append(-0.121047213E-25)\n",
    "tempToVolts2.extended = (0.1185976E0, -0.1183432E-3, 0.1269686E3)\n",
    "\n",
    "def evaluatePolynomial(coeffs, x):\n",
    "    tot = 0\n",
    "    y = 1\n",
    "    for a in coeffs:\n",
    "        tot += y * a\n",
    "        y *= x\n",
    "    return tot"
   ]
  },
  {
   "cell_type": "code",
   "execution_count": 6,
   "id": "d16886a6",
   "metadata": {},
   "outputs": [],
   "source": [
    "def tempCToMVolts(tempC):\n",
    "    coeffs = tempToVoltsConstants(tempC)\n",
    "    if hasattr(coeffs, \"extended\"):\n",
    "        a0, a1, a2 = coeffs.extended\n",
    "        extendedCalc = a0 * math.exp(a1 * (tempC - a2) * (tempC - a2))\n",
    "        return evaluatePolynomial(coeffs, tempC) + extendedCalc\n",
    "    else:\n",
    "        return evaluatePolynomial(coeffs, tempC)"
   ]
  },
  {
   "cell_type": "code",
   "execution_count": 7,
   "id": "874ee370",
   "metadata": {},
   "outputs": [],
   "source": [
    "def tempToVoltsConstants(tempC):\n",
    "    if tempC < -270 or tempC > 1372:\n",
    "        raise Exception(\"Invalid range\")\n",
    "    if tempC < 0:\n",
    "        return tempToVolts1\n",
    "    else:\n",
    "        return tempToVolts2"
   ]
  },
  {
   "cell_type": "code",
   "execution_count": 8,
   "id": "d638734e",
   "metadata": {},
   "outputs": [],
   "source": [
    "def gettemps(channels,voltageOffset=1.249):\n",
    "    CJCTemp = d.getTemperature() - 273.15 #Cold Junction Temperature on the board in Centigrade\n",
    "    CJCMVolts = tempCToMVolts(CJCTemp)\n",
    "    temps = []\n",
    "    for each in channels:\n",
    "        temp = ((d.getAIN(each)-voltageOffset)*1000 - CJCMVolts)/0.04/11 #temperature relative to the CJC temperature\n",
    "        temps.append(temp + CJCTemp)\n",
    "    return temps"
   ]
  },
  {
   "cell_type": "markdown",
   "id": "8a04e121",
   "metadata": {},
   "source": [
    "Above gives the getAIN for a given chanel, there are multiple other commands that can be used.\n",
    "See more here: https://support.labjack.com/docs/low-level-commands-quickstart"
   ]
  },
  {
   "cell_type": "code",
   "execution_count": 9,
   "id": "3a000c8e",
   "metadata": {},
   "outputs": [
    {
     "data": {
      "text/plain": [
       "[24.800034036719808, 24.800034036719808]"
      ]
     },
     "execution_count": 9,
     "metadata": {},
     "output_type": "execute_result"
    }
   ],
   "source": [
    "gettemps((14,15))"
   ]
  },
  {
   "cell_type": "code",
   "execution_count": 13,
   "id": "8b6a57c2",
   "metadata": {},
   "outputs": [],
   "source": [
    "#for a given loop, fill in a dictionary (dataframe)\n",
    "def sim (iterations = 100, ttotal = 5):\n",
    "    # iterations = 100; ttotal = 5 are the default values #total loop or reps and approximate total time in seconds\n",
    "    ddf = {'date':[],'seconds':[],'T1':[],'T2':[]}\n",
    "    for i in range(iterations):\n",
    "        sleep(ttotal/iterations)\n",
    "        dt = gettimeinfo()\n",
    "        ddf['date'].append(dt[0])\n",
    "        ddf['seconds'].append(dt[1])\n",
    "        ts = gettemps((14,15))\n",
    "        ddf['T1'].append(ts[0])\n",
    "        ddf['T2'].append(ts[1])\n",
    "    return ddf"
   ]
  },
  {
   "cell_type": "code",
   "execution_count": 14,
   "id": "7ed59fd6",
   "metadata": {},
   "outputs": [],
   "source": [
    "import matplotlib.pyplot as plt"
   ]
  },
  {
   "cell_type": "code",
   "execution_count": 19,
   "id": "26c1fb62",
   "metadata": {},
   "outputs": [
    {
     "data": {
      "text/plain": [
       "[<matplotlib.lines.Line2D at 0x1f0cf7cff70>]"
      ]
     },
     "execution_count": 19,
     "metadata": {},
     "output_type": "execute_result"
    },
    {
     "data": {
      "image/png": "[encoded data removed]",
      "text/plain": [
       "<Figure size 640x480 with 1 Axes>"
      ]
     },
     "metadata": {},
     "output_type": "display_data"
    }
   ],
   "source": [
    "out = sim()\n",
    "plt.plot(out['seconds'],out['T1'])\n",
    "plt.plot(out['seconds'],out['T2'])"
   ]
  },
  {
   "cell_type": "code",
   "execution_count": 16,
   "id": "2c998038",
   "metadata": {},
   "outputs": [
    {
     "data": {
      "text/plain": [
       "{'lvSESlope': 3.7155114114284515e-05,\n",
       " 'lvSEOffset': 0.006095356307923794,\n",
       " 'lvDiffSlope': 7.450161501765251e-05,\n",
       " 'lvDiffOffset': -2.4484216715209186,\n",
       " 'dac0Slope': 50.459256483009085,\n",
       " 'dac0Offset': -1.4224378280341625,\n",
       " 'dac1Slope': 50.45663585397415,\n",
       " 'dac1Offset': -1.1768596970941871,\n",
       " 'tempSlope': 0.012794025707989931,\n",
       " 'vRefAtCAl': 2.4479851357173175,\n",
       " 'vRef1.5AtCal': 0.0,\n",
       " 'vRegAtCal': 0.0,\n",
       " 'hvAIN0Slope': 0.0003145120572298765,\n",
       " 'hvAIN1Slope': 0.00031471624970436096,\n",
       " 'hvAIN2Slope': 0.0003145120572298765,\n",
       " 'hvAIN3Slope': 0.00031465827487409115,\n",
       " 'hvAIN0Offset': -10.305149845778942,\n",
       " 'hvAIN1Offset': -10.328868905315176,\n",
       " 'hvAIN2Offset': -10.312163929920644,\n",
       " 'hvAIN3Offset': -10.3208810063079}"
      ]
     },
     "execution_count": 16,
     "metadata": {},
     "output_type": "execute_result"
    }
   ],
   "source": [
    "d.getCalibrationData()"
   ]
  },
  {
   "cell_type": "markdown",
   "id": "2af26057",
   "metadata": {},
   "source": [
    "### Use of a Graphical Users Interface with TKinter"
   ]
  },
  {
   "cell_type": "code",
   "execution_count": 23,
   "id": "c53ae8d2",
   "metadata": {},
   "outputs": [],
   "source": [
    "import tkinter as tk\n",
    "from matplotlib.figure import Figure \n",
    "from matplotlib.backends.backend_tkagg import (FigureCanvasTkAgg,  \n",
    "NavigationToolbar2Tk) \n",
    "  \n",
    "# plot function is created for  \n",
    "# plotting the graph in  \n",
    "# tkinter window \n",
    "def plot(): \n",
    "  \n",
    "    # the figure that will contain the plot \n",
    "    fig = Figure(figsize = (5, 5), \n",
    "                 dpi = 100) \n",
    "    #get data\n",
    "    out = sim() \n",
    "    y1 = out['T1']; y2=out['T2']\n",
    "    x = out['seconds']\n",
    "  \n",
    "    # adding the subplot \n",
    "    plot1 = fig.add_subplot(111) \n",
    "  \n",
    "    # plotting the graph \n",
    "    plot1.plot(x,y1)\n",
    "    plot1.plot(x,y2)\n",
    "    plot1.set(xlabel='time, seconds', ylabel='temp, C')\n",
    "  \n",
    "    # creating the Tkinter canvas \n",
    "    # containing the Matplotlib figure \n",
    "    canvas = FigureCanvasTkAgg(fig, \n",
    "                               master = window)   \n",
    "    canvas.draw() \n",
    "  \n",
    "    # placing the canvas on the Tkinter window \n",
    "    canvas.get_tk_widget().pack() \n",
    "  \n",
    "    # creating the Matplotlib toolbar \n",
    "    toolbar = NavigationToolbar2Tk(canvas, \n",
    "                                   window) \n",
    "    toolbar.update() \n",
    "  \n",
    "    # placing the toolbar on the Tkinter window \n",
    "    canvas.get_tk_widget().pack() \n",
    "  \n",
    "# the main Tkinter window \n",
    "window = tk.Tk() \n",
    "  \n",
    "# setting the title  \n",
    "window.title('Plotting in Tkinter') \n",
    "  \n",
    "# dimensions of the main window \n",
    "window.geometry(\"500x500\") \n",
    "  \n",
    "# button that displays the plot \n",
    "plot_button = tk.Button(master = window,  \n",
    "                     command = plot, \n",
    "                     height = 2,  \n",
    "                     width = 10, \n",
    "                     text = \"Plot\") \n",
    "  \n",
    "# place the button  \n",
    "# in main window \n",
    "plot_button.pack() \n",
    "  \n",
    "# run the gui \n",
    "window.mainloop()"
   ]
  },
  {
   "cell_type": "code",
   "execution_count": null,
   "id": "013502f2",
   "metadata": {},
   "outputs": [],
   "source": []
  }
 ],
 "metadata": {
  "kernelspec": {
   "display_name": "Python 3 (ipykernel)",
   "language": "python",
   "name": "python3"
  },
  "language_info": {
   "codemirror_mode": {
    "name": "ipython",
    "version": 3
   },
   "file_extension": ".py",
   "mimetype": "text/x-python",
   "name": "python",
   "nbconvert_exporter": "python",
   "pygments_lexer": "ipython3",
   "version": "3.10.9"
  }
 },
 "nbformat": 4,
 "nbformat_minor": 5
}
