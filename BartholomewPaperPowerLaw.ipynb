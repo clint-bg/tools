{
  "cells": [
    {
      "cell_type": "markdown",
      "metadata": {
        "id": "view-in-github",
        "colab_type": "text"
      },
      "source": [
        "<a href=\"https://colab.research.google.com/github/clint-bg/tools/blob/main/BartholomewPaperPowerLaw.ipynb\" target=\"_parent\"><img src=\"https://colab.research.google.com/assets/colab-badge.svg\" alt=\"Open In Colab\"/></a>"
      ]
    },
    {
      "cell_type": "markdown",
      "id": "fdaae328-1a4d-48c3-b39f-6fb50d3f7750",
      "metadata": {
        "id": "fdaae328-1a4d-48c3-b39f-6fb50d3f7750"
      },
      "source": [
        "# Power Law Model from C. Bartholomew Paper\n",
        "\n",
        "---\n",
        "\n"
      ]
    },
    {
      "cell_type": "markdown",
      "source": [
        "Calvin Bartholomew and Gordon Weatherbee published a paper on Hydrogenation of CO2 on Group VIII Metals in the Journal of Catalysis, Volume 77, in 1982. The below writeup with calculations are intended to yield the parameters for a simple power law relationship that closely matches some of the data in the paper."
      ],
      "metadata": {
        "id": "4gpGxRMrcPCE"
      },
      "id": "4gpGxRMrcPCE"
    },
    {
      "cell_type": "code",
      "execution_count": 2,
      "id": "0a0672b0-344b-4fe2-b295-2cf69162ed0a",
      "metadata": {
        "id": "0a0672b0-344b-4fe2-b295-2cf69162ed0a"
      },
      "outputs": [],
      "source": [
        "#import needed packages\n",
        "import numpy as np\n",
        "import pandas as pd\n",
        "import matplotlib.pyplot as plt\n",
        "from scipy.optimize import minimize\n",
        "from scipy.optimize import fsolve\n",
        "import seaborn as sns"
      ]
    },
    {
      "cell_type": "markdown",
      "id": "55c2ac03",
      "metadata": {
        "id": "55c2ac03"
      },
      "source": [
        "## Reaction details"
      ]
    },
    {
      "cell_type": "markdown",
      "id": "966b8856",
      "metadata": {
        "id": "966b8856"
      },
      "source": [
        "Reaction:\n",
        "\n",
        "$CO_2 + 4 H_2 = CH_4 +2 H_2O$\n",
        "\n",
        "Five moles of stoichiometric inflow results in 3 moles of out flow when the reaction goes to completion. Conversion, $X_a$, is defined as \n",
        "\\begin{equation}\n",
        "X_a = (n_{in}^{CO2} - n_{out}^{CO2})/n_{in}^{CO2}.\n",
        "\\end{equation} You'll complete a mole balance on each species and then from there relate the conversion to the reaction rate. "
      ]
    },
    {
      "cell_type": "markdown",
      "source": [
        "You'll also solve for the rate in terms of the catalyst weight, the total inlet flow, and the exit mole fraction of methane. You'll also need to put the exit mole fraction of the reactants in terms of the conversion to solve for your reaction rate in the CSTR."
      ],
      "metadata": {
        "id": "1G8B9_ooIIV9"
      },
      "id": "1G8B9_ooIIV9"
    },
    {
      "cell_type": "markdown",
      "id": "c14097e7-61ea-421a-ba2f-c306b89a70b0",
      "metadata": {
        "tags": [],
        "id": "c14097e7-61ea-421a-ba2f-c306b89a70b0"
      },
      "source": [
        "## Paper Summary\n",
        "\"Hydrogenation of CO2 on Group VIII Metals,\" Journal of Catalysis, Volume 77, 1982."
      ]
    },
    {
      "cell_type": "code",
      "execution_count": 3,
      "id": "4e801330-6c47-4199-9159-42bceac30694",
      "metadata": {
        "id": "4e801330-6c47-4199-9159-42bceac30694"
      },
      "outputs": [],
      "source": [
        "sitesperkg = 2*100E-3 #moles/kg of catalyst as reported as 100 micromoles uptake of H2 per gram\n",
        "massB = 0.3e-3 #kg, they used 0.3 grams or about 1cc of catalyst\n",
        "density = 300 #kg/m3 per the paper where 1 cc is about 0.3 grams\n",
        "#space velocity is presumably the ratio of the flow rate at standard conditions to the catalyst volume\n",
        "GHSV = 30000/60 #min^-1 low of paper value of 30,000 to 90,000 hr^-1\n",
        "flowratesccmB = GHSV*1 #sccm\n",
        "pressureB = 140000 #Pa\n",
        "tempB = 525 #K\n",
        "Rg = 8.314 #J/mol/K\n",
        "#Turnover is the moles per moles of sites per second that are converted\n",
        "CH4TON_1 = np.array([1.6,1.9,2.15,2.3,2.45,2.58,2.6,2.8])*1E-3 #at 252C, 140kPa total pressure, 1.4kPa CO2, balance Nitrogen\n",
        "H2P_1=np.array([2.7,4.1,5.5,6.8,8.1,9.6,10.6,13.8]) #in kPa\n",
        "stoichamt_1 = np.array([min(each/4,1.4)*5 for each in H2P_1])\n",
        "CH4TON_2 = np.array([1.53,1.7,1.85,2.04,2.05,2.17,2.3,2.35,2.47])*1E-3 #at 252C, 140kPa total, 5.62kPa H2, balance N2\n",
        "CO2P_2 = np.array([0.25,0.45,0.55,0.8,1,1.35,1.6,2.1,2.75]) #in kPa\n",
        "stoichamt_2 = np.array([min(each,5.6/4)*5 for each in CO2P_2])\n"
      ]
    },
    {
      "cell_type": "code",
      "execution_count": 4,
      "id": "f05fd90e-0c62-4598-99b9-e832eb6dce8f",
      "metadata": {
        "colab": {
          "base_uri": "https://localhost:8080/",
          "height": 279
        },
        "id": "f05fd90e-0c62-4598-99b9-e832eb6dce8f",
        "outputId": "b6ef9f2c-3a3c-4128-a5a6-1bc6aec49a48"
      },
      "outputs": [
        {
          "output_type": "display_data",
          "data": {
            "text/plain": [
              "<Figure size 864x288 with 2 Axes>"
            ],
            "image/png": "[encoded data removed]"
          },
          "metadata": {
            "needs_background": "light"
          }
        }
      ],
      "source": [
        "#Reproduction (estimate) of Fig. 1 and 2 from the paper\n",
        "fig, (ax1, ax2) = plt.subplots(1, 2,figsize=(12,4))\n",
        "#fig.suptitle('Horizontally stacked subplots')\n",
        "ax1.scatter(H2P_1,CH4TON_1)\n",
        "ax2.scatter(CO2P_2,CH4TON_2)\n",
        "ax1.set(xlabel='H2 Partial Pressure, kPa')\n",
        "ax1.set(ylabel='CH4 Turnover, s^-1')\n",
        "ax2.set(xlabel='CO2 Partial Pressure, kPa')\n",
        "ax2.set(ylabel='CH4 Turnover, s^-1')\n",
        "ax1.grid()\n",
        "ax2.grid()\n",
        "plt.show()"
      ]
    },
    {
      "cell_type": "markdown",
      "id": "16da7f9b-fd91-4adb-8d6c-e3035f3df66f",
      "metadata": {
        "tags": [],
        "id": "16da7f9b-fd91-4adb-8d6c-e3035f3df66f"
      },
      "source": [
        "### Turnover to Reaction Rate"
      ]
    },
    {
      "cell_type": "code",
      "execution_count": 5,
      "id": "50a7ef5d-c77f-4f3f-b366-1379332915b2",
      "metadata": {
        "id": "50a7ef5d-c77f-4f3f-b366-1379332915b2"
      },
      "outputs": [],
      "source": [
        "ninB = flowratesccmB/(60*1e6)*(101325)/(Rg*(298)) #moles per second"
      ]
    },
    {
      "cell_type": "code",
      "execution_count": 6,
      "id": "2fe01c2e",
      "metadata": {
        "colab": {
          "base_uri": "https://localhost:8080/"
        },
        "id": "2fe01c2e",
        "outputId": "83edeb43-cc0d-4005-85b6-dbc2b6f6fb76"
      },
      "outputs": [
        {
          "output_type": "execute_result",
          "data": {
            "text/plain": [
              "500.0"
            ]
          },
          "metadata": {},
          "execution_count": 6
        }
      ],
      "source": [
        "flowratesccmB"
      ]
    },
    {
      "cell_type": "code",
      "execution_count": 7,
      "id": "867d90ad-eb38-4e80-8846-8793952dd767",
      "metadata": {
        "id": "867d90ad-eb38-4e80-8846-8793952dd767"
      },
      "outputs": [],
      "source": [
        "rateB_1 = CH4TON_1*sitesperkg #molCH4/kg/s\n",
        "rateB_2 = CH4TON_2*sitesperkg #molCH4/kg/s"
      ]
    },
    {
      "cell_type": "code",
      "execution_count": 8,
      "id": "cc0748d3-4573-4b3b-9fec-91ac8843f74b",
      "metadata": {
        "id": "cc0748d3-4573-4b3b-9fec-91ac8843f74b"
      },
      "outputs": [],
      "source": [
        "dd = {'rate(mol/kg/s)':np.append(rateB_1,rateB_2),'P_H2(kPa)':np.append(H2P_1,np.ones(9)*5.6),\n",
        "      'P_CO2(kPa)':np.append(np.ones(8)*1.4,CO2P_2),'T(K)':np.ones(17)*525,'Ptot(kPa)':np.ones(17)*140,\n",
        "      'source':['data']*17}"
      ]
    },
    {
      "cell_type": "code",
      "execution_count": 9,
      "id": "4c3204d1-4c15-4aa4-9a53-b20384b8e79b",
      "metadata": {
        "id": "4c3204d1-4c15-4aa4-9a53-b20384b8e79b"
      },
      "outputs": [],
      "source": [
        "df1 = pd.DataFrame(dd)"
      ]
    },
    {
      "cell_type": "code",
      "execution_count": 10,
      "id": "0ce3bd9a-cdac-49ca-bcc2-7f67a27f7da5",
      "metadata": {
        "id": "0ce3bd9a-cdac-49ca-bcc2-7f67a27f7da5"
      },
      "outputs": [],
      "source": [
        "df1['predicted']=1.56e5*np.exp(-89000/Rg/df1['T(K)'])*df1['P_H2(kPa)']**0.35*df1['P_CO2(kPa)']**0.2\n",
        "df1['SE']=(df1['predicted']-df1['rate(mol/kg/s)'])**2"
      ]
    },
    {
      "cell_type": "code",
      "execution_count": 11,
      "id": "b5e2eb3e-0453-48f9-84a8-278e721d77cc",
      "metadata": {
        "id": "b5e2eb3e-0453-48f9-84a8-278e721d77cc"
      },
      "outputs": [],
      "source": [
        "df2 = df1.copy()\n",
        "df2['source'] = 'power'\n",
        "df2['rate(mol/kg/s)']=df1['predicted']\n",
        "df=pd.concat([df1,df2])"
      ]
    },
    {
      "cell_type": "code",
      "execution_count": 12,
      "id": "192a805d-5f0b-422f-925c-c8bc087744b6",
      "metadata": {
        "colab": {
          "base_uri": "https://localhost:8080/",
          "height": 458
        },
        "id": "192a805d-5f0b-422f-925c-c8bc087744b6",
        "outputId": "5eb45934-798c-44b9-a5b8-7612b63fc86f"
      },
      "outputs": [
        {
          "output_type": "display_data",
          "data": {
            "text/plain": [
              "<Figure size 721.125x432 with 1 Axes>"
            ],
            "image/png": "[encoded data removed]"
          },
          "metadata": {
            "needs_background": "light"
          }
        }
      ],
      "source": [
        "a = sns.relplot(data=df,x='P_H2(kPa)',y='rate(mol/kg/s)',hue='P_CO2(kPa)',\n",
        "                s=100,style='source', palette='flare',aspect=12/8,height=6)\n",
        "#a.axes[0,0].set_ylim(0,40); \n",
        "a.set(title='Comparison between the Model and Experimental Result')\n",
        "plt.grid()\n",
        "plt.show()"
      ]
    },
    {
      "cell_type": "markdown",
      "source": [
        "The above plot shows some of the data from the paper (circles) versus the power law model estimated from the paper. The equation is:<br>\n",
        "$r = A\\cdot e^{-Ea/(R\\cdot T)}\\cdot P_{H2}^{m}\\cdot P_{CO2}^{n}$<br> with parameter values of:\n",
        "<table>\n",
        "        <tr>\n",
        "        <td>A</td><td>Ea, kJ/mol</td><td>m (H2)</td><td>n (CO2)</td>\n",
        "            </tr>\n",
        "    <tr>\n",
        "        <td>1.56E5</td><td>89</td><td>0.35</td><td>0.2</td>\n",
        "    </tr>\n",
        "</table>\n",
        "The resulting rate is moles of methane produced per kilogram of catalyst per second. The pressures are in units of kPa (gauge)."
      ],
      "metadata": {
        "id": "YZu1ZQJaow6F"
      },
      "id": "YZu1ZQJaow6F"
    },
    {
      "cell_type": "code",
      "execution_count": 12,
      "id": "24052332",
      "metadata": {
        "id": "24052332"
      },
      "outputs": [],
      "source": []
    }
  ],
  "metadata": {
    "kernelspec": {
      "display_name": "Python 3 (ipykernel)",
      "language": "python",
      "name": "python3"
    },
    "language_info": {
      "codemirror_mode": {
        "name": "ipython",
        "version": 3
      },
      "file_extension": ".py",
      "mimetype": "text/x-python",
      "name": "python",
      "nbconvert_exporter": "python",
      "pygments_lexer": "ipython3",
      "version": "3.9.12"
    },
    "colab": {
      "provenance": [],
      "include_colab_link": true
    }
  },
  "nbformat": 4,
  "nbformat_minor": 5
}